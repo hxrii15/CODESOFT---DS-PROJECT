{
  "cells": [
    {
      "cell_type": "code",
      "execution_count": null,
      "metadata": {
        "id": "WIj8OVgyRZJC"
      },
      "outputs": [],
      "source": [
        "import numpy as np\n",
        "import pandas as pd\n",
        "import matplotlib.pyplot as plt\n",
        "import seaborn as sns\n",
        "import plotly.express as px\n",
        "from sklearn.model_selection import train_test_split, cross_val_score\n",
        "from sklearn.ensemble import RandomForestRegressor\n",
        "from sklearn.metrics import mean_squared_error"
      ]
    },
    {
      "cell_type": "code",
      "execution_count": 8,
      "metadata": {
        "id": "ZE6h3vKfUjWd"
      },
      "outputs": [],
      "source": [
        "df_movie = pd.read_csv('/content/IMDb Movies India.csv', encoding='ISO-8859-1')"
      ]
    },
    {
      "cell_type": "code",
      "execution_count": null,
      "metadata": {
        "colab": {
          "base_uri": "https://localhost:8080/",
          "height": 206
        },
        "id": "DourNObZleI0",
        "outputId": "3714c792-8c4a-4263-bc5c-53745f477848"
      },
      "outputs": [
        {
          "data": {
            "application/vnd.google.colaboratory.intrinsic+json": {
              "summary": "{\n  \"name\": \"df_movie\",\n  \"rows\": 5659,\n  \"fields\": [\n    {\n      \"column\": \"Name\",\n      \"properties\": {\n        \"dtype\": \"string\",\n        \"num_unique_values\": 5385,\n        \"samples\": [\n          \"Railway Raju\",\n          \"Gambeeram\",\n          \"Hai Golmaal in White House\"\n        ],\n        \"semantic_type\": \"\",\n        \"description\": \"\"\n      }\n    },\n    {\n      \"column\": \"Year\",\n      \"properties\": {\n        \"dtype\": \"category\",\n        \"num_unique_values\": 91,\n        \"samples\": [\n          \"(1990)\",\n          \"(1974)\",\n          \"(1970)\"\n        ],\n        \"semantic_type\": \"\",\n        \"description\": \"\"\n      }\n    },\n    {\n      \"column\": \"Duration\",\n      \"properties\": {\n        \"dtype\": \"category\",\n        \"num_unique_values\": 174,\n        \"samples\": [\n          \"197 min\",\n          \"247 min\",\n          \"86 min\"\n        ],\n        \"semantic_type\": \"\",\n        \"description\": \"\"\n      }\n    },\n    {\n      \"column\": \"Genre\",\n      \"properties\": {\n        \"dtype\": \"category\",\n        \"num_unique_values\": 376,\n        \"samples\": [\n          \"Action, Romance, Drama\",\n          \"Comedy, Musical, Mystery\",\n          \"Musical, Comedy, Romance\"\n        ],\n        \"semantic_type\": \"\",\n        \"description\": \"\"\n      }\n    },\n    {\n      \"column\": \"Rating\",\n      \"properties\": {\n        \"dtype\": \"number\",\n        \"std\": 1.3811651416632527,\n        \"min\": 1.1,\n        \"max\": 10.0,\n        \"num_unique_values\": 83,\n        \"samples\": [\n          8.4,\n          7.0,\n          5.5\n        ],\n        \"semantic_type\": \"\",\n        \"description\": \"\"\n      }\n    },\n    {\n      \"column\": \"Votes\",\n      \"properties\": {\n        \"dtype\": \"category\",\n        \"num_unique_values\": 2027,\n        \"samples\": [\n          \"2,534\",\n          \"8,372\",\n          \"21,773\"\n        ],\n        \"semantic_type\": \"\",\n        \"description\": \"\"\n      }\n    },\n    {\n      \"column\": \"Director\",\n      \"properties\": {\n        \"dtype\": \"category\",\n        \"num_unique_values\": 2431,\n        \"samples\": [\n          \"Paresh Vinodray Savani\",\n          \"Ramesh Saigal\",\n          \"Omung Kumar\"\n        ],\n        \"semantic_type\": \"\",\n        \"description\": \"\"\n      }\n    },\n    {\n      \"column\": \"Actor 1\",\n      \"properties\": {\n        \"dtype\": \"category\",\n        \"num_unique_values\": 1960,\n        \"samples\": [\n          \"Mohan Kapur\",\n          \"Samir Aftab\",\n          \"Riya Deepsi\"\n        ],\n        \"semantic_type\": \"\",\n        \"description\": \"\"\n      }\n    },\n    {\n      \"column\": \"Actor 2\",\n      \"properties\": {\n        \"dtype\": \"category\",\n        \"num_unique_values\": 2321,\n        \"samples\": [\n          \"Arjun Fauzdar\",\n          \"Tara Deshpande\",\n          \"Saurabh Shukla\"\n        ],\n        \"semantic_type\": \"\",\n        \"description\": \"\"\n      }\n    },\n    {\n      \"column\": \"Actor 3\",\n      \"properties\": {\n        \"dtype\": \"category\",\n        \"num_unique_values\": 2556,\n        \"samples\": [\n          \"Reema Sen\",\n          \"Nitya Shetty\",\n          \"Siddharth\"\n        ],\n        \"semantic_type\": \"\",\n        \"description\": \"\"\n      }\n    }\n  ]\n}",
              "type": "dataframe",
              "variable_name": "df_movie"
            },
            "text/html": [
              "\n",
              "  <div id=\"df-2e5e2521-6ea1-4572-87e0-9c87f73ed5dd\" class=\"colab-df-container\">\n",
              "    <div>\n",
              "<style scoped>\n",
              "    .dataframe tbody tr th:only-of-type {\n",
              "        vertical-align: middle;\n",
              "    }\n",
              "\n",
              "    .dataframe tbody tr th {\n",
              "        vertical-align: top;\n",
              "    }\n",
              "\n",
              "    .dataframe thead th {\n",
              "        text-align: right;\n",
              "    }\n",
              "</style>\n",
              "<table border=\"1\" class=\"dataframe\">\n",
              "  <thead>\n",
              "    <tr style=\"text-align: right;\">\n",
              "      <th></th>\n",
              "      <th>Name</th>\n",
              "      <th>Year</th>\n",
              "      <th>Duration</th>\n",
              "      <th>Genre</th>\n",
              "      <th>Rating</th>\n",
              "      <th>Votes</th>\n",
              "      <th>Director</th>\n",
              "      <th>Actor 1</th>\n",
              "      <th>Actor 2</th>\n",
              "      <th>Actor 3</th>\n",
              "    </tr>\n",
              "  </thead>\n",
              "  <tbody>\n",
              "    <tr>\n",
              "      <th>1</th>\n",
              "      <td>#Gadhvi (He thought he was Gandhi)</td>\n",
              "      <td>(2019)</td>\n",
              "      <td>109 min</td>\n",
              "      <td>Drama</td>\n",
              "      <td>7.0</td>\n",
              "      <td>8</td>\n",
              "      <td>Gaurav Bakshi</td>\n",
              "      <td>Rasika Dugal</td>\n",
              "      <td>Vivek Ghamande</td>\n",
              "      <td>Arvind Jangid</td>\n",
              "    </tr>\n",
              "    <tr>\n",
              "      <th>3</th>\n",
              "      <td>#Yaaram</td>\n",
              "      <td>(2019)</td>\n",
              "      <td>110 min</td>\n",
              "      <td>Comedy, Romance</td>\n",
              "      <td>4.4</td>\n",
              "      <td>35</td>\n",
              "      <td>Ovais Khan</td>\n",
              "      <td>Prateik</td>\n",
              "      <td>Ishita Raj</td>\n",
              "      <td>Siddhant Kapoor</td>\n",
              "    </tr>\n",
              "    <tr>\n",
              "      <th>5</th>\n",
              "      <td>...Aur Pyaar Ho Gaya</td>\n",
              "      <td>(1997)</td>\n",
              "      <td>147 min</td>\n",
              "      <td>Comedy, Drama, Musical</td>\n",
              "      <td>4.7</td>\n",
              "      <td>827</td>\n",
              "      <td>Rahul Rawail</td>\n",
              "      <td>Bobby Deol</td>\n",
              "      <td>Aishwarya Rai Bachchan</td>\n",
              "      <td>Shammi Kapoor</td>\n",
              "    </tr>\n",
              "    <tr>\n",
              "      <th>6</th>\n",
              "      <td>...Yahaan</td>\n",
              "      <td>(2005)</td>\n",
              "      <td>142 min</td>\n",
              "      <td>Drama, Romance, War</td>\n",
              "      <td>7.4</td>\n",
              "      <td>1,086</td>\n",
              "      <td>Shoojit Sircar</td>\n",
              "      <td>Jimmy Sheirgill</td>\n",
              "      <td>Minissha Lamba</td>\n",
              "      <td>Yashpal Sharma</td>\n",
              "    </tr>\n",
              "    <tr>\n",
              "      <th>8</th>\n",
              "      <td>?: A Question Mark</td>\n",
              "      <td>(2012)</td>\n",
              "      <td>82 min</td>\n",
              "      <td>Horror, Mystery, Thriller</td>\n",
              "      <td>5.6</td>\n",
              "      <td>326</td>\n",
              "      <td>Allyson Patel</td>\n",
              "      <td>Yash Dave</td>\n",
              "      <td>Muntazir Ahmad</td>\n",
              "      <td>Kiran Bhatia</td>\n",
              "    </tr>\n",
              "  </tbody>\n",
              "</table>\n",
              "</div>\n",
              "    <div class=\"colab-df-buttons\">\n",
              "\n",
              "  <div class=\"colab-df-container\">\n",
              "    <button class=\"colab-df-convert\" onclick=\"convertToInteractive('df-2e5e2521-6ea1-4572-87e0-9c87f73ed5dd')\"\n",
              "            title=\"Convert this dataframe to an interactive table.\"\n",
              "            style=\"display:none;\">\n",
              "\n",
              "  <svg xmlns=\"http://www.w3.org/2000/svg\" height=\"24px\" viewBox=\"0 -960 960 960\">\n",
              "    <path d=\"M120-120v-720h720v720H120Zm60-500h600v-160H180v160Zm220 220h160v-160H400v160Zm0 220h160v-160H400v160ZM180-400h160v-160H180v160Zm440 0h160v-160H620v160ZM180-180h160v-160H180v160Zm440 0h160v-160H620v160Z\"/>\n",
              "  </svg>\n",
              "    </button>\n",
              "\n",
              "  <style>\n",
              "    .colab-df-container {\n",
              "      display:flex;\n",
              "      gap: 12px;\n",
              "    }\n",
              "\n",
              "    .colab-df-convert {\n",
              "      background-color: #E8F0FE;\n",
              "      border: none;\n",
              "      border-radius: 50%;\n",
              "      cursor: pointer;\n",
              "      display: none;\n",
              "      fill: #1967D2;\n",
              "      height: 32px;\n",
              "      padding: 0 0 0 0;\n",
              "      width: 32px;\n",
              "    }\n",
              "\n",
              "    .colab-df-convert:hover {\n",
              "      background-color: #E2EBFA;\n",
              "      box-shadow: 0px 1px 2px rgba(60, 64, 67, 0.3), 0px 1px 3px 1px rgba(60, 64, 67, 0.15);\n",
              "      fill: #174EA6;\n",
              "    }\n",
              "\n",
              "    .colab-df-buttons div {\n",
              "      margin-bottom: 4px;\n",
              "    }\n",
              "\n",
              "    [theme=dark] .colab-df-convert {\n",
              "      background-color: #3B4455;\n",
              "      fill: #D2E3FC;\n",
              "    }\n",
              "\n",
              "    [theme=dark] .colab-df-convert:hover {\n",
              "      background-color: #434B5C;\n",
              "      box-shadow: 0px 1px 3px 1px rgba(0, 0, 0, 0.15);\n",
              "      filter: drop-shadow(0px 1px 2px rgba(0, 0, 0, 0.3));\n",
              "      fill: #FFFFFF;\n",
              "    }\n",
              "  </style>\n",
              "\n",
              "    <script>\n",
              "      const buttonEl =\n",
              "        document.querySelector('#df-2e5e2521-6ea1-4572-87e0-9c87f73ed5dd button.colab-df-convert');\n",
              "      buttonEl.style.display =\n",
              "        google.colab.kernel.accessAllowed ? 'block' : 'none';\n",
              "\n",
              "      async function convertToInteractive(key) {\n",
              "        const element = document.querySelector('#df-2e5e2521-6ea1-4572-87e0-9c87f73ed5dd');\n",
              "        const dataTable =\n",
              "          await google.colab.kernel.invokeFunction('convertToInteractive',\n",
              "                                                    [key], {});\n",
              "        if (!dataTable) return;\n",
              "\n",
              "        const docLinkHtml = 'Like what you see? Visit the ' +\n",
              "          '<a target=\"_blank\" href=https://colab.research.google.com/notebooks/data_table.ipynb>data table notebook</a>'\n",
              "          + ' to learn more about interactive tables.';\n",
              "        element.innerHTML = '';\n",
              "        dataTable['output_type'] = 'display_data';\n",
              "        await google.colab.output.renderOutput(dataTable, element);\n",
              "        const docLink = document.createElement('div');\n",
              "        docLink.innerHTML = docLinkHtml;\n",
              "        element.appendChild(docLink);\n",
              "      }\n",
              "    </script>\n",
              "  </div>\n",
              "\n",
              "\n",
              "    <div id=\"df-65e3b21a-c90c-4c6a-a3b5-3474bbe4cb30\">\n",
              "      <button class=\"colab-df-quickchart\" onclick=\"quickchart('df-65e3b21a-c90c-4c6a-a3b5-3474bbe4cb30')\"\n",
              "                title=\"Suggest charts\"\n",
              "                style=\"display:none;\">\n",
              "\n",
              "<svg xmlns=\"http://www.w3.org/2000/svg\" height=\"24px\"viewBox=\"0 0 24 24\"\n",
              "     width=\"24px\">\n",
              "    <g>\n",
              "        <path d=\"M19 3H5c-1.1 0-2 .9-2 2v14c0 1.1.9 2 2 2h14c1.1 0 2-.9 2-2V5c0-1.1-.9-2-2-2zM9 17H7v-7h2v7zm4 0h-2V7h2v10zm4 0h-2v-4h2v4z\"/>\n",
              "    </g>\n",
              "</svg>\n",
              "      </button>\n",
              "\n",
              "<style>\n",
              "  .colab-df-quickchart {\n",
              "      --bg-color: #E8F0FE;\n",
              "      --fill-color: #1967D2;\n",
              "      --hover-bg-color: #E2EBFA;\n",
              "      --hover-fill-color: #174EA6;\n",
              "      --disabled-fill-color: #AAA;\n",
              "      --disabled-bg-color: #DDD;\n",
              "  }\n",
              "\n",
              "  [theme=dark] .colab-df-quickchart {\n",
              "      --bg-color: #3B4455;\n",
              "      --fill-color: #D2E3FC;\n",
              "      --hover-bg-color: #434B5C;\n",
              "      --hover-fill-color: #FFFFFF;\n",
              "      --disabled-bg-color: #3B4455;\n",
              "      --disabled-fill-color: #666;\n",
              "  }\n",
              "\n",
              "  .colab-df-quickchart {\n",
              "    background-color: var(--bg-color);\n",
              "    border: none;\n",
              "    border-radius: 50%;\n",
              "    cursor: pointer;\n",
              "    display: none;\n",
              "    fill: var(--fill-color);\n",
              "    height: 32px;\n",
              "    padding: 0;\n",
              "    width: 32px;\n",
              "  }\n",
              "\n",
              "  .colab-df-quickchart:hover {\n",
              "    background-color: var(--hover-bg-color);\n",
              "    box-shadow: 0 1px 2px rgba(60, 64, 67, 0.3), 0 1px 3px 1px rgba(60, 64, 67, 0.15);\n",
              "    fill: var(--button-hover-fill-color);\n",
              "  }\n",
              "\n",
              "  .colab-df-quickchart-complete:disabled,\n",
              "  .colab-df-quickchart-complete:disabled:hover {\n",
              "    background-color: var(--disabled-bg-color);\n",
              "    fill: var(--disabled-fill-color);\n",
              "    box-shadow: none;\n",
              "  }\n",
              "\n",
              "  .colab-df-spinner {\n",
              "    border: 2px solid var(--fill-color);\n",
              "    border-color: transparent;\n",
              "    border-bottom-color: var(--fill-color);\n",
              "    animation:\n",
              "      spin 1s steps(1) infinite;\n",
              "  }\n",
              "\n",
              "  @keyframes spin {\n",
              "    0% {\n",
              "      border-color: transparent;\n",
              "      border-bottom-color: var(--fill-color);\n",
              "      border-left-color: var(--fill-color);\n",
              "    }\n",
              "    20% {\n",
              "      border-color: transparent;\n",
              "      border-left-color: var(--fill-color);\n",
              "      border-top-color: var(--fill-color);\n",
              "    }\n",
              "    30% {\n",
              "      border-color: transparent;\n",
              "      border-left-color: var(--fill-color);\n",
              "      border-top-color: var(--fill-color);\n",
              "      border-right-color: var(--fill-color);\n",
              "    }\n",
              "    40% {\n",
              "      border-color: transparent;\n",
              "      border-right-color: var(--fill-color);\n",
              "      border-top-color: var(--fill-color);\n",
              "    }\n",
              "    60% {\n",
              "      border-color: transparent;\n",
              "      border-right-color: var(--fill-color);\n",
              "    }\n",
              "    80% {\n",
              "      border-color: transparent;\n",
              "      border-right-color: var(--fill-color);\n",
              "      border-bottom-color: var(--fill-color);\n",
              "    }\n",
              "    90% {\n",
              "      border-color: transparent;\n",
              "      border-bottom-color: var(--fill-color);\n",
              "    }\n",
              "  }\n",
              "</style>\n",
              "\n",
              "      <script>\n",
              "        async function quickchart(key) {\n",
              "          const quickchartButtonEl =\n",
              "            document.querySelector('#' + key + ' button');\n",
              "          quickchartButtonEl.disabled = true;  // To prevent multiple clicks.\n",
              "          quickchartButtonEl.classList.add('colab-df-spinner');\n",
              "          try {\n",
              "            const charts = await google.colab.kernel.invokeFunction(\n",
              "                'suggestCharts', [key], {});\n",
              "          } catch (error) {\n",
              "            console.error('Error during call to suggestCharts:', error);\n",
              "          }\n",
              "          quickchartButtonEl.classList.remove('colab-df-spinner');\n",
              "          quickchartButtonEl.classList.add('colab-df-quickchart-complete');\n",
              "        }\n",
              "        (() => {\n",
              "          let quickchartButtonEl =\n",
              "            document.querySelector('#df-65e3b21a-c90c-4c6a-a3b5-3474bbe4cb30 button');\n",
              "          quickchartButtonEl.style.display =\n",
              "            google.colab.kernel.accessAllowed ? 'block' : 'none';\n",
              "        })();\n",
              "      </script>\n",
              "    </div>\n",
              "\n",
              "    </div>\n",
              "  </div>\n"
            ],
            "text/plain": [
              "                                 Name    Year Duration  \\\n",
              "1  #Gadhvi (He thought he was Gandhi)  (2019)  109 min   \n",
              "3                             #Yaaram  (2019)  110 min   \n",
              "5                ...Aur Pyaar Ho Gaya  (1997)  147 min   \n",
              "6                           ...Yahaan  (2005)  142 min   \n",
              "8                  ?: A Question Mark  (2012)   82 min   \n",
              "\n",
              "                       Genre  Rating  Votes        Director          Actor 1  \\\n",
              "1                      Drama     7.0      8   Gaurav Bakshi     Rasika Dugal   \n",
              "3            Comedy, Romance     4.4     35      Ovais Khan          Prateik   \n",
              "5     Comedy, Drama, Musical     4.7    827    Rahul Rawail       Bobby Deol   \n",
              "6        Drama, Romance, War     7.4  1,086  Shoojit Sircar  Jimmy Sheirgill   \n",
              "8  Horror, Mystery, Thriller     5.6    326   Allyson Patel        Yash Dave   \n",
              "\n",
              "                  Actor 2          Actor 3  \n",
              "1          Vivek Ghamande    Arvind Jangid  \n",
              "3              Ishita Raj  Siddhant Kapoor  \n",
              "5  Aishwarya Rai Bachchan    Shammi Kapoor  \n",
              "6          Minissha Lamba   Yashpal Sharma  \n",
              "8          Muntazir Ahmad     Kiran Bhatia  "
            ]
          },
          "execution_count": 4,
          "metadata": {},
          "output_type": "execute_result"
        }
      ],
      "source": [
        "df_movie.head()"
      ]
    },
    {
      "cell_type": "code",
      "execution_count": 18,
      "metadata": {
        "colab": {
          "base_uri": "https://localhost:8080/"
        },
        "id": "YzmgWbtTl5Wy",
        "outputId": "74b5a6ea-7f16-4bcd-e810-b4706026cc7f"
      },
      "outputs": [
        {
          "data": {
            "text/plain": [
              "(5659, 10)"
            ]
          },
          "execution_count": 18,
          "metadata": {},
          "output_type": "execute_result"
        }
      ],
      "source": [
        "# Display the number of rows and columns in the DataFrame 'df_movie'.\n",
        "df_movie.shape"
      ]
    },
    {
      "cell_type": "code",
      "execution_count": null,
      "metadata": {
        "colab": {
          "base_uri": "https://localhost:8080/"
        },
        "id": "ZVgXilqKnzYV",
        "outputId": "c8e5ef94-3d28-43b9-82f8-55c3b697aee2"
      },
      "outputs": [
        {
          "name": "stdout",
          "output_type": "stream",
          "text": [
            "<class 'pandas.core.frame.DataFrame'>\n",
            "Index: 5659 entries, 1 to 15508\n",
            "Data columns (total 10 columns):\n",
            " #   Column    Non-Null Count  Dtype  \n",
            "---  ------    --------------  -----  \n",
            " 0   Name      5659 non-null   object \n",
            " 1   Year      5659 non-null   object \n",
            " 2   Duration  5659 non-null   object \n",
            " 3   Genre     5659 non-null   object \n",
            " 4   Rating    5659 non-null   float64\n",
            " 5   Votes     5659 non-null   object \n",
            " 6   Director  5659 non-null   object \n",
            " 7   Actor 1   5659 non-null   object \n",
            " 8   Actor 2   5659 non-null   object \n",
            " 9   Actor 3   5659 non-null   object \n",
            "dtypes: float64(1), object(9)\n",
            "memory usage: 486.3+ KB\n"
          ]
        }
      ],
      "source": [
        "df_movie.info()"
      ]
    },
    {
      "cell_type": "code",
      "execution_count": 17,
      "metadata": {
        "colab": {
          "base_uri": "https://localhost:8080/",
          "height": 398
        },
        "id": "y_-2zWZjqA-e",
        "outputId": "75d2c709-6375-49c2-d428-b28ed8d408ab"
      },
      "outputs": [
        {
          "data": {
            "text/html": [
              "<div>\n",
              "<style scoped>\n",
              "    .dataframe tbody tr th:only-of-type {\n",
              "        vertical-align: middle;\n",
              "    }\n",
              "\n",
              "    .dataframe tbody tr th {\n",
              "        vertical-align: top;\n",
              "    }\n",
              "\n",
              "    .dataframe thead th {\n",
              "        text-align: right;\n",
              "    }\n",
              "</style>\n",
              "<table border=\"1\" class=\"dataframe\">\n",
              "  <thead>\n",
              "    <tr style=\"text-align: right;\">\n",
              "      <th></th>\n",
              "      <th>0</th>\n",
              "    </tr>\n",
              "  </thead>\n",
              "  <tbody>\n",
              "    <tr>\n",
              "      <th>Name</th>\n",
              "      <td>0</td>\n",
              "    </tr>\n",
              "    <tr>\n",
              "      <th>Year</th>\n",
              "      <td>0</td>\n",
              "    </tr>\n",
              "    <tr>\n",
              "      <th>Duration</th>\n",
              "      <td>0</td>\n",
              "    </tr>\n",
              "    <tr>\n",
              "      <th>Genre</th>\n",
              "      <td>0</td>\n",
              "    </tr>\n",
              "    <tr>\n",
              "      <th>Rating</th>\n",
              "      <td>0</td>\n",
              "    </tr>\n",
              "    <tr>\n",
              "      <th>Votes</th>\n",
              "      <td>0</td>\n",
              "    </tr>\n",
              "    <tr>\n",
              "      <th>Director</th>\n",
              "      <td>0</td>\n",
              "    </tr>\n",
              "    <tr>\n",
              "      <th>Actor 1</th>\n",
              "      <td>0</td>\n",
              "    </tr>\n",
              "    <tr>\n",
              "      <th>Actor 2</th>\n",
              "      <td>0</td>\n",
              "    </tr>\n",
              "    <tr>\n",
              "      <th>Actor 3</th>\n",
              "      <td>0</td>\n",
              "    </tr>\n",
              "  </tbody>\n",
              "</table>\n",
              "</div><br><label><b>dtype:</b> int64</label>"
            ],
            "text/plain": [
              "Name        0\n",
              "Year        0\n",
              "Duration    0\n",
              "Genre       0\n",
              "Rating      0\n",
              "Votes       0\n",
              "Director    0\n",
              "Actor 1     0\n",
              "Actor 2     0\n",
              "Actor 3     0\n",
              "dtype: int64"
            ]
          },
          "execution_count": 17,
          "metadata": {},
          "output_type": "execute_result"
        }
      ],
      "source": [
        "# Count and display the number of missing (null/NaN) values in each column of the 'df_movie' DataFrame.\n",
        "df_movie.isnull().sum()"
      ]
    },
    {
      "cell_type": "code",
      "execution_count": 16,
      "metadata": {
        "colab": {
          "base_uri": "https://localhost:8080/"
        },
        "id": "uPbe6AceBdWA",
        "outputId": "6956cec0-d9eb-444d-e023-2d1b6d014788"
      },
      "outputs": [
        {
          "data": {
            "text/plain": [
              "np.int64(0)"
            ]
          },
          "execution_count": 16,
          "metadata": {},
          "output_type": "execute_result"
        }
      ],
      "source": [
        "#Count the total number of duplicate rows in the 'df_movie' DataFrame.\n",
        "df_movie.duplicated().sum()"
      ]
    },
    {
      "cell_type": "code",
      "execution_count": 15,
      "metadata": {
        "id": "0mRaNHIPBoD9"
      },
      "outputs": [],
      "source": [
        "# Remove all rows from the 'df_movie' DataFrame that contain any missing (NaN) values.\n",
        "df_movie.dropna(inplace= True)"
      ]
    },
    {
      "cell_type": "code",
      "execution_count": 14,
      "metadata": {
        "colab": {
          "base_uri": "https://localhost:8080/"
        },
        "id": "76Ndmo5oCEL4",
        "outputId": "c65e2e24-f7d1-4352-fb94-b37cc9ea39ec"
      },
      "outputs": [
        {
          "data": {
            "text/plain": [
              "(5659, 10)"
            ]
          },
          "execution_count": 14,
          "metadata": {},
          "output_type": "execute_result"
        }
      ],
      "source": [
        "# Show the new shape of the 'df_movie' DataFrame after dropping rows with missing values.\n",
        "df_movie.shape"
      ]
    },
    {
      "cell_type": "code",
      "execution_count": 19,
      "metadata": {
        "colab": {
          "base_uri": "https://localhost:8080/",
          "height": 398
        },
        "id": "a3HEYqmVCJGu",
        "outputId": "7d36ae86-d3f0-49de-d827-f000bc231cbc"
      },
      "outputs": [
        {
          "data": {
            "text/html": [
              "<div>\n",
              "<style scoped>\n",
              "    .dataframe tbody tr th:only-of-type {\n",
              "        vertical-align: middle;\n",
              "    }\n",
              "\n",
              "    .dataframe tbody tr th {\n",
              "        vertical-align: top;\n",
              "    }\n",
              "\n",
              "    .dataframe thead th {\n",
              "        text-align: right;\n",
              "    }\n",
              "</style>\n",
              "<table border=\"1\" class=\"dataframe\">\n",
              "  <thead>\n",
              "    <tr style=\"text-align: right;\">\n",
              "      <th></th>\n",
              "      <th>0</th>\n",
              "    </tr>\n",
              "  </thead>\n",
              "  <tbody>\n",
              "    <tr>\n",
              "      <th>Name</th>\n",
              "      <td>0</td>\n",
              "    </tr>\n",
              "    <tr>\n",
              "      <th>Year</th>\n",
              "      <td>0</td>\n",
              "    </tr>\n",
              "    <tr>\n",
              "      <th>Duration</th>\n",
              "      <td>0</td>\n",
              "    </tr>\n",
              "    <tr>\n",
              "      <th>Genre</th>\n",
              "      <td>0</td>\n",
              "    </tr>\n",
              "    <tr>\n",
              "      <th>Rating</th>\n",
              "      <td>0</td>\n",
              "    </tr>\n",
              "    <tr>\n",
              "      <th>Votes</th>\n",
              "      <td>0</td>\n",
              "    </tr>\n",
              "    <tr>\n",
              "      <th>Director</th>\n",
              "      <td>0</td>\n",
              "    </tr>\n",
              "    <tr>\n",
              "      <th>Actor 1</th>\n",
              "      <td>0</td>\n",
              "    </tr>\n",
              "    <tr>\n",
              "      <th>Actor 2</th>\n",
              "      <td>0</td>\n",
              "    </tr>\n",
              "    <tr>\n",
              "      <th>Actor 3</th>\n",
              "      <td>0</td>\n",
              "    </tr>\n",
              "  </tbody>\n",
              "</table>\n",
              "</div><br><label><b>dtype:</b> int64</label>"
            ],
            "text/plain": [
              "Name        0\n",
              "Year        0\n",
              "Duration    0\n",
              "Genre       0\n",
              "Rating      0\n",
              "Votes       0\n",
              "Director    0\n",
              "Actor 1     0\n",
              "Actor 2     0\n",
              "Actor 3     0\n",
              "dtype: int64"
            ]
          },
          "execution_count": 19,
          "metadata": {},
          "output_type": "execute_result"
        }
      ],
      "source": [
        "#count and display the number of missing values.\n",
        "df_movie.isnull().sum()"
      ]
    },
    {
      "cell_type": "code",
      "execution_count": 20,
      "metadata": {
        "colab": {
          "base_uri": "https://localhost:8080/"
        },
        "id": "Z-uJb749CTtT",
        "outputId": "56c110a7-55bd-4839-caf9-efcddfe84c30"
      },
      "outputs": [
        {
          "data": {
            "text/plain": [
              "Index(['Name', 'Year', 'Duration', 'Genre', 'Rating', 'Votes', 'Director',\n",
              "       'Actor 1', 'Actor 2', 'Actor 3'],\n",
              "      dtype='object')"
            ]
          },
          "execution_count": 20,
          "metadata": {},
          "output_type": "execute_result"
        }
      ],
      "source": [
        "df_movie.columns"
      ]
    },
    {
      "cell_type": "markdown",
      "metadata": {
        "id": "-CIdEam1CdDP"
      },
      "source": [
        "**DATA PREPROCESSING**"
      ]
    },
    {
      "cell_type": "code",
      "execution_count": 21,
      "metadata": {
        "id": "1BchFXd3CbPn"
      },
      "outputs": [],
      "source": [
        "# Remove parentheses from the 'Year' column and convert it to integer type\n",
        "df_movie['Year']= df_movie['Year'].str.replace(r'[()]','',regex=True).astype(int)"
      ]
    },
    {
      "cell_type": "code",
      "execution_count": 22,
      "metadata": {
        "id": "H8WvcLn-DEtf"
      },
      "outputs": [],
      "source": [
        "# Remove 'min' from 'Duration' column and convert it to numeric type\n",
        "df_movie['Duration'] = pd.to_numeric(df_movie['Duration'].str.replace('min',''))"
      ]
    },
    {
      "cell_type": "code",
      "execution_count": null,
      "metadata": {
        "colab": {
          "base_uri": "https://localhost:8080/"
        },
        "id": "8-8UdCqHELfE",
        "outputId": "a6481f2c-6202-42ba-8b06-197ab97e3607"
      },
      "outputs": [
        {
          "name": "stderr",
          "output_type": "stream",
          "text": [
            "/tmp/ipython-input-27-3675005055.py:8: FutureWarning: A value is trying to be set on a copy of a DataFrame or Series through chained assignment using an inplace method.\n",
            "The behavior will change in pandas 3.0. This inplace method will never work because the intermediate object on which we are setting values always behaves as a copy.\n",
            "\n",
            "For example, when doing 'df[col].method(value, inplace=True)', try using 'df.method({col: value}, inplace=True)' or df[col] = df[col].method(value) instead, to perform the operation inplace on the original object.\n",
            "\n",
            "\n",
            "  df_movie['Genre'].fillna(df_movie['Genre'].mode()[0], inplace=True)\n"
          ]
        }
      ],
      "source": [
        "# Step 1: Split the 'Genre' column into lists\n",
        "df_movie['Genre'] = df_movie['Genre'].str.split(', ')\n",
        "\n",
        "# Step 2: Explode the lists into separate rows\n",
        "df_movie = df_movie.explode('Genre')\n",
        "\n",
        "# Step 3: Fill any missing 'Genre' values with the most frequent one\n",
        "df_movie['Genre'].fillna(df_movie['Genre'].mode()[0], inplace=True)\n"
      ]
    },
    {
      "cell_type": "code",
      "execution_count": 23,
      "metadata": {
        "id": "G_ZBNOzsFKIs"
      },
      "outputs": [],
      "source": [
        "# Remove commas from the 'Votes' column and convert it to numeric type\n",
        "df_movie['Votes']=pd.to_numeric(df_movie['Votes'].str.replace(',', ''))"
      ]
    },
    {
      "cell_type": "code",
      "execution_count": 24,
      "metadata": {
        "colab": {
          "base_uri": "https://localhost:8080/"
        },
        "id": "MGMw8WdJFoKL",
        "outputId": "03cce51f-68c3-4ceb-8b21-b952b4eaf292"
      },
      "outputs": [
        {
          "name": "stdout",
          "output_type": "stream",
          "text": [
            "<class 'pandas.core.frame.DataFrame'>\n",
            "Index: 5659 entries, 1 to 15508\n",
            "Data columns (total 10 columns):\n",
            " #   Column    Non-Null Count  Dtype  \n",
            "---  ------    --------------  -----  \n",
            " 0   Name      5659 non-null   object \n",
            " 1   Year      5659 non-null   int64  \n",
            " 2   Duration  5659 non-null   int64  \n",
            " 3   Genre     5659 non-null   object \n",
            " 4   Rating    5659 non-null   float64\n",
            " 5   Votes     5659 non-null   int64  \n",
            " 6   Director  5659 non-null   object \n",
            " 7   Actor 1   5659 non-null   object \n",
            " 8   Actor 2   5659 non-null   object \n",
            " 9   Actor 3   5659 non-null   object \n",
            "dtypes: float64(1), int64(3), object(6)\n",
            "memory usage: 486.3+ KB\n"
          ]
        }
      ],
      "source": [
        "# Display updated summary info of 'df_movie' including column types and non-null counts\n",
        "df_movie.info()"
      ]
    },
    {
      "cell_type": "markdown",
      "metadata": {
        "id": "uMFQQQtjGCTo"
      },
      "source": [
        "**DATA VISUALIZATION**"
      ]
    },
    {
      "cell_type": "code",
      "execution_count": 25,
      "metadata": {
        "colab": {
          "base_uri": "https://localhost:8080/",
          "height": 542
        },
        "id": "kooKTq1EFrb6",
        "outputId": "7cfb4719-1f46-4c13-ca24-d8642b02d768"
      },
      "outputs": [
        {
          "data": {
            "text/html": [
              "<html>\n",
              "<head><meta charset=\"utf-8\" /></head>\n",
              "<body>\n",
              "    <div>            <script src=\"https://cdnjs.cloudflare.com/ajax/libs/mathjax/2.7.5/MathJax.js?config=TeX-AMS-MML_SVG\"></script><script type=\"text/javascript\">if (window.MathJax && window.MathJax.Hub && window.MathJax.Hub.Config) {window.MathJax.Hub.Config({SVG: {font: \"STIX-Web\"}});}</script>                <script type=\"text/javascript\">window.PlotlyConfig = {MathJaxConfig: 'local'};</script>\n",
              "        <script charset=\"utf-8\" src=\"https://cdn.plot.ly/plotly-2.35.2.min.js\"></script>                <div id=\"d23d8154-5d52-4dca-bcb4-d2f6ebf471a6\" class=\"plotly-graph-div\" style=\"height:525px; width:100%;\"></div>            <script type=\"text/javascript\">                                    window.PLOTLYENV=window.PLOTLYENV || {};                                    if (document.getElementById(\"d23d8154-5d52-4dca-bcb4-d2f6ebf471a6\")) {                    Plotly.newPlot(                        \"d23d8154-5d52-4dca-bcb4-d2f6ebf471a6\",                        [{\"alignmentgroup\":\"True\",\"bingroup\":\"x\",\"histnorm\":\"probability density\",\"hovertemplate\":\"Year=%{x}\\u003cbr\\u003eprobability density=%{y}\\u003cextra\\u003e\\u003c\\u002fextra\\u003e\",\"legendgroup\":\"\",\"marker\":{\"color\":\"#636efa\",\"pattern\":{\"shape\":\"\"}},\"name\":\"\",\"nbinsx\":30,\"offsetgroup\":\"\",\"orientation\":\"v\",\"showlegend\":false,\"x\":[2019,2019,1997,2005,2012,2014,2004,2016,1991,2012,2018,2010,1958,2021,2017,2009,2005,1993,2002,2014,2004,2008,2016,2012,2018,1994,2007,2019,2017,2012,2003,2014,2018,1998,2017,2018,1979,2019,2002,1974,2014,2012,2003,2019,2009,2018,2015,2015,2006,1981,2020,2019,1985,2013,2019,2011,2016,2012,2012,1974,2011,2014,2007,2005,1988,2016,2006,2011,1987,2019,2019,2009,2021,2003,2017,2009,2019,2005,2016,2017,2016,2005,2010,2016,2020,2017,2019,2013,2013,2016,2005,2019,2008,1999,2018,2009,1973,1994,2017,2016,2004,1968,2018,1982,1977,2019,1982,2013,1950,1968,1993,1991,1969,1993,2009,1977,2016,1977,1948,1994,1994,1987,1990,1993,1988,1989,2001,2009,2000,1953,1978,1993,1977,1987,1963,2003,1990,1985,1992,1976,2000,1991,1984,1988,1990,1984,1993,2007,1968,1986,1988,1989,1989,1989,1979,1966,1990,1997,1975,1980,2010,2012,2001,2007,2018,2001,2008,1967,1982,1984,1970,2004,2003,1980,1975,1985,1952,1990,2019,1993,2002,1972,1970,1994,2009,1971,1976,1974,1977,2006,1964,2002,1980,1981,2003,1985,1997,2011,1974,1954,1962,2007,1999,1957,1980,2010,1962,2001,2005,1977,1990,2013,2011,1968,2014,2018,2009,1984,1965,1992,1993,1966,1997,1996,1995,2006,1979,1994,2006,2013,1998,1974,1956,1964,1999,1966,2011,1995,1984,1957,2012,1995,2004,2015,1994,2004,2004,2013,1980,1955,1995,1977,1968,1973,1991,1989,1970,1984,2010,1973,1998,1936,2009,2019,2014,2010,2010,1958,1976,1965,1954,2001,2007,2010,1983,1955,1990,2017,1983,2019,1978,1980,1985,2016,2004,1997,1986,1966,1951,2001,1991,1950,2014,1983,1972,1977,2012,1985,1988,1997,1990,1990,2012,1997,1981,1996,1997,2000,2002,1980,2009,2019,1995,1979,1981,2006,1979,2016,2015,2010,1996,2009,1985,2004,2018,2012,2012,2009,2017,1974,1996,2021,2017,2001,1991,2004,2020,2013,1965,1991,1979,2014,1995,1999,2002,1989,2001,2006,2017,1977,1952,2009,1985,2006,2019,1973,1979,2001,1951,1980,2019,2019,1966,1954,1977,2017,1953,2015,2015,2020,1984,2009,2010,1997,1986,2015,2011,1994,1967,2016,1975,1954,1958,1936,1972,2020,1961,1978,1977,2019,1990,1952,2013,2001,1974,1990,2014,1986,2001,2021,1966,1986,2005,1967,2016,2017,1973,1971,1952,1977,1959,1993,1975,1999,1953,2016,2003,1949,1971,1994,1994,1990,1985,1983,2018,1975,1986,1984,1995,1992,1996,1998,2011,1982,2005,1995,2020,2015,1960,1952,1973,1967,1987,1994,1969,2010,2005,1969,2003,2009,1985,2006,1968,2013,1997,2013,1974,1986,1993,1946,1982,1978,2016,1971,1992,1975,1989,1982,1972,2000,2006,1948,1973,1968,1962,2002,1969,2008,1991,2021,1994,2006,1971,2003,1966,1972,1960,2006,1977,2007,2015,1993,2005,2010,2007,1960,2006,1977,2007,1996,1975,1980,1975,1972,1974,1957,1964,1969,1994,1983,1985,2001,1999,2019,2012,1953,2003,1996,2010,1967,1983,1982,2019,1978,1988,2006,1950,1965,2004,2012,2018,1984,1993,1952,2017,2010,2018,2001,1986,1962,2000,2020,2012,2018,2020,2005,2007,1990,1978,2020,2010,2020,2013,1968,1993,1998,1979,2007,2013,1940,1967,1988,1998,2016,2010,1997,1978,1987,1986,2017,1983,1951,1990,1984,1964,2002,2007,2020,2016,2019,1969,1982,1964,1991,2000,2001,1955,1978,1990,1940,2016,2017,2012,2017,2021,2018,2009,2006,1999,2017,2000,2016,2018,2020,1990,2001,2017,2019,2015,1990,1955,2016,2017,1957,2018,2012,1986,2013,1962,1953,2003,2018,1951,1968,1984,1995,1993,1972,2014,1985,1950,1986,1985,2017,2015,2008,2005,2008,1970,2017,1984,2003,2009,1973,1951,1966,2000,1978,1983,1999,1989,1998,2018,2002,1987,1993,1969,1945,1986,1974,2019,1980,2015,2014,1982,2010,1998,2016,2015,2019,1971,2017,2013,1989,1982,1938,2003,2019,1990,1951,1966,1967,1968,2019,1941,1967,1965,1985,1964,1954,2020,1952,2021,2013,2015,1976,2015,1996,2015,2017,2019,1985,1971,1976,2012,2017,1968,1992,2014,1968,2020,2006,2009,1997,1973,1962,2010,1990,1998,1969,1983,1973,1992,1957,1963,1955,1980,1994,2013,2014,2015,1991,2016,2017,2021,1950,1955,2009,2005,2004,2015,2012,1959,2015,1976,1998,2019,1949,1995,1981,1960,1998,2006,2001,1942,1960,1956,1981,2019,1979,2019,2018,1989,2000,1972,1950,1949,1982,2014,2011,1993,1993,2013,1962,1989,2016,2017,2017,2005,2016,1972,1983,1992,1982,1974,1999,1964,2001,2010,1985,1980,1981,1978,2013,1992,1983,1997,1994,1969,1964,1952,1995,2005,1985,1992,2017,2014,1960,2015,2013,2017,1982,2015,2015,2013,2018,1991,1957,1961,2018,2013,1956,2006,2001,2005,2005,1986,1970,1985,1994,1997,1969,1997,1972,2000,1959,1956,2001,1994,1996,1980,1979,1976,2001,2017,2017,2017,2020,1976,2017,2019,2002,1942,2017,1985,2018,2010,1981,1998,1988,2003,1982,1965,2007,2011,1935,2011,2016,2012,2018,1984,2001,1958,2007,2017,2003,2010,1965,1999,2012,2020,2014,2008,1963,1999,2014,2011,2018,2016,1989,2011,1977,1969,2000,1974,1937,2007,2012,2000,1982,1989,2009,2018,1963,2011,1980,2013,1984,2001,2017,1966,1954,2017,2019,2012,1966,1988,1999,1981,2005,2008,1959,2004,2015,1971,2020,2019,1973,2005,2018,2019,2012,2009,2017,2009,2013,1963,2005,1973,2014,2005,2011,2017,2012,1992,2016,2016,2014,2011,2009,1993,1960,2019,1980,1998,2019,2013,2008,1972,2015,2001,2003,2001,1954,1997,2002,2013,2021,1965,1961,2018,1968,2010,2011,2015,2004,2018,2015,2001,2011,2017,2016,2007,1971,2016,1966,2000,2020,2018,2014,1976,2005,2013,2012,2010,2015,2020,2005,2005,2019,2008,2005,1956,1967,2019,2013,2003,2015,2000,2017,2007,1986,1991,2020,1986,1971,2009,2019,2007,2009,2015,2012,2001,1996,2005,1989,2003,2012,1994,1977,2012,1985,2016,2014,1977,1997,2019,2004,2007,2007,1977,1981,2012,2012,1978,2014,2009,2015,2000,2012,1977,2011,2003,2016,2012,2011,2002,1977,2003,1976,1958,2020,1992,2003,1986,2008,2000,2019,2010,1959,1965,2005,2006,1967,2005,1969,1999,1967,1989,2001,1948,1993,2007,1935,1984,2002,1957,1980,1961,1955,1975,1976,2004,1974,2015,2010,2013,1981,1983,2011,2017,1994,2014,2018,2007,2017,2015,2005,1981,1992,1965,2013,1970,2005,1981,1977,2020,1960,2020,2019,1952,1961,2019,2007,2012,2013,2016,2013,2019,1998,1996,1961,1996,1959,1971,1976,1967,2001,2016,2019,2005,2018,2016,2014,2011,1998,1962,2015,2006,2006,2009,2020,2016,2019,1976,2011,2012,2005,2020,2000,2019,1993,2015,1954,2013,2002,1974,1990,1977,1956,2003,1972,2001,1975,1982,1980,1975,2003,2020,2019,1974,1997,2016,2006,1975,2003,2003,2015,2014,2010,2020,1989,2010,2013,2016,2012,2015,2008,2006,2020,1988,2013,2017,2019,2002,1974,1986,2021,2008,2020,2009,1983,1995,1991,2020,2006,1992,2014,2020,2000,2011,2016,2014,1994,2010,2016,1992,2011,2019,2005,2021,1997,1966,1953,1952,1973,1999,1964,2012,2005,2018,1997,2019,2014,2010,2010,2012,2019,1987,1979,1999,1980,2017,2009,2017,1975,2015,1998,1950,1999,1986,1977,2000,2000,2000,1993,2011,1978,2011,1993,1985,1987,1997,1995,1991,1998,2016,2012,2019,2005,2018,1996,2020,2020,1982,2005,1988,2019,2019,2007,1997,2003,2006,1949,1970,1993,2014,1978,2002,2006,2008,2018,1972,1996,1970,1950,2008,2001,1997,1982,1992,2013,1975,1988,2017,2016,2013,2009,2019,2008,2016,2006,2016,2017,2018,2014,2016,1987,2014,1992,1951,2001,1976,1975,1992,2013,1997,1990,1987,2000,2005,2002,2007,2009,1957,2014,1985,2018,2011,2011,2012,2009,2012,2012,2007,2002,1980,2008,1982,1991,2011,2014,1958,2015,2009,2004,2009,2005,1966,1978,2002,1936,1955,2002,2019,2004,2019,2019,1956,1998,2018,2000,1997,2018,2000,2006,2007,1973,1980,2007,1993,1981,2008,2016,1975,1991,2015,1977,1992,1986,1997,1975,1961,2011,1950,2017,2001,2020,2010,2007,2007,1951,1979,1959,2004,2006,2013,2008,2009,2003,1975,1989,1981,2002,1973,2003,2019,1982,1940,2012,1989,1991,1990,1992,1978,1968,2020,2009,2001,1959,2015,1974,1966,2006,2007,1963,1993,1991,2002,1963,1992,2005,2017,2018,1992,2003,2014,2008,2005,1993,1999,2004,2004,1967,2003,2000,2016,1998,1993,1962,1996,1997,2011,2016,1987,2002,1982,1994,1977,1953,1987,1996,1947,1999,1966,2015,1950,1986,1994,2015,1995,1980,2016,2015,1982,1990,2014,2016,1984,1993,1967,1976,1957,1980,1969,1953,1971,2015,1982,2010,1968,1972,1975,1968,2009,2016,1978,1974,1998,1958,1974,1980,1989,1969,1971,1977,1959,1988,2014,2017,2004,1940,1969,1998,2015,2019,2019,2006,1978,2011,2008,2016,2006,1990,2017,1964,1971,1964,2020,1977,1983,2006,2007,1974,1989,1964,1986,2019,2005,2005,2011,2018,2015,2014,1947,1999,2013,1931,2014,2019,2009,2013,1990,2015,2019,1994,1992,2003,1994,2015,1949,1964,2010,2016,1967,2000,1977,1998,2003,2015,2011,1984,1979,1937,2015,2010,1998,2002,1983,2002,2020,2007,1966,1976,2010,1998,1990,1957,1996,1992,1995,1971,1973,2009,1998,2014,2012,2001,2019,1994,1989,2001,2019,1946,2018,1972,2005,2000,2003,1981,1986,1978,1983,1980,1980,2020,1972,1986,2007,2002,1985,1985,1963,2003,1989,1990,1981,1957,1991,2017,1972,2004,1981,1993,1992,1983,1968,2005,2007,1992,2019,1986,2012,1970,1990,1971,2015,1986,1960,1969,1968,1963,1957,2020,1965,1976,2004,2009,1969,2000,2015,2018,1996,2012,2013,1949,2009,2008,2009,1956,2012,2018,2014,2007,2019,2019,1994,1971,2005,1947,2008,1984,2005,2002,2020,2012,2003,2007,2018,2001,2020,2015,2011,1985,2019,2013,1976,1988,2019,2019,2006,2017,2016,2006,1975,1965,1983,1996,2005,1977,1967,1989,1957,2008,2009,2019,1933,1943,2012,2021,1963,2016,2012,1954,2016,2004,1981,2006,2002,1983,2005,2012,2019,2014,2008,2017,1996,2013,2021,2010,2013,2015,1991,1990,2016,2000,2014,2017,2021,2016,2007,2007,1953,2020,2003,2011,2016,2007,1959,2015,2012,2009,2019,2016,2016,2018,1980,2008,2007,2009,2018,2016,2014,2013,2020,2017,1960,2005,2012,2017,1973,1966,2015,2007,2001,1995,2006,1999,1989,2000,2004,2012,2009,1978,2004,1971,1995,1993,2011,2007,2017,2017,2018,1982,2011,2007,2016,2016,1986,2000,2014,2016,2006,1980,1978,1983,1988,2003,2013,2012,2006,1984,2018,1972,2005,1955,1972,2005,2018,1993,1974,2011,2014,1968,2007,2016,1979,2002,1989,2004,1992,1975,1993,1980,1973,2002,1986,2018,1989,1985,2008,2013,1978,1963,1998,1985,1984,1988,1970,2004,1990,1992,1989,1967,1987,1948,1988,1961,1977,1998,1976,1996,2008,1990,2016,1982,1992,2019,2020,1997,2012,2019,2020,1998,1973,1956,1997,1985,1981,2007,1984,2020,2013,2004,2000,2016,2007,2013,1968,2019,2008,1963,1983,1999,2018,1968,2010,2010,2017,2008,2006,2019,2007,2019,2008,1989,1959,2013,1979,1970,1994,1982,1948,1972,2013,2015,1993,2017,2001,1963,2013,2016,2012,1979,1971,1995,2015,2015,1997,1997,2017,1965,2020,2020,2014,2009,2012,2020,2019,1965,2008,2019,1963,1993,1993,2002,1970,1967,1990,1988,1969,1998,1995,2014,1995,1961,2020,2020,2019,1997,2016,1989,1980,2003,2007,1988,2010,1981,1993,1969,2015,2010,1962,2008,2002,2003,2011,1974,2002,1971,1982,1995,1986,1990,2020,2000,1998,2014,2016,2015,2014,2011,1984,1977,2020,1956,2017,2021,1962,2018,2008,1996,1956,1978,2000,1985,2018,2015,1997,2018,1967,1963,1944,2004,1979,2012,2019,1984,2005,2017,1974,2019,2016,2014,2020,2011,2014,2018,1964,1985,1995,1991,2000,1979,1950,2018,2015,2020,1967,1971,1976,1982,2004,2008,2000,1962,2014,2018,1999,1968,1971,1993,2012,2014,2015,2018,1967,1989,2002,2007,1988,2004,1998,1991,2011,2020,2004,2003,2014,2015,2004,2003,1968,1998,2003,2014,1970,1992,1999,1982,2018,2008,1999,2021,2010,2010,2016,2010,2010,1991,1976,2000,1964,1983,2015,1998,1988,1997,2008,2012,2014,2015,2000,2018,2007,2018,2010,1987,2018,2014,2008,1965,1970,1996,1987,1996,1983,1998,2013,2017,2017,1973,2002,1977,1987,2010,1988,2004,2015,1999,1985,1970,2014,2003,2005,2020,1973,1992,2007,2018,2017,2013,1985,2011,2006,1999,1981,2017,2018,2018,2016,2019,1991,2000,2009,2010,2012,2016,2019,1958,1999,1987,1995,1971,2004,2008,1991,1999,1994,1989,2019,1999,1985,1961,1995,1946,2014,1994,1993,1993,2001,2004,2002,1977,1951,1980,1985,1980,2002,1999,1995,1983,1990,1988,2000,2004,2010,2005,1971,2015,1999,2011,2002,1945,2019,2003,1980,2006,2006,2007,2014,2002,1983,1974,2014,2003,2015,2018,1998,2006,2019,2004,2010,2010,2019,2010,2015,2020,2015,2018,2005,2013,2010,2020,2015,2006,2013,2012,2018,2014,2010,2017,1994,1989,1986,1954,2007,1974,1987,1977,1994,1974,1994,2012,2017,2003,2001,2015,2015,2019,1996,2020,1958,1932,1989,2017,1977,2013,1984,1935,1966,1994,1986,1997,2004,1982,1959,1974,1980,2005,1994,1955,1987,2012,1991,1991,2018,1969,2003,1992,2001,2004,1974,1999,1973,2005,2006,2017,1996,2019,1964,2008,2012,2013,1974,2013,1997,2016,2004,2017,2015,1994,2018,2003,2015,2018,2010,1992,2010,2017,2017,1998,2015,2013,1962,2003,2010,1987,1997,1981,2014,2012,1969,2001,2017,1968,1991,1990,2017,1989,2004,1993,1952,1967,1969,2003,1960,1996,1987,1975,1985,1990,1992,1992,1992,1999,1983,2006,1998,2010,2018,2008,1971,1976,2006,1983,1979,2002,2015,1999,1972,1989,2017,1965,1961,1963,2012,2016,2007,1967,2019,2018,2013,2019,1977,1978,2017,1984,2001,1955,2007,1969,1999,2019,2016,2014,2015,2007,2015,1994,1951,2020,1975,1990,2009,1995,2009,1973,1989,1977,2003,2013,1980,2018,1995,1977,2012,1987,2021,1950,1995,1994,2006,2003,1986,1972,2016,2012,1936,2012,2018,2008,1979,1965,1985,2009,2017,1984,2020,1970,1942,1968,1987,2006,1989,1959,1990,2013,2015,1980,2012,2017,1992,2002,1991,1979,1990,1981,1969,1984,1996,1983,1986,1991,1982,1990,1976,1970,1936,1997,1967,2018,2019,1955,2003,1953,2012,1973,2019,1941,1962,2007,1998,2010,2019,1985,1991,1961,1964,2017,1938,2014,1991,1969,2006,2017,2000,1960,2003,2012,2005,2011,1992,2008,1999,2012,2001,1950,2003,2005,1967,1966,1971,1965,2013,1980,2007,1957,1982,1970,2012,2013,2017,2000,2019,2000,1973,1989,2007,2007,1994,1968,1997,1980,1997,2019,1997,2017,2016,1973,1975,2004,2017,2019,2021,1996,2000,1989,2000,1998,1961,2019,2017,1979,1992,2016,1990,2005,1979,1996,1989,2019,2007,1983,1980,2000,1944,2019,1981,1980,2017,2002,2021,1987,2013,2021,2015,1959,2017,1965,2005,2018,1979,1999,1975,2018,2020,2000,1981,2010,2004,1975,1987,1982,2014,2020,1989,2002,1990,1987,2015,2003,2018,1970,2021,2016,2006,1994,2001,1998,1999,1976,2019,1963,1988,2000,2006,1961,1988,2011,1999,2006,2019,1981,2017,1996,1998,2019,2017,1990,2003,2012,2016,2008,1989,1981,1973,1968,2014,1963,2000,1984,2013,1999,2007,2013,2010,2012,1971,1959,2003,1992,2009,2005,1960,1989,1960,1986,1958,1980,1977,1993,2019,1951,1980,2002,1959,2018,1976,1996,1948,1997,1981,2005,2001,2012,2013,2009,2009,1984,1989,1997,1963,1999,2019,1949,1959,1971,1959,1994,2000,1960,1994,1989,2019,1988,1968,2017,2013,2016,2005,1993,1994,1995,2014,1983,1998,2018,1985,1984,2014,1977,1986,2009,2008,1985,2000,1979,2010,1999,2014,1978,2018,1980,2002,2008,2019,1992,2005,1988,1984,1993,1974,1991,1973,2018,1964,2001,1957,1983,2018,1971,1970,1981,2013,2006,2015,2004,1987,1991,2015,1997,1997,1999,1983,1959,1983,1993,2018,1973,1998,2020,2002,2016,2019,2012,2020,1976,1984,2018,2004,1993,1976,2007,1993,2004,2019,1986,2017,2005,1970,2019,1996,2015,2006,1942,1979,2019,1965,1984,1980,2007,2011,1990,1988,1978,2010,2000,1989,1958,1941,2018,1992,2003,1975,1977,2016,2008,2010,2010,1992,2000,2012,1996,1968,1970,1989,2017,2012,1999,2014,1981,1988,1991,1981,1974,1996,1977,1999,1989,1991,1999,2006,1958,1974,2015,2007,1980,1992,2020,1983,2010,1982,1994,1987,1964,1992,2005,1975,2003,1997,2014,1980,2020,2003,2016,2014,2008,2014,1992,1977,1963,1962,1993,1986,2019,2004,2015,2017,2009,1974,1937,1990,1995,2004,2008,1943,1956,2012,1986,2005,2004,1978,2009,2019,1983,1977,2010,2002,2010,1960,1993,1964,1991,1999,2005,2003,2021,1976,2005,2002,2003,1986,1978,1974,2020,1972,2001,2020,2014,1997,1981,2002,1997,1994,2010,2008,2018,2017,1993,1996,1997,2012,2004,2020,1990,2000,1981,2006,2013,1993,2011,2011,2003,2018,2007,2001,1998,2015,2003,2018,2002,2018,2005,2006,1981,1998,1987,1985,2014,2017,1955,1993,2000,1974,2007,1991,2009,2000,2008,2010,2018,2014,2000,2007,2011,2002,2005,2016,2012,2001,2005,2004,1994,2011,2007,2019,2016,2017,1992,1981,1999,1966,2014,1981,2006,2011,1953,1975,2010,2001,2006,2013,2017,1997,2010,2021,1979,2005,1953,2018,2001,1958,2014,2004,2013,1984,1971,1991,1982,2014,2004,1999,1966,1978,1971,1960,2002,2012,1992,2010,1991,2016,2011,1989,2018,2019,2013,2018,1967,1997,2010,1993,2020,2012,2012,1964,1939,2008,2014,1990,2016,2002,2004,2009,2004,2017,2013,1988,2017,2010,2007,2014,2017,2012,2007,2019,2018,2012,1939,2012,2019,2007,2014,2016,2016,2013,2019,2001,2020,2014,1996,1973,2003,2015,2012,1987,1997,2019,2007,2005,2009,2020,2009,2012,2014,2017,2011,2020,2013,1993,2019,1991,1986,2020,2009,2016,2017,2003,1997,2011,2015,2011,2009,2016,2009,2006,2004,1966,2006,2016,2001,2009,1989,1959,2018,2020,2016,2018,2021,1981,2008,2018,2011,2018,2012,2018,2016,2008,2010,2019,2009,2009,2015,2017,2014,2005,2020,2019,2018,2018,2011,2017,2012,2015,2012,2019,2014,2014,2014,2016,1962,1992,1957,1976,1970,1960,1986,1985,1999,2002,1996,1964,2018,1980,2008,1984,1995,2018,1984,2017,2013,2021,2014,2017,2016,2021,1994,1959,2019,2009,1974,2004,2006,1958,2016,2009,2015,2013,2004,1996,1979,1985,1989,1983,1981,1965,2013,2013,1985,1949,1970,1987,1998,2012,2008,1990,2016,2007,2015,1969,2013,1957,1995,2005,2015,1981,2014,1983,1989,1986,1962,2004,2015,1994,2013,2021,2003,1998,1971,2014,1999,1978,2017,2019,1988,2005,2002,2005,1987,2017,1991,1967,2021,1998,2001,2019,2006,2020,2010,1994,1966,1969,1971,2004,1972,1999,1973,1983,1983,2005,2013,1981,2007,2019,2015,2014,1976,1962,1980,2007,1974,2018,2017,1960,1979,1974,2003,1984,1985,1998,2018,2014,2019,2014,2007,1955,2019,2003,2019,2017,2002,1987,2019,2014,1971,2015,2017,2014,2002,1950,1984,2005,2020,2009,1983,1996,1986,1999,1991,1970,2001,1985,2004,2011,2017,2016,2013,1985,2013,2003,1975,2011,2018,1998,2003,1983,2002,2012,2001,1993,1958,1972,1954,2005,1975,1934,1983,1976,2009,2018,2020,2010,1942,1981,1979,1992,2015,1991,2018,1982,1971,1976,2008,1998,1962,1967,2018,1948,1971,2000,1997,1956,1961,1964,2010,1971,2006,1995,1973,1992,1971,1986,1968,1970,1989,1990,1978,2020,1985,1966,1988,1984,1985,2000,1971,1988,2008,1972,2011,2013,1998,2012,2013,1970,1968,1972,2006,2009,1963,2018,1992,1965,2002,1981,1984,1969,2004,1979,2003,1985,2006,2018,2001,2017,1989,2011,2013,2012,1967,2019,1972,2010,2020,2011,1975,2011,1999,2010,1986,2004,2017,1954,2017,1957,2016,1949,1998,1936,1957,2012,1935,1989,2015,2016,2005,2018,2016,2008,2000,2019,2004,2008,2002,2018,2001,1989,2006,2016,2011,2016,1985,1997,1998,1965,1997,1994,2000,2015,1984,2014,2009,2016,1994,1987,2019,2001,2013,2017,1972,2008,2011,2015,2013,2001,2015,1970,2021,2004,2009,2021,1999,1957,1975,2007,2014,2004,2005,1955,1997,1994,1996,1992,2007,1987,1961,2017,1979,1996,1974,1952,2010,2008,1957,1987,2015,1964,2017,1977,1997,1997,2015,2020,2015,2016,2015,2017,2017,2019,2018,2003,1986,1983,1963,2001,1992,2011,2004,2008,1988,1977,2018,1988,2016,2014,2015,2016,2008,2014,2003,2008,2013,2021,2003,2005,2012,2011,2011,1955,1972,2003,2014,2017,1999,1979,1993,1978,1987,1978,2004,2011,2013,1957,2004,2019,2019,2004,1992,2017,1993,1995,2017,2015,2018,2005,2020,2013,1984,2006,2016,2007,2008,2011,2017,2010,1970,2010,2005,2012,2018,2015,2011,2002,2004,1992,1976,1972,1991,1995,1979,1986,2005,2016,1987,2017,1991,1977,1994,2013,1989,1971,1968,1982,1948,2000,1954,1976,1986,1967,2021,1973,2005,1979,1943,1981,1962,2006,2010,2009,1996,1982,1973,2018,2007,2018,1982,2010,2014,2007,1969,2018,2007,1955,1981,1991,2017,1963,1940,1978,1981,1997,1986,1992,2013,1986,1954,1969,2015,1957,2011,1962,1951,1999,1955,1979,1953,1957,2013,2005,1959,2018,1956,1957,1978,1974,1990,1971,2001,2003,1990,2005,1995,1961,2021,2005,1946,1947,1968,1957,2003,1966,2016,1980,2007,1990,2014,2005,1966,1956,1986,2009,2017,2015,2000,1989,2017,1958,2015,1996,1996,1973,2018,1974,2019,1938,2019,2011,1983,2007,1965,1980,1989,1975,1992,2005,2020,2011,2010,2007,2018,2021,2017,1979,1967,2011,2019,2011,2019,2018,1991,1990,1999,2020,2014,2012,2008,2002,2018,2019,2017,2019,2006,1995,2008,2017,1988,2002,2007,2017,2012,2006,2020,2018,2015,2010,2013,2001,2014,1971,2019,2004,2018,2016,2008,1999,1989,1965,2013,2013,2003,1961,1968,2020,2014,1977,1985,2015,2003,2012,2008,2015,2019,2009,2001,2012,2003,1981,1995,2003,1988,1990,1988,2013,1984,2010,1992,1985,2018,1973,1985,2018,2005,1968,1941,2019,2014,2018,2005,2021,2020,2019,1977,2005,1959,2019,2018,1956,2004,1969,1984,2018,2019,1986,1967,1977,2018,1992,1974,2018,2010,2008,2008,1958,1992,2020,2019,2010,1996,2000,1953,1996,2010,2015,1987,1995,1994,1993,2014,1971,1963,2003,1989,2015,1972,1992,1997,1957,1970,2020,2018,2018,1972,1989,1989,2005,1968,2018,1985,2007,1984,1958,1977,1971,2003,2005,1961,2018,1985,1993,2011,1971,1949,2017,1985,1966,1978,2019,2014,2011,1953,1980,2004,2013,2003,1974,1991,1967,1970,1961,1980,1968,2010,1957,2009,2008,1995,2012,1986,2010,1993,2005,1993,1955,2008,2019,2017,1999,1987,1988,1984,1978,1985,1973,2018,1978,2015,2010,2013,2011,2017,2017,2000,2006,1974,2004,2018,1958,2008,1993,1980,2016,1945,1993,1991,1966,1978,1993,1964,2008,2010,2013,2019,2017,2019,1984,1966,2013,1985,2016,2015,2003,1972,2016,2016,2017,2017,2002,2021,1972,1958,1985,1934,2014,2014,2018,2004,1993,2018,2012,2019,2015,1992,2004,1992,1990,1993,2013,1995,2004,1964,1981,1965,2017,2004,1958,2017,1973,2013,1991,2017,2003,2019,2004,2019,2006,1990,2020,1987,1991,1991,2010,1981,1994,1971,1995,1998,1992,1981,1937,1975,1974,1962,1989,1970,1991,2015,1982,1974,1983,1994,1996,1997,2004,2010,1997,1943,1997,2005,1978,1973,1962,1994,1981,2016,2018,2016,2003,1983,1983,1986,1970,1984,1978,1989,2014,1965,1972,2002,2010,2011,2015,1973,1993,1987,2019,2006,2003,1998,1999,2005,1998,2001,2014,2001,1957,2002,2003,1981,1991,1969,1992,1985,1990,1990,1988,1969,1969,1991,1986,1987,1990,1987,1971,1986,1966,2006,1985,1984,1975,1984,2017,2012,1988,2001,2001,1986,1983,1988,2003,1998,2013,2009,1980,2013,2011,2017,1979,2017,1958,2019,1975,1989,2007,1976,1972,2013,1995,1972,1992,2020,1967,2021,2009,1987,2010,1967,1981,2002,2012,2016,2009,2018,2008,2013,2008,2013,2018,1983,2018,1954,2021,2009,2017,1990,2008,2003,1995,2011,2014,2015,2017,1969,1953,1978,2001,2018,2016,1955,2019,2015,2004,1956,1982,1959,1995,2018,1968,1994,2003,1952,1996,1997,2000,2014,1969,1999,2013,2013,1996,1964,2018,2010,1974,1992,1951,1936,1992,2000,1962,1972,2004,2010,2010,2012,1994,2019,1981,1977,1996,1984,2017,1967,1980,1977,2007,1995,2019,1989,1943,2017,2020,1984,1985,1985,2008,2010,2017,2013,1988,2010,1991,2005,1985,2013,2019,1944,2015,1996,2015,2017,1993,1983,2006,1982,1995,2019,2013,2017,2013,1975,1959,2019,2010,2015,2015,1986,2007,2013,2011,2018,1944,2004,1995,2011,2016,2009,1980,2007,2007,2017,2018,2021,2000,2020,2006,2001,2005,2007,2019,1962,2019,1974,1971,2002,1996,1988,2018,2005,2001,2014,2017,2010,1988,1979,2013,1965,2002,2007,2019,2014,1972,2012,2014,2021,2002,2003,2009,2009,2008,2019,2014,1995,2016,2008,2009,1999,2011,1981,2006,2016,2005,2010,1988,2019,1991,2021,1981,2015,1993,1970,2018,1974,1942,1974,1990,2016,1992,2012,2015,2008,1993,2004,1989,1997,2017,2004,2015,2020,1962,2017,2009,1991,2012,1982,2016,1966,1967,1964,1994,2019,1985,1985,1991,1978,1996,1994,2016,1979,2019,2017,2008,2016,1984,2013,2015,1969,1998,2016,1982,1968,1991,2002,1992,2015,2006,2007,1989,2003,1966,1975,1998,2020,2015,1980,1994,2017,1995,1976,2003,1979,1970,1969,1989,2017,2006,1991,2020,2012,1958,1968,2010,1983,1970,1951,1988,1958,1996,2013,2011,2018,2013,1981,2011,1962,1993,2021,1993,2002,1969,1986,1982,1998,1975,2007,1988,2005,2017,2007,1989,2017,1997,1980,1950,1972,1970,1998,1999,1959,2003,2017,1979,1983,1961,1982,2014,1958,1964,1986,1997,1991,2016,2009,2016,2005,2021,2006,1964,1952,1994,1992,1999,1950,1993,1964,1943,1972,1985,2018,2009,2009,1976,1981,1996,1940,1940,1982,1937,2016,1993,1989,2002,1975,1992,1968,1996,1969,2018,1961,1966,1968,2016,2016,1993,2021,1996,1985,1999,1979,1950,2017,1960,2006,2005,2005,2017,2008,1979,1986,1984,1980,2019,2008,2011,2003,1982,1998,2013,2013,1982,1969,1978,2000,2018,1991,2004,1995,1973,1991,1991,2001,1999,1996,1986,1982,1970,1966,1979,2007,2012,2020,1951,2020,2019,2006,2021,2019,2015,2012,2017,2021,2019,2018,2017,1955,1972,2010,1994,2005,1996,2020,2019,2017,2006,1972,2019,2014,2017,2005,2006,2018,2021,1980,2015,2010,2005,1949,2005,2011,2015,2011,1948,1965,2002,1988,1953,2012,1946,2006,2010,1949,1974,2011,2006,1990,2011,2007,2020,1965,2002,1982,1993,1947,2020,1978,1998,1961,1954,2015,1974,1990,2012,1976,1966,1976,1991,1984,1997,1984,1957,1970,1976,2015,1984,2002,1981,2019,1971,1969,1986,2004,1996,1969,1986,1982,2016,2008,1950,1986,2011,1964,1947,2020,1956,2017,1999,1990,2000,1968,2020,2000,1963,1991,1953,2005,1979,2020,2012,1977,2001,2012,1989,2006,1985,1988,2016,2004,2012,2018,1961,1992,1975,1999,2006,1988,2007,2013,1972,2010,2016,2016,2013,2016,2009,2013,2007,1981,2013,1955,1962,1971,2017,1993,1985,1960,1982,1968,2013,1983,2017,2020,2020,2013,2017,2020,2004,2014,2019,2011,1990,2013,2009,1999,1989,2004,2015,2021,2005,1981,1999,2018,2002,2018,2017,2019,1987,1960,2015,2008,2013,2011,2019,2014,1986,2005,2018,1993,2007,2008,2005,1980,2007,2006,2016,2013,2012,2021,1973,2000,1999,2013,2002,2005,1948,1985,1958,2014,1998,1958,1979,1956,2009,1964,2012,2013,2014,2019,1958,1988,2018,2012,2018,2020,2018,1988,1999,2008,2013,2010,2011,2008,1983,1989,2006,1982,2014,2013,2007,1999,1968,1975,2004,1960,2003,2011,1989,2014,1956,2007,2012,1991,2009,2007,1961,2018,2020,1995,2009,1938,2010,2014,2012,2019,2003,2001,1954,1971,1966,2005,2005,2000,1979,1994,1968,1986,1970,2018,1960,2014,2004,2000,2016,2008,2018,1983,1982,2006,1979,2008,1949,1968,2013,2017,1984,2009,2004,2005,2016,1976,2003,2014,2019,2013,2014,1994,1987,2008,2008,2002,1985,1966,1973,2020,1979,1995,2014,1985,1992,1987,2004,1977,2007,1982,1990,1978,1986,1980,1983,2017,2021,2018,2007,1999,2020,1995,2004,1999,2013,2003,1990,1993,1992,1986,1993,2020,1956,2003,2005,1981,2019,1995,1980,1958,2012,2003,1996,1969,2009,2020,2015,1988,2014,1998,1952,2015,1986,1972,1955,2005,2020,2021,1943,2011,2015,1976,2000,1967,1990,1995,2019,2013,1979,1984,1997,1995,1984,2000,1995,2019,1970,1965,1966,2002,2008,2008,2006,2004,2017,1985,1980,1954,1973,2006,1977,2016,2009,1968,1973,1965,2010,1965,1938,2016,2010,1965,1994,1982,2006,1966,1966,2003,1994,1985,2011,2005,2019,2017,2000,2009,2001,2015,2016,2010,2016,1989,1963,2010,2001,2011,1971,1996,2012,1978,2009,1984,2018,2014,2020,1982,1982,1985,2012,1993,2016,2018,2015,1988,2012,2019,1999,2002,1990,1983,2011,2009,2020,2010,2016,2001,1979,2019,2005,2015,1989,2014,2013,2016,2021,2005,2016,2019,2017,2013,1980,1977,1976,1941,2007,2018,1988,2014,2011,2013,1995,2017,2019,2009,1953,2005,2010,2010,2017,2008,2015,2009,1994,2017,2021,2014,2013,1979,2007,2019,2020,2014,2003,2020,2019,2017,2017,2020,2014,2017,2011,2010,2017,2018,2020,2006,2019,2016,2014,2002,2008,2019,1931,2013,2014,2015,2013,1994,1995,2011,2001,1980,2007,2016,2018,2015,2019,2021,2009,2000,1935,2020,2017,2020,2000,2014,1952,2015,1992,2014,2020,2019,2015,2015,1968,2019,2017,2015,1996,2009,2017,2019,2015,1980,1970,2011,2007,2017,2013,2010,2014,2015,2010,2001,2002,2009,2021,2021,2018,2013,2015,2014,1967,2019,1981,1987,2016,1992,2008,1990,2017,1980,1953,1983,2018,2015,2009,1978,2018,2016,2017,2014,2017,2015,2005,2021,2019,1977,1992,1998,2018,2014,2014,2016,2000,2018,2010,1984,1988,2017,2006,2018,1989,1975,1937,2010,1978,2016,2005,2020,2019,2014,2019,1989,2016,2007,2015,1998,2016,2011,2021,1989,1985,1995,1991,2014,1988,1978,2011,1978,1985,1994,2020,1996,2017,2021,2003,2015,1971,2008,2016,2001,1970,2011,1990,2009,2010,2002,2004,2018,1982,1978,2017,2002,1957,2004,1969,1996,2011,2017,2016,2012,2013,1992,2017,2008,2011,2017,1997,2010,2018,1976,2016,2013,2008,1959,1974,2019,1975,2019,1970,2006,1992,1982,2014,2006,2015,2015,2007,1980,2014,2014,1996,2017,2019,2006,2020,2019,1971,1967,2019,1955,2018,2019,1970,1960,1989,1982,1963,1998,2015,1984,2011,1987,2006,2004,2015,2020,2005,2009,2005,1968,1999,2004,1955,1974,2018,1988,1982,1962,2006,1946,2000,2021,1992,1975,1989,2001,2011,2010,1970,2001,2008,1994,2009,2017,1988,2016,2018,2018,1995,2019,1993,1975,2004,2011,2011,1989,2008,2017,1989,2012,1972,2017,2009,1982,2006,1990,1986,2005,2009,1988,1994,1982,2011,1986,2009,2020,1998,2017,2021,1997,2020,1992,2005,2008,1991,2011,2013,2018,1996,1992,2006,1998,2018,2010,2014,2002,1988,1972,2008,1985,2016,1967,2015,2016,1998,2013,2009,2017,2009,1984,2020,1965,1993,1988,1981,2005,2019,2013,1981,1954,2013,1975,2016,1987,2005,2016,2010,2006,2017,2015,2007,2015,2015,2020,2018,2020,2012,2018,2008,2009,2019,2006,2013,2009,2008,1989,2018,1998,2017,2004,2018,2011,2019,2012,2018,2003,2020,2006,1983,1983,1964,2006,1974,2004,1989,2013,2021,2003,2020,2015,2003,2008,2014,1992,2001,1984,2014,1994,1972,2020,2015,1981,2014,1977,1985,2015,2020,1958,1969,2005,2012,1992,2014,2001,2013,2018,1995,1996,2015,1975,1988,2006,2011,2016,2020,1984,2003,2002,1963,2014,1994,2011,1972,2014,2003,2017,2002,1999,2001,2013,2012,1980,2018,2002,2004,1996,2001,1992,1963,2019,2011,2019,1982,1982,2001,1966,2005,1977,1997,1997,1991,2016,2014,2001,2018,2016,1985,2021,2004,1979,2008,1994,1985,1990,1998,1988,1994,1993,1993,1980,1988,1995,1977,1981,1985,1994,2003,1972,1984,1975,2005,1943,1973,2013,1993,2013,1983,1972,2014,2005,1974,2018,1994,2014,1964,1997,2013,1958,1960,2006,1975,1986,1986,1964,1940,1976,2000,2013,1965,1988,2013,2002,2011,2012,2019,2000,2011,2018,1998,1975,2015,2001,1989,1999,1998],\"xaxis\":\"x\",\"yaxis\":\"y\",\"type\":\"histogram\"}],                        {\"template\":{\"data\":{\"histogram2dcontour\":[{\"type\":\"histogram2dcontour\",\"colorbar\":{\"outlinewidth\":0,\"ticks\":\"\"},\"colorscale\":[[0.0,\"#0d0887\"],[0.1111111111111111,\"#46039f\"],[0.2222222222222222,\"#7201a8\"],[0.3333333333333333,\"#9c179e\"],[0.4444444444444444,\"#bd3786\"],[0.5555555555555556,\"#d8576b\"],[0.6666666666666666,\"#ed7953\"],[0.7777777777777778,\"#fb9f3a\"],[0.8888888888888888,\"#fdca26\"],[1.0,\"#f0f921\"]]}],\"choropleth\":[{\"type\":\"choropleth\",\"colorbar\":{\"outlinewidth\":0,\"ticks\":\"\"}}],\"histogram2d\":[{\"type\":\"histogram2d\",\"colorbar\":{\"outlinewidth\":0,\"ticks\":\"\"},\"colorscale\":[[0.0,\"#0d0887\"],[0.1111111111111111,\"#46039f\"],[0.2222222222222222,\"#7201a8\"],[0.3333333333333333,\"#9c179e\"],[0.4444444444444444,\"#bd3786\"],[0.5555555555555556,\"#d8576b\"],[0.6666666666666666,\"#ed7953\"],[0.7777777777777778,\"#fb9f3a\"],[0.8888888888888888,\"#fdca26\"],[1.0,\"#f0f921\"]]}],\"heatmap\":[{\"type\":\"heatmap\",\"colorbar\":{\"outlinewidth\":0,\"ticks\":\"\"},\"colorscale\":[[0.0,\"#0d0887\"],[0.1111111111111111,\"#46039f\"],[0.2222222222222222,\"#7201a8\"],[0.3333333333333333,\"#9c179e\"],[0.4444444444444444,\"#bd3786\"],[0.5555555555555556,\"#d8576b\"],[0.6666666666666666,\"#ed7953\"],[0.7777777777777778,\"#fb9f3a\"],[0.8888888888888888,\"#fdca26\"],[1.0,\"#f0f921\"]]}],\"heatmapgl\":[{\"type\":\"heatmapgl\",\"colorbar\":{\"outlinewidth\":0,\"ticks\":\"\"},\"colorscale\":[[0.0,\"#0d0887\"],[0.1111111111111111,\"#46039f\"],[0.2222222222222222,\"#7201a8\"],[0.3333333333333333,\"#9c179e\"],[0.4444444444444444,\"#bd3786\"],[0.5555555555555556,\"#d8576b\"],[0.6666666666666666,\"#ed7953\"],[0.7777777777777778,\"#fb9f3a\"],[0.8888888888888888,\"#fdca26\"],[1.0,\"#f0f921\"]]}],\"contourcarpet\":[{\"type\":\"contourcarpet\",\"colorbar\":{\"outlinewidth\":0,\"ticks\":\"\"}}],\"contour\":[{\"type\":\"contour\",\"colorbar\":{\"outlinewidth\":0,\"ticks\":\"\"},\"colorscale\":[[0.0,\"#0d0887\"],[0.1111111111111111,\"#46039f\"],[0.2222222222222222,\"#7201a8\"],[0.3333333333333333,\"#9c179e\"],[0.4444444444444444,\"#bd3786\"],[0.5555555555555556,\"#d8576b\"],[0.6666666666666666,\"#ed7953\"],[0.7777777777777778,\"#fb9f3a\"],[0.8888888888888888,\"#fdca26\"],[1.0,\"#f0f921\"]]}],\"surface\":[{\"type\":\"surface\",\"colorbar\":{\"outlinewidth\":0,\"ticks\":\"\"},\"colorscale\":[[0.0,\"#0d0887\"],[0.1111111111111111,\"#46039f\"],[0.2222222222222222,\"#7201a8\"],[0.3333333333333333,\"#9c179e\"],[0.4444444444444444,\"#bd3786\"],[0.5555555555555556,\"#d8576b\"],[0.6666666666666666,\"#ed7953\"],[0.7777777777777778,\"#fb9f3a\"],[0.8888888888888888,\"#fdca26\"],[1.0,\"#f0f921\"]]}],\"mesh3d\":[{\"type\":\"mesh3d\",\"colorbar\":{\"outlinewidth\":0,\"ticks\":\"\"}}],\"scatter\":[{\"fillpattern\":{\"fillmode\":\"overlay\",\"size\":10,\"solidity\":0.2},\"type\":\"scatter\"}],\"parcoords\":[{\"type\":\"parcoords\",\"line\":{\"colorbar\":{\"outlinewidth\":0,\"ticks\":\"\"}}}],\"scatterpolargl\":[{\"type\":\"scatterpolargl\",\"marker\":{\"colorbar\":{\"outlinewidth\":0,\"ticks\":\"\"}}}],\"bar\":[{\"error_x\":{\"color\":\"#2a3f5f\"},\"error_y\":{\"color\":\"#2a3f5f\"},\"marker\":{\"line\":{\"color\":\"#E5ECF6\",\"width\":0.5},\"pattern\":{\"fillmode\":\"overlay\",\"size\":10,\"solidity\":0.2}},\"type\":\"bar\"}],\"scattergeo\":[{\"type\":\"scattergeo\",\"marker\":{\"colorbar\":{\"outlinewidth\":0,\"ticks\":\"\"}}}],\"scatterpolar\":[{\"type\":\"scatterpolar\",\"marker\":{\"colorbar\":{\"outlinewidth\":0,\"ticks\":\"\"}}}],\"histogram\":[{\"marker\":{\"pattern\":{\"fillmode\":\"overlay\",\"size\":10,\"solidity\":0.2}},\"type\":\"histogram\"}],\"scattergl\":[{\"type\":\"scattergl\",\"marker\":{\"colorbar\":{\"outlinewidth\":0,\"ticks\":\"\"}}}],\"scatter3d\":[{\"type\":\"scatter3d\",\"line\":{\"colorbar\":{\"outlinewidth\":0,\"ticks\":\"\"}},\"marker\":{\"colorbar\":{\"outlinewidth\":0,\"ticks\":\"\"}}}],\"scattermapbox\":[{\"type\":\"scattermapbox\",\"marker\":{\"colorbar\":{\"outlinewidth\":0,\"ticks\":\"\"}}}],\"scatterternary\":[{\"type\":\"scatterternary\",\"marker\":{\"colorbar\":{\"outlinewidth\":0,\"ticks\":\"\"}}}],\"scattercarpet\":[{\"type\":\"scattercarpet\",\"marker\":{\"colorbar\":{\"outlinewidth\":0,\"ticks\":\"\"}}}],\"carpet\":[{\"aaxis\":{\"endlinecolor\":\"#2a3f5f\",\"gridcolor\":\"white\",\"linecolor\":\"white\",\"minorgridcolor\":\"white\",\"startlinecolor\":\"#2a3f5f\"},\"baxis\":{\"endlinecolor\":\"#2a3f5f\",\"gridcolor\":\"white\",\"linecolor\":\"white\",\"minorgridcolor\":\"white\",\"startlinecolor\":\"#2a3f5f\"},\"type\":\"carpet\"}],\"table\":[{\"cells\":{\"fill\":{\"color\":\"#EBF0F8\"},\"line\":{\"color\":\"white\"}},\"header\":{\"fill\":{\"color\":\"#C8D4E3\"},\"line\":{\"color\":\"white\"}},\"type\":\"table\"}],\"barpolar\":[{\"marker\":{\"line\":{\"color\":\"#E5ECF6\",\"width\":0.5},\"pattern\":{\"fillmode\":\"overlay\",\"size\":10,\"solidity\":0.2}},\"type\":\"barpolar\"}],\"pie\":[{\"automargin\":true,\"type\":\"pie\"}]},\"layout\":{\"autotypenumbers\":\"strict\",\"colorway\":[\"#636efa\",\"#EF553B\",\"#00cc96\",\"#ab63fa\",\"#FFA15A\",\"#19d3f3\",\"#FF6692\",\"#B6E880\",\"#FF97FF\",\"#FECB52\"],\"font\":{\"color\":\"#2a3f5f\"},\"hovermode\":\"closest\",\"hoverlabel\":{\"align\":\"left\"},\"paper_bgcolor\":\"white\",\"plot_bgcolor\":\"#E5ECF6\",\"polar\":{\"bgcolor\":\"#E5ECF6\",\"angularaxis\":{\"gridcolor\":\"white\",\"linecolor\":\"white\",\"ticks\":\"\"},\"radialaxis\":{\"gridcolor\":\"white\",\"linecolor\":\"white\",\"ticks\":\"\"}},\"ternary\":{\"bgcolor\":\"#E5ECF6\",\"aaxis\":{\"gridcolor\":\"white\",\"linecolor\":\"white\",\"ticks\":\"\"},\"baxis\":{\"gridcolor\":\"white\",\"linecolor\":\"white\",\"ticks\":\"\"},\"caxis\":{\"gridcolor\":\"white\",\"linecolor\":\"white\",\"ticks\":\"\"}},\"coloraxis\":{\"colorbar\":{\"outlinewidth\":0,\"ticks\":\"\"}},\"colorscale\":{\"sequential\":[[0.0,\"#0d0887\"],[0.1111111111111111,\"#46039f\"],[0.2222222222222222,\"#7201a8\"],[0.3333333333333333,\"#9c179e\"],[0.4444444444444444,\"#bd3786\"],[0.5555555555555556,\"#d8576b\"],[0.6666666666666666,\"#ed7953\"],[0.7777777777777778,\"#fb9f3a\"],[0.8888888888888888,\"#fdca26\"],[1.0,\"#f0f921\"]],\"sequentialminus\":[[0.0,\"#0d0887\"],[0.1111111111111111,\"#46039f\"],[0.2222222222222222,\"#7201a8\"],[0.3333333333333333,\"#9c179e\"],[0.4444444444444444,\"#bd3786\"],[0.5555555555555556,\"#d8576b\"],[0.6666666666666666,\"#ed7953\"],[0.7777777777777778,\"#fb9f3a\"],[0.8888888888888888,\"#fdca26\"],[1.0,\"#f0f921\"]],\"diverging\":[[0,\"#8e0152\"],[0.1,\"#c51b7d\"],[0.2,\"#de77ae\"],[0.3,\"#f1b6da\"],[0.4,\"#fde0ef\"],[0.5,\"#f7f7f7\"],[0.6,\"#e6f5d0\"],[0.7,\"#b8e186\"],[0.8,\"#7fbc41\"],[0.9,\"#4d9221\"],[1,\"#276419\"]]},\"xaxis\":{\"gridcolor\":\"white\",\"linecolor\":\"white\",\"ticks\":\"\",\"title\":{\"standoff\":15},\"zerolinecolor\":\"white\",\"automargin\":true,\"zerolinewidth\":2},\"yaxis\":{\"gridcolor\":\"white\",\"linecolor\":\"white\",\"ticks\":\"\",\"title\":{\"standoff\":15},\"zerolinecolor\":\"white\",\"automargin\":true,\"zerolinewidth\":2},\"scene\":{\"xaxis\":{\"backgroundcolor\":\"#E5ECF6\",\"gridcolor\":\"white\",\"linecolor\":\"white\",\"showbackground\":true,\"ticks\":\"\",\"zerolinecolor\":\"white\",\"gridwidth\":2},\"yaxis\":{\"backgroundcolor\":\"#E5ECF6\",\"gridcolor\":\"white\",\"linecolor\":\"white\",\"showbackground\":true,\"ticks\":\"\",\"zerolinecolor\":\"white\",\"gridwidth\":2},\"zaxis\":{\"backgroundcolor\":\"#E5ECF6\",\"gridcolor\":\"white\",\"linecolor\":\"white\",\"showbackground\":true,\"ticks\":\"\",\"zerolinecolor\":\"white\",\"gridwidth\":2}},\"shapedefaults\":{\"line\":{\"color\":\"#2a3f5f\"}},\"annotationdefaults\":{\"arrowcolor\":\"#2a3f5f\",\"arrowhead\":0,\"arrowwidth\":1},\"geo\":{\"bgcolor\":\"white\",\"landcolor\":\"#E5ECF6\",\"subunitcolor\":\"white\",\"showland\":true,\"showlakes\":true,\"lakecolor\":\"white\"},\"title\":{\"x\":0.05},\"mapbox\":{\"style\":\"light\"}}},\"xaxis\":{\"anchor\":\"y\",\"domain\":[0.0,1.0],\"title\":{\"text\":\"Year\"}},\"yaxis\":{\"anchor\":\"x\",\"domain\":[0.0,1.0],\"title\":{\"text\":\"probability density\"}},\"legend\":{\"tracegroupgap\":0},\"margin\":{\"t\":60},\"barmode\":\"relative\"},                        {\"responsive\": true}                    ).then(function(){\n",
              "                            \n",
              "var gd = document.getElementById('d23d8154-5d52-4dca-bcb4-d2f6ebf471a6');\n",
              "var x = new MutationObserver(function (mutations, observer) {{\n",
              "        var display = window.getComputedStyle(gd).display;\n",
              "        if (!display || display === 'none') {{\n",
              "            console.log([gd, 'removed!']);\n",
              "            Plotly.purge(gd);\n",
              "            observer.disconnect();\n",
              "        }}\n",
              "}});\n",
              "\n",
              "// Listen for the removal of the full notebook cells\n",
              "var notebookContainer = gd.closest('#notebook-container');\n",
              "if (notebookContainer) {{\n",
              "    x.observe(notebookContainer, {childList: true});\n",
              "}}\n",
              "\n",
              "// Listen for the clearing of the current output cell\n",
              "var outputEl = gd.closest('.output');\n",
              "if (outputEl) {{\n",
              "    x.observe(outputEl, {childList: true});\n",
              "}}\n",
              "\n",
              "                        })                };                            </script>        </div>\n",
              "</body>\n",
              "</html>"
            ]
          },
          "metadata": {},
          "output_type": "display_data"
        }
      ],
      "source": [
        "# Create and display a normalized histogram of movie counts by year using Plotly\n",
        "year = px.histogram(df_movie, x ='Year',histnorm='probability density',nbins =30)\n",
        "year.show()"
      ]
    },
    {
      "cell_type": "code",
      "execution_count": null,
      "metadata": {
        "colab": {
          "base_uri": "https://localhost:8080/",
          "height": 542
        },
        "id": "YZEsQjczIB73",
        "outputId": "c1417ed2-5531-410b-9bbb-c6961e91f8cf"
      },
      "outputs": [
        {
          "data": {
            "text/html": [
              "<html>\n",
              "<head><meta charset=\"utf-8\" /></head>\n",
              "<body>\n",
              "    <div>            <script src=\"https://cdnjs.cloudflare.com/ajax/libs/mathjax/2.7.5/MathJax.js?config=TeX-AMS-MML_SVG\"></script><script type=\"text/javascript\">if (window.MathJax && window.MathJax.Hub && window.MathJax.Hub.Config) {window.MathJax.Hub.Config({SVG: {font: \"STIX-Web\"}});}</script>                <script type=\"text/javascript\">window.PlotlyConfig = {MathJaxConfig: 'local'};</script>\n",
              "        <script charset=\"utf-8\" src=\"https://cdn.plot.ly/plotly-2.35.2.min.js\"></script>                <div id=\"abbbb8e5-4f48-489f-961f-5ced06939bd5\" class=\"plotly-graph-div\" style=\"height:525px; width:100%;\"></div>            <script type=\"text/javascript\">                                    window.PLOTLYENV=window.PLOTLYENV || {};                                    if (document.getElementById(\"abbbb8e5-4f48-489f-961f-5ced06939bd5\")) {                    Plotly.newPlot(                        \"abbbb8e5-4f48-489f-961f-5ced06939bd5\",                        [{\"hovertemplate\":\"Genre=Drama\\u003cbr\\u003eYear=%{x}\\u003cbr\\u003eRating=%{y}\\u003cextra\\u003e\\u003c\\u002fextra\\u003e\",\"legendgroup\":\"Drama\",\"line\":{\"color\":\"#636efa\",\"dash\":\"solid\"},\"marker\":{\"symbol\":\"circle\"},\"mode\":\"lines\",\"name\":\"Drama\",\"orientation\":\"v\",\"showlegend\":true,\"x\":[1931,1934,1935,1936,1937,1938,1940,1941,1942,1943,1944,1945,1946,1947,1948,1949,1950,1951,1952,1953,1954,1955,1956,1957,1958,1959,1960,1961,1962,1963,1964,1965,1966,1967,1968,1969,1970,1971,1972,1973,1974,1975,1976,1977,1978,1979,1980,1981,1982,1983,1984,1985,1986,1987,1988,1989,1990,1991,1992,1993,1994,1995,1996,1997,1998,1999,2000,2001,2002,2003,2004,2005,2006,2007,2008,2009,2010,2011,2012,2013,2014,2015,2016,2017,2018,2019,2020,2021],\"xaxis\":\"x\",\"y\":[5.3,8.5,6.633333333333333,6.35,6.733333333333333,6.333333333333333,6.859999999999999,6.475,7.033333333333334,7.3,6.8,6.5,6.966666666666666,6.45,7.033333333333334,6.75,6.685714285714285,5.975,7.5,7.340000000000001,6.2,6.1,6.35,6.971428571428571,6.475,6.55,6.4,7.2,5.949999999999999,7.0,6.425,6.1,6.333333333333333,6.983333333333333,6.9,6.4799999999999995,7.0875,6.761538461538462,6.909090909090909,6.514285714285714,6.800000000000001,6.716666666666666,6.566666666666666,6.988888888888889,6.825,6.75,6.085714285714286,6.442857142857143,6.483333333333333,6.8875,6.786666666666666,6.575,5.942105263157895,6.3428571428571425,6.38,5.916666666666667,5.561538461538461,5.8999999999999995,5.422222222222222,5.816666666666666,6.16,6.32,5.766666666666667,6.344444444444445,6.2375,6.375,6.116666666666667,5.6571428571428575,5.083333333333333,6.130769230769231,5.733333333333333,6.131818181818182,5.976923076923077,6.266666666666667,6.0375,5.285714285714286,6.066666666666666,6.09,6.258823529411765,6.3,6.365217391304348,6.211538461538462,6.364285714285714,6.365384615384615,6.750943396226416,6.647169811320755,7.285185185185185,7.1461538461538465],\"yaxis\":\"y\",\"type\":\"scatter\"},{\"hovertemplate\":\"Genre=Drama, Romance\\u003cbr\\u003eYear=%{x}\\u003cbr\\u003eRating=%{y}\\u003cextra\\u003e\\u003c\\u002fextra\\u003e\",\"legendgroup\":\"Drama, Romance\",\"line\":{\"color\":\"#EF553B\",\"dash\":\"solid\"},\"marker\":{\"symbol\":\"circle\"},\"mode\":\"lines\",\"name\":\"Drama, Romance\",\"orientation\":\"v\",\"showlegend\":true,\"x\":[1933,1936,1938,1939,1944,1948,1950,1951,1952,1953,1954,1957,1958,1960,1961,1962,1963,1964,1965,1966,1967,1968,1969,1970,1971,1972,1973,1974,1975,1976,1977,1978,1979,1980,1981,1982,1983,1984,1985,1986,1987,1988,1989,1990,1991,1992,1993,1994,1995,1996,1997,1998,1999,2000,2001,2002,2003,2004,2005,2006,2007,2008,2009,2010,2011,2012,2013,2014,2015,2016,2017,2018,2019,2020,2021],\"xaxis\":\"x\",\"y\":[6.2,6.2,5.2,6.4,7.15,7.2,6.8999999999999995,6.3,7.3999999999999995,6.9,6.6,7.2,6.75,6.633333333333333,7.133333333333333,6.75,6.24,6.466666666666666,7.25,6.95,7.05,6.6,6.779999999999999,7.183333333333334,6.76,6.466666666666666,6.0,6.788888888888889,6.875,6.477777777777778,6.925,6.859999999999999,6.475,7.6,7.5,7.275,6.428571428571429,5.4,5.733333333333333,5.266666666666667,5.55,5.5,5.7,5.6,5.675,5.472727272727273,4.766666666666667,4.08,5.8,5.575,4.225,5.866666666666667,5.525,5.32,4.9399999999999995,5.083333333333333,5.666666666666667,4.875,4.422222222222222,5.49,6.25,4.822222222222222,6.3999999999999995,4.95,5.325,6.266666666666667,6.0625,5.242857142857143,5.966666666666667,5.144444444444444,5.6625,6.484615384615385,6.2,7.233333333333333,7.159999999999999],\"yaxis\":\"y\",\"type\":\"scatter\"},{\"hovertemplate\":\"Genre=Drama, Family\\u003cbr\\u003eYear=%{x}\\u003cbr\\u003eRating=%{y}\\u003cextra\\u003e\\u003c\\u002fextra\\u003e\",\"legendgroup\":\"Drama, Family\",\"line\":{\"color\":\"#00cc96\",\"dash\":\"solid\"},\"marker\":{\"symbol\":\"circle\"},\"mode\":\"lines\",\"name\":\"Drama, Family\",\"orientation\":\"v\",\"showlegend\":true,\"x\":[1942,1948,1949,1950,1951,1953,1954,1955,1957,1958,1959,1961,1962,1963,1964,1965,1966,1967,1968,1969,1970,1971,1972,1973,1974,1975,1976,1977,1978,1979,1980,1981,1982,1983,1984,1985,1986,1987,1988,1989,1990,1993,1994,1996,2000,2001,2002,2004,2005,2007,2009,2010,2011,2012,2013,2014,2015,2016,2017,2018,2020,2021],\"xaxis\":\"x\",\"y\":[6.2,5.7,6.949999999999999,6.9,7.0,7.05,6.1,7.9,7.033333333333334,6.5,6.0,6.35,6.6000000000000005,6.6,6.45,6.5,7.2,6.3,6.55,5.9,6.25,6.075,6.266666666666667,6.175,6.766666666666667,6.466666666666666,6.425,6.720000000000001,6.68,5.816666666666666,5.95,6.533333333333334,6.82,6.4,5.833333333333333,6.0,6.233333333333333,5.85,6.5,6.416666666666667,4.35,5.6,5.949999999999999,7.9,6.633333333333333,5.1,5.5,4.0,7.1,7.1,7.2,5.45,6.7,5.9,6.95,5.65,8.3,6.3,7.475,6.3,7.2,6.8],\"yaxis\":\"y\",\"type\":\"scatter\"},{\"hovertemplate\":\"Genre=Comedy, Drama\\u003cbr\\u003eYear=%{x}\\u003cbr\\u003eRating=%{y}\\u003cextra\\u003e\\u003c\\u002fextra\\u003e\",\"legendgroup\":\"Comedy, Drama\",\"line\":{\"color\":\"#ab63fa\",\"dash\":\"solid\"},\"marker\":{\"symbol\":\"circle\"},\"mode\":\"lines\",\"name\":\"Comedy, Drama\",\"orientation\":\"v\",\"showlegend\":true,\"x\":[1943,1946,1956,1957,1959,1961,1963,1964,1967,1968,1969,1970,1971,1974,1977,1978,1979,1980,1981,1982,1983,1985,1986,1987,1988,1989,1992,1994,1995,1996,1999,2001,2003,2004,2005,2006,2007,2008,2009,2010,2011,2012,2013,2014,2015,2016,2017,2018,2019,2020,2021],\"xaxis\":\"x\",\"y\":[6.9,6.5,8.2,6.8,7.0,7.4,5.8,6.0,7.4,6.15,7.5,7.2,7.0,7.2,6.4,6.5,6.45,7.2,7.0,5.3,6.925,5.833333333333333,6.1,5.5,5.933333333333334,6.4,6.533333333333334,7.1,4.65,5.95,5.85,5.333333333333333,5.375,3.4000000000000004,6.333333333333333,6.4,6.8,5.611111111111111,5.685714285714285,5.845454545454545,5.43125,5.1,6.1,4.875,5.371428571428572,6.25,6.188888888888889,6.14,6.847058823529412,5.554545454545455,7.5],\"yaxis\":\"y\",\"type\":\"scatter\"},{\"hovertemplate\":\"Genre=Romance\\u003cbr\\u003eYear=%{x}\\u003cbr\\u003eRating=%{y}\\u003cextra\\u003e\\u003c\\u002fextra\\u003e\",\"legendgroup\":\"Romance\",\"line\":{\"color\":\"#FFA15A\",\"dash\":\"solid\"},\"marker\":{\"symbol\":\"circle\"},\"mode\":\"lines\",\"name\":\"Romance\",\"orientation\":\"v\",\"showlegend\":true,\"x\":[1947,1949,1953,1954,1955,1956,1957,1958,1959,1962,1963,1964,1968,1969,1970,1973,1974,1976,1977,1978,1980,1981,1982,1983,1984,1985,1986,1987,1991,1992,1993,1994,1995,1997,1998,1999,2000,2001,2002,2003,2004,2005,2006,2007,2008,2009,2010,2011,2012,2013,2014,2015,2016,2017,2018,2019,2020],\"xaxis\":\"x\",\"y\":[4.2,7.1,7.35,5.4,8.6,5.449999999999999,7.3,5.8,6.833333333333333,6.7,6.5,6.0,6.9,6.4,6.9,6.3,6.800000000000001,5.8,5.5,6.1,6.4,7.7,6.066666666666666,5.75,6.1,5.5,6.5,6.3,5.05,5.220000000000001,4.25,4.95,3.8,5.3,5.5,5.75,4.3,6.5,6.9,6.4,4.75,4.075,5.766666666666667,4.9,3.5500000000000003,6.0,2.55,5.266666666666667,4.7,5.275,3.6,5.833333333333333,3.95,5.35,5.733333333333333,6.35,5.800000000000001],\"yaxis\":\"y\",\"type\":\"scatter\"},{\"hovertemplate\":\"Genre=Action, Drama\\u003cbr\\u003eYear=%{x}\\u003cbr\\u003eRating=%{y}\\u003cextra\\u003e\\u003c\\u002fextra\\u003e\",\"legendgroup\":\"Action, Drama\",\"line\":{\"color\":\"#19d3f3\",\"dash\":\"solid\"},\"marker\":{\"symbol\":\"circle\"},\"mode\":\"lines\",\"name\":\"Action, Drama\",\"orientation\":\"v\",\"showlegend\":true,\"x\":[1951,1954,1969,1971,1972,1973,1974,1975,1977,1978,1979,1980,1981,1982,1983,1984,1985,1986,1987,1988,1989,1990,1991,1992,1993,1994,1995,1996,1997,1998,1999,2000,2001,2002,2003,2004,2005,2006,2008,2011,2013,2014,2018,2019,2020],\"xaxis\":\"x\",\"y\":[6.4,6.1,4.9,6.65,5.5,6.55,6.449999999999999,6.2,5.425,5.85,5.875,6.666666666666667,6.225,6.25,5.866666666666667,5.922222222222222,6.183333333333334,5.754545454545454,5.36,5.54,5.477777777777778,5.314285714285715,4.911111111111111,6.733333333333333,5.15,4.558333333333334,5.036363636363636,4.95,5.357142857142857,4.875,5.477777777777778,4.6,5.8999999999999995,5.6375,4.3,4.066666666666666,5.5,5.0,4.533333333333333,6.3,5.35,5.533333333333334,6.7,6.757142857142857,5.533333333333334],\"yaxis\":\"y\",\"type\":\"scatter\"},{\"hovertemplate\":\"Genre=Comedy\\u003cbr\\u003eYear=%{x}\\u003cbr\\u003eRating=%{y}\\u003cextra\\u003e\\u003c\\u002fextra\\u003e\",\"legendgroup\":\"Comedy\",\"line\":{\"color\":\"#FF6692\",\"dash\":\"solid\"},\"marker\":{\"symbol\":\"circle\"},\"mode\":\"lines\",\"name\":\"Comedy\",\"orientation\":\"v\",\"showlegend\":true,\"x\":[1952,1953,1956,1960,1961,1962,1963,1966,1968,1969,1971,1972,1975,1976,1977,1978,1981,1982,1983,1984,1985,1986,1988,1989,1994,1995,1996,1997,1998,1999,2002,2003,2004,2005,2006,2007,2008,2009,2010,2011,2012,2013,2014,2015,2016,2017,2018,2019,2020,2021],\"xaxis\":\"x\",\"y\":[7.4,5.9,6.45,6.8,7.0,5.4,7.15,6.9,6.8,6.6,6.8,5.5,5.6,6.8,6.7,7.0,5.8,7.75,6.1000000000000005,6.6,7.55,6.4,6.25,6.3,6.2,4.2,5.0,4.25,5.6,4.85,6.5,4.825,5.475,4.971428571428571,5.45,4.42,7.3,7.133333333333333,5.35,5.15,5.1923076923076925,5.033333333333334,5.372727272727273,5.108333333333333,5.188888888888888,5.583333333333333,5.425,6.300000000000001,5.95,5.6],\"yaxis\":\"y\",\"type\":\"scatter\"},{\"hovertemplate\":\"Genre=Action\\u003cbr\\u003eYear=%{x}\\u003cbr\\u003eRating=%{y}\\u003cextra\\u003e\\u003c\\u002fextra\\u003e\",\"legendgroup\":\"Action\",\"line\":{\"color\":\"#B6E880\",\"dash\":\"solid\"},\"marker\":{\"symbol\":\"circle\"},\"mode\":\"lines\",\"name\":\"Action\",\"orientation\":\"v\",\"showlegend\":true,\"x\":[1953,1964,1968,1969,1970,1973,1976,1977,1978,1979,1980,1981,1982,1983,1984,1985,1986,1987,1988,1989,1990,1991,1992,1993,1994,1995,1996,1997,1998,1999,2000,2001,2002,2003,2004,2005,2006,2007,2009,2010,2011,2012,2013,2014,2015,2016,2017,2018,2019,2020],\"xaxis\":\"x\",\"y\":[4.6,2.8,6.1,6.9,3.8,6.8,6.3,5.3,5.8,5.5,6.066666666666666,5.2,3.4,5.4,5.285714285714286,5.111111111111111,6.066666666666666,5.2749999999999995,5.05,5.7,5.08,4.8,4.5600000000000005,4.875,3.85,4.8,5.65,4.585714285714286,4.111111111111111,4.871428571428572,4.233333333333333,5.028571428571428,4.457142857142857,4.616666666666666,4.675,6.9,5.35,5.6499999999999995,6.5,4.8,6.0,4.2,3.8,4.466666666666667,5.033333333333333,6.5,5.74,6.1,6.0,6.8],\"yaxis\":\"y\",\"type\":\"scatter\"},{\"hovertemplate\":\"Genre=Comedy, Drama, Romance\\u003cbr\\u003eYear=%{x}\\u003cbr\\u003eRating=%{y}\\u003cextra\\u003e\\u003c\\u002fextra\\u003e\",\"legendgroup\":\"Comedy, Drama, Romance\",\"line\":{\"color\":\"#FF97FF\",\"dash\":\"solid\"},\"marker\":{\"symbol\":\"circle\"},\"mode\":\"lines\",\"name\":\"Comedy, Drama, Romance\",\"orientation\":\"v\",\"showlegend\":true,\"x\":[1954,1955,1956,1960,1961,1962,1963,1965,1966,1967,1969,1971,1972,1975,1976,1978,1979,1980,1981,1984,1985,1986,1990,1992,1993,1996,1997,1998,1999,2000,2001,2002,2003,2004,2005,2006,2007,2008,2009,2010,2011,2012,2013,2014,2015,2016,2017,2018,2019,2020,2021],\"xaxis\":\"x\",\"y\":[6.7,7.2,6.15,6.65,6.2,5.9,6.8,6.2,7.2,6.5,5.266666666666667,6.55,5.4,8.3,6.800000000000001,6.1,5.9,7.45,6.2,7.4,6.566666666666666,7.65,6.7,5.525,5.175,6.8,5.933333333333334,6.0,4.275,5.1,6.08,4.64,5.3999999999999995,4.425,5.685714285714285,5.533333333333334,5.82,5.6,5.483333333333333,5.88,5.533333333333333,6.0874999999999995,5.685714285714286,5.477777777777778,5.86,3.8499999999999996,5.64,4.833333333333333,5.433333333333334,5.425,6.7],\"yaxis\":\"y\",\"type\":\"scatter\"},{\"hovertemplate\":\"Genre=Action, Crime, Drama\\u003cbr\\u003eYear=%{x}\\u003cbr\\u003eRating=%{y}\\u003cextra\\u003e\\u003c\\u002fextra\\u003e\",\"legendgroup\":\"Action, Crime, Drama\",\"line\":{\"color\":\"#FECB52\",\"dash\":\"solid\"},\"marker\":{\"symbol\":\"circle\"},\"mode\":\"lines\",\"name\":\"Action, Crime, Drama\",\"orientation\":\"v\",\"showlegend\":true,\"x\":[1955,1956,1959,1960,1961,1962,1963,1965,1967,1968,1969,1971,1972,1973,1974,1975,1976,1977,1978,1979,1980,1981,1982,1983,1984,1985,1986,1987,1988,1989,1990,1991,1992,1993,1994,1995,1996,1997,1998,1999,2000,2001,2002,2003,2004,2005,2006,2007,2008,2009,2010,2011,2012,2013,2014,2015,2016,2017,2018,2019,2020,2021],\"xaxis\":\"x\",\"y\":[6.0,6.1,7.1,7.15,5.5,5.35,7.0,6.3,5.8,6.133333333333333,6.366666666666667,5.4,4.699999999999999,6.266666666666667,5.800000000000001,7.5,5.8,6.133333333333333,5.2,6.0,6.779999999999999,6.366666666666667,5.933333333333334,6.033333333333334,5.55,6.216666666666666,6.2,5.925000000000001,5.957142857142857,5.65625,5.416666666666667,4.585714285714286,5.2,5.5,4.728571428571429,4.975,5.54,5.82,5.8125,5.95,4.963636363636364,5.5600000000000005,5.6,5.066666666666666,5.875,5.9399999999999995,5.125,5.2,6.1000000000000005,5.45,5.16,5.958333333333333,4.866666666666666,5.136363636363637,6.6,6.325,6.840000000000001,6.0600000000000005,6.466666666666666,7.0,6.2,6.7],\"yaxis\":\"y\",\"type\":\"scatter\"}],                        {\"template\":{\"data\":{\"histogram2dcontour\":[{\"type\":\"histogram2dcontour\",\"colorbar\":{\"outlinewidth\":0,\"ticks\":\"\"},\"colorscale\":[[0.0,\"#0d0887\"],[0.1111111111111111,\"#46039f\"],[0.2222222222222222,\"#7201a8\"],[0.3333333333333333,\"#9c179e\"],[0.4444444444444444,\"#bd3786\"],[0.5555555555555556,\"#d8576b\"],[0.6666666666666666,\"#ed7953\"],[0.7777777777777778,\"#fb9f3a\"],[0.8888888888888888,\"#fdca26\"],[1.0,\"#f0f921\"]]}],\"choropleth\":[{\"type\":\"choropleth\",\"colorbar\":{\"outlinewidth\":0,\"ticks\":\"\"}}],\"histogram2d\":[{\"type\":\"histogram2d\",\"colorbar\":{\"outlinewidth\":0,\"ticks\":\"\"},\"colorscale\":[[0.0,\"#0d0887\"],[0.1111111111111111,\"#46039f\"],[0.2222222222222222,\"#7201a8\"],[0.3333333333333333,\"#9c179e\"],[0.4444444444444444,\"#bd3786\"],[0.5555555555555556,\"#d8576b\"],[0.6666666666666666,\"#ed7953\"],[0.7777777777777778,\"#fb9f3a\"],[0.8888888888888888,\"#fdca26\"],[1.0,\"#f0f921\"]]}],\"heatmap\":[{\"type\":\"heatmap\",\"colorbar\":{\"outlinewidth\":0,\"ticks\":\"\"},\"colorscale\":[[0.0,\"#0d0887\"],[0.1111111111111111,\"#46039f\"],[0.2222222222222222,\"#7201a8\"],[0.3333333333333333,\"#9c179e\"],[0.4444444444444444,\"#bd3786\"],[0.5555555555555556,\"#d8576b\"],[0.6666666666666666,\"#ed7953\"],[0.7777777777777778,\"#fb9f3a\"],[0.8888888888888888,\"#fdca26\"],[1.0,\"#f0f921\"]]}],\"heatmapgl\":[{\"type\":\"heatmapgl\",\"colorbar\":{\"outlinewidth\":0,\"ticks\":\"\"},\"colorscale\":[[0.0,\"#0d0887\"],[0.1111111111111111,\"#46039f\"],[0.2222222222222222,\"#7201a8\"],[0.3333333333333333,\"#9c179e\"],[0.4444444444444444,\"#bd3786\"],[0.5555555555555556,\"#d8576b\"],[0.6666666666666666,\"#ed7953\"],[0.7777777777777778,\"#fb9f3a\"],[0.8888888888888888,\"#fdca26\"],[1.0,\"#f0f921\"]]}],\"contourcarpet\":[{\"type\":\"contourcarpet\",\"colorbar\":{\"outlinewidth\":0,\"ticks\":\"\"}}],\"contour\":[{\"type\":\"contour\",\"colorbar\":{\"outlinewidth\":0,\"ticks\":\"\"},\"colorscale\":[[0.0,\"#0d0887\"],[0.1111111111111111,\"#46039f\"],[0.2222222222222222,\"#7201a8\"],[0.3333333333333333,\"#9c179e\"],[0.4444444444444444,\"#bd3786\"],[0.5555555555555556,\"#d8576b\"],[0.6666666666666666,\"#ed7953\"],[0.7777777777777778,\"#fb9f3a\"],[0.8888888888888888,\"#fdca26\"],[1.0,\"#f0f921\"]]}],\"surface\":[{\"type\":\"surface\",\"colorbar\":{\"outlinewidth\":0,\"ticks\":\"\"},\"colorscale\":[[0.0,\"#0d0887\"],[0.1111111111111111,\"#46039f\"],[0.2222222222222222,\"#7201a8\"],[0.3333333333333333,\"#9c179e\"],[0.4444444444444444,\"#bd3786\"],[0.5555555555555556,\"#d8576b\"],[0.6666666666666666,\"#ed7953\"],[0.7777777777777778,\"#fb9f3a\"],[0.8888888888888888,\"#fdca26\"],[1.0,\"#f0f921\"]]}],\"mesh3d\":[{\"type\":\"mesh3d\",\"colorbar\":{\"outlinewidth\":0,\"ticks\":\"\"}}],\"scatter\":[{\"fillpattern\":{\"fillmode\":\"overlay\",\"size\":10,\"solidity\":0.2},\"type\":\"scatter\"}],\"parcoords\":[{\"type\":\"parcoords\",\"line\":{\"colorbar\":{\"outlinewidth\":0,\"ticks\":\"\"}}}],\"scatterpolargl\":[{\"type\":\"scatterpolargl\",\"marker\":{\"colorbar\":{\"outlinewidth\":0,\"ticks\":\"\"}}}],\"bar\":[{\"error_x\":{\"color\":\"#2a3f5f\"},\"error_y\":{\"color\":\"#2a3f5f\"},\"marker\":{\"line\":{\"color\":\"#E5ECF6\",\"width\":0.5},\"pattern\":{\"fillmode\":\"overlay\",\"size\":10,\"solidity\":0.2}},\"type\":\"bar\"}],\"scattergeo\":[{\"type\":\"scattergeo\",\"marker\":{\"colorbar\":{\"outlinewidth\":0,\"ticks\":\"\"}}}],\"scatterpolar\":[{\"type\":\"scatterpolar\",\"marker\":{\"colorbar\":{\"outlinewidth\":0,\"ticks\":\"\"}}}],\"histogram\":[{\"marker\":{\"pattern\":{\"fillmode\":\"overlay\",\"size\":10,\"solidity\":0.2}},\"type\":\"histogram\"}],\"scattergl\":[{\"type\":\"scattergl\",\"marker\":{\"colorbar\":{\"outlinewidth\":0,\"ticks\":\"\"}}}],\"scatter3d\":[{\"type\":\"scatter3d\",\"line\":{\"colorbar\":{\"outlinewidth\":0,\"ticks\":\"\"}},\"marker\":{\"colorbar\":{\"outlinewidth\":0,\"ticks\":\"\"}}}],\"scattermapbox\":[{\"type\":\"scattermapbox\",\"marker\":{\"colorbar\":{\"outlinewidth\":0,\"ticks\":\"\"}}}],\"scatterternary\":[{\"type\":\"scatterternary\",\"marker\":{\"colorbar\":{\"outlinewidth\":0,\"ticks\":\"\"}}}],\"scattercarpet\":[{\"type\":\"scattercarpet\",\"marker\":{\"colorbar\":{\"outlinewidth\":0,\"ticks\":\"\"}}}],\"carpet\":[{\"aaxis\":{\"endlinecolor\":\"#2a3f5f\",\"gridcolor\":\"white\",\"linecolor\":\"white\",\"minorgridcolor\":\"white\",\"startlinecolor\":\"#2a3f5f\"},\"baxis\":{\"endlinecolor\":\"#2a3f5f\",\"gridcolor\":\"white\",\"linecolor\":\"white\",\"minorgridcolor\":\"white\",\"startlinecolor\":\"#2a3f5f\"},\"type\":\"carpet\"}],\"table\":[{\"cells\":{\"fill\":{\"color\":\"#EBF0F8\"},\"line\":{\"color\":\"white\"}},\"header\":{\"fill\":{\"color\":\"#C8D4E3\"},\"line\":{\"color\":\"white\"}},\"type\":\"table\"}],\"barpolar\":[{\"marker\":{\"line\":{\"color\":\"#E5ECF6\",\"width\":0.5},\"pattern\":{\"fillmode\":\"overlay\",\"size\":10,\"solidity\":0.2}},\"type\":\"barpolar\"}],\"pie\":[{\"automargin\":true,\"type\":\"pie\"}]},\"layout\":{\"autotypenumbers\":\"strict\",\"colorway\":[\"#636efa\",\"#EF553B\",\"#00cc96\",\"#ab63fa\",\"#FFA15A\",\"#19d3f3\",\"#FF6692\",\"#B6E880\",\"#FF97FF\",\"#FECB52\"],\"font\":{\"color\":\"#2a3f5f\"},\"hovermode\":\"closest\",\"hoverlabel\":{\"align\":\"left\"},\"paper_bgcolor\":\"white\",\"plot_bgcolor\":\"#E5ECF6\",\"polar\":{\"bgcolor\":\"#E5ECF6\",\"angularaxis\":{\"gridcolor\":\"white\",\"linecolor\":\"white\",\"ticks\":\"\"},\"radialaxis\":{\"gridcolor\":\"white\",\"linecolor\":\"white\",\"ticks\":\"\"}},\"ternary\":{\"bgcolor\":\"#E5ECF6\",\"aaxis\":{\"gridcolor\":\"white\",\"linecolor\":\"white\",\"ticks\":\"\"},\"baxis\":{\"gridcolor\":\"white\",\"linecolor\":\"white\",\"ticks\":\"\"},\"caxis\":{\"gridcolor\":\"white\",\"linecolor\":\"white\",\"ticks\":\"\"}},\"coloraxis\":{\"colorbar\":{\"outlinewidth\":0,\"ticks\":\"\"}},\"colorscale\":{\"sequential\":[[0.0,\"#0d0887\"],[0.1111111111111111,\"#46039f\"],[0.2222222222222222,\"#7201a8\"],[0.3333333333333333,\"#9c179e\"],[0.4444444444444444,\"#bd3786\"],[0.5555555555555556,\"#d8576b\"],[0.6666666666666666,\"#ed7953\"],[0.7777777777777778,\"#fb9f3a\"],[0.8888888888888888,\"#fdca26\"],[1.0,\"#f0f921\"]],\"sequentialminus\":[[0.0,\"#0d0887\"],[0.1111111111111111,\"#46039f\"],[0.2222222222222222,\"#7201a8\"],[0.3333333333333333,\"#9c179e\"],[0.4444444444444444,\"#bd3786\"],[0.5555555555555556,\"#d8576b\"],[0.6666666666666666,\"#ed7953\"],[0.7777777777777778,\"#fb9f3a\"],[0.8888888888888888,\"#fdca26\"],[1.0,\"#f0f921\"]],\"diverging\":[[0,\"#8e0152\"],[0.1,\"#c51b7d\"],[0.2,\"#de77ae\"],[0.3,\"#f1b6da\"],[0.4,\"#fde0ef\"],[0.5,\"#f7f7f7\"],[0.6,\"#e6f5d0\"],[0.7,\"#b8e186\"],[0.8,\"#7fbc41\"],[0.9,\"#4d9221\"],[1,\"#276419\"]]},\"xaxis\":{\"gridcolor\":\"white\",\"linecolor\":\"white\",\"ticks\":\"\",\"title\":{\"standoff\":15},\"zerolinecolor\":\"white\",\"automargin\":true,\"zerolinewidth\":2},\"yaxis\":{\"gridcolor\":\"white\",\"linecolor\":\"white\",\"ticks\":\"\",\"title\":{\"standoff\":15},\"zerolinecolor\":\"white\",\"automargin\":true,\"zerolinewidth\":2},\"scene\":{\"xaxis\":{\"backgroundcolor\":\"#E5ECF6\",\"gridcolor\":\"white\",\"linecolor\":\"white\",\"showbackground\":true,\"ticks\":\"\",\"zerolinecolor\":\"white\",\"gridwidth\":2},\"yaxis\":{\"backgroundcolor\":\"#E5ECF6\",\"gridcolor\":\"white\",\"linecolor\":\"white\",\"showbackground\":true,\"ticks\":\"\",\"zerolinecolor\":\"white\",\"gridwidth\":2},\"zaxis\":{\"backgroundcolor\":\"#E5ECF6\",\"gridcolor\":\"white\",\"linecolor\":\"white\",\"showbackground\":true,\"ticks\":\"\",\"zerolinecolor\":\"white\",\"gridwidth\":2}},\"shapedefaults\":{\"line\":{\"color\":\"#2a3f5f\"}},\"annotationdefaults\":{\"arrowcolor\":\"#2a3f5f\",\"arrowhead\":0,\"arrowwidth\":1},\"geo\":{\"bgcolor\":\"white\",\"landcolor\":\"#E5ECF6\",\"subunitcolor\":\"white\",\"showland\":true,\"showlakes\":true,\"lakecolor\":\"white\"},\"title\":{\"x\":0.05},\"mapbox\":{\"style\":\"light\"}}},\"xaxis\":{\"anchor\":\"y\",\"domain\":[0.0,1.0],\"title\":{\"text\":\"Year\"}},\"yaxis\":{\"anchor\":\"x\",\"domain\":[0.0,1.0],\"title\":{\"text\":\"Average Rating\"}},\"legend\":{\"title\":{\"text\":\"Genre\"},\"tracegroupgap\":0},\"margin\":{\"t\":60},\"title\":{\"text\":\"Average Rating by Year for Top Genres\"}},                        {\"responsive\": true}                    ).then(function(){\n",
              "                            \n",
              "var gd = document.getElementById('abbbb8e5-4f48-489f-961f-5ced06939bd5');\n",
              "var x = new MutationObserver(function (mutations, observer) {{\n",
              "        var display = window.getComputedStyle(gd).display;\n",
              "        if (!display || display === 'none') {{\n",
              "            console.log([gd, 'removed!']);\n",
              "            Plotly.purge(gd);\n",
              "            observer.disconnect();\n",
              "        }}\n",
              "}});\n",
              "\n",
              "// Listen for the removal of the full notebook cells\n",
              "var notebookContainer = gd.closest('#notebook-container');\n",
              "if (notebookContainer) {{\n",
              "    x.observe(notebookContainer, {childList: true});\n",
              "}}\n",
              "\n",
              "// Listen for the clearing of the current output cell\n",
              "var outputEl = gd.closest('.output');\n",
              "if (outputEl) {{\n",
              "    x.observe(outputEl, {childList: true});\n",
              "}}\n",
              "\n",
              "                        })                };                            </script>        </div>\n",
              "</body>\n",
              "</html>"
            ]
          },
          "metadata": {},
          "output_type": "display_data"
        }
      ],
      "source": [
        "# Group by Year and Genre to calculate average rating\n",
        "avg_rating_by_year = df_movie.groupby(['Year','Genre'])['Rating'].mean().reset_index()\n",
        "\n",
        "# Get top 10 most frequent genres\n",
        "top_genres = df_movie['Genre'].value_counts().head(10).index\n",
        "\n",
        "# Filter to include only top genres\n",
        "average_rating_by_year = avg_rating_by_year[avg_rating_by_year['Genre'].isin(top_genres)]\n",
        "\n",
        "# Plot line chart of average rating by year for top genres\n",
        "fig = px.line(average_rating_by_year, x='Year', y='Rating', color='Genre')\n",
        "\n",
        "# Add titles to the plot\n",
        "fig.update_layout(title='Average Rating by Year for Top Genres', xaxis_title='Year', yaxis_title='Average Rating')\n",
        "\n",
        "# Show the plot\n",
        "fig.show()\n"
      ]
    },
    {
      "cell_type": "code",
      "execution_count": 26,
      "metadata": {
        "colab": {
          "base_uri": "https://localhost:8080/",
          "height": 542
        },
        "id": "-N6HGn7YITZm",
        "outputId": "c0cc2dd0-e50d-438d-9e50-1eae118f5847"
      },
      "outputs": [
        {
          "data": {
            "text/html": [
              "<html>\n",
              "<head><meta charset=\"utf-8\" /></head>\n",
              "<body>\n",
              "    <div>            <script src=\"https://cdnjs.cloudflare.com/ajax/libs/mathjax/2.7.5/MathJax.js?config=TeX-AMS-MML_SVG\"></script><script type=\"text/javascript\">if (window.MathJax && window.MathJax.Hub && window.MathJax.Hub.Config) {window.MathJax.Hub.Config({SVG: {font: \"STIX-Web\"}});}</script>                <script type=\"text/javascript\">window.PlotlyConfig = {MathJaxConfig: 'local'};</script>\n",
              "        <script charset=\"utf-8\" src=\"https://cdn.plot.ly/plotly-2.35.2.min.js\"></script>                <div id=\"5e27f470-bd03-4b2c-913e-f981ad3229f2\" class=\"plotly-graph-div\" style=\"height:525px; width:100%;\"></div>            <script type=\"text/javascript\">                                    window.PLOTLYENV=window.PLOTLYENV || {};                                    if (document.getElementById(\"5e27f470-bd03-4b2c-913e-f981ad3229f2\")) {                    Plotly.newPlot(                        \"5e27f470-bd03-4b2c-913e-f981ad3229f2\",                        [{\"alignmentgroup\":\"True\",\"bingroup\":\"x\",\"histnorm\":\"probability density\",\"hovertemplate\":\"Rating=%{x}\\u003cbr\\u003eprobability density=%{y}\\u003cextra\\u003e\\u003c\\u002fextra\\u003e\",\"legendgroup\":\"\",\"marker\":{\"color\":\"#636efa\",\"pattern\":{\"shape\":\"\"}},\"name\":\"\",\"nbinsx\":40,\"offsetgroup\":\"\",\"orientation\":\"v\",\"showlegend\":false,\"x\":[7.0,4.4,4.7,7.4,5.6,4.0,6.2,5.9,6.5,5.7,7.4,6.3,7.2,4.4,6.6,7.3,7.1,5.6,6.9,3.5,4.5,6.4,4.1,4.8,4.5,7.2,8.1,4.0,5.5,6.8,5.0,6.9,6.2,3.5,6.1,6.1,7.7,6.1,5.1,6.9,5.0,3.3,7.8,6.9,8.4,6.9,4.3,5.8,5.7,7.5,5.7,5.6,5.6,3.6,6.3,7.3,4.8,7.8,5.7,6.5,4.6,4.2,6.2,5.3,5.0,5.7,6.2,6.1,4.1,5.3,5.3,5.4,6.6,4.7,5.3,7.3,7.4,4.8,8.1,6.3,7.5,6.8,4.5,3.0,6.3,6.2,8.0,7.3,6.0,3.1,3.8,7.9,8.1,5.5,8.0,5.0,7.2,4.4,2.7,6.8,2.4,5.5,7.4,5.5,5.1,7.6,6.4,5.4,6.7,6.8,6.5,6.7,6.2,5.0,7.6,5.4,4.2,5.3,7.4,4.6,4.1,5.3,4.8,4.8,3.4,5.0,3.1,5.0,4.2,7.2,6.0,6.0,6.8,5.5,5.6,3.1,4.7,5.1,5.3,3.5,4.3,3.1,5.8,5.0,3.3,5.6,4.4,6.2,6.7,7.1,5.2,4.1,5.0,4.9,6.3,6.9,7.3,2.8,6.3,7.9,7.0,5.4,7.2,3.0,7.7,4.8,7.7,6.5,6.4,6.4,6.4,5.7,5.6,6.4,8.1,6.1,7.4,4.8,6.6,6.7,7.4,6.4,6.5,4.2,5.1,6.6,5.7,7.0,6.3,3.6,6.3,3.1,5.6,5.2,4.5,6.1,6.1,6.2,6.7,6.6,6.6,4.6,5.4,6.5,5.3,7.1,6.7,3.8,4.3,5.5,6.3,7.0,3.7,7.3,6.1,5.2,3.8,4.8,5.5,6.8,4.5,7.2,6.4,3.9,5.2,4.4,4.5,5.8,4.2,3.8,6.4,7.0,5.1,6.1,5.4,6.6,4.4,5.0,6.6,7.6,4.0,4.8,7.8,5.8,4.0,4.6,3.2,6.3,6.4,4.8,7.0,5.4,6.8,7.9,7.0,4.6,6.7,5.8,4.0,6.8,4.0,6.5,5.0,4.5,3.3,4.2,3.6,6.9,6.4,6.6,6.7,5.4,4.7,6.8,7.3,5.0,6.9,3.3,5.5,6.6,4.7,6.2,4.6,5.8,4.6,4.5,6.6,6.5,7.8,3.6,5.9,7.1,6.3,6.4,6.6,5.7,5.2,7.1,5.1,3.1,5.6,7.7,6.9,7.8,6.0,6.1,3.6,4.6,4.6,6.2,2.9,7.2,5.9,4.1,7.0,7.0,5.7,8.0,6.6,5.0,6.6,4.1,6.9,6.6,5.3,4.4,4.2,6.4,5.8,6.5,3.7,6.7,6.9,6.4,5.3,5.0,6.9,6.3,6.6,5.0,7.7,5.5,7.0,5.6,5.1,5.3,5.8,4.8,3.6,6.7,5.9,4.6,6.4,3.8,6.9,6.8,6.6,3.7,7.0,7.5,5.5,5.9,6.4,6.2,6.7,6.5,6.3,7.8,3.8,7.9,4.8,6.2,6.1,4.3,5.4,3.7,4.0,4.7,6.5,6.6,7.0,6.8,6.6,6.1,8.2,4.4,6.5,4.9,7.5,2.8,4.2,6.9,4.4,6.6,6.6,4.9,5.4,6.2,5.6,8.1,6.6,7.0,7.3,6.9,8.7,5.9,7.1,8.3,7.6,7.1,7.9,4.8,6.2,5.0,7.2,5.4,5.3,7.2,6.7,4.4,8.1,6.8,6.8,6.1,8.2,5.1,6.8,5.5,5.0,6.4,4.3,5.3,6.3,8.3,6.1,4.4,7.3,7.0,6.1,7.2,7.1,6.4,5.3,6.9,5.6,5.8,3.9,5.8,3.4,4.8,7.1,4.1,7.2,8.0,5.5,6.5,8.0,7.5,5.6,7.3,7.0,7.9,4.9,7.1,7.7,4.9,6.3,7.4,6.3,6.9,6.6,6.4,4.5,7.3,6.6,6.3,7.2,7.3,5.5,7.1,4.4,5.2,6.7,3.4,7.4,6.6,6.6,6.7,6.8,6.6,5.4,5.7,7.4,3.5,6.2,6.8,5.3,6.5,6.0,5.6,6.2,6.8,6.1,6.8,7.3,7.5,6.1,7.6,6.5,8.2,7.2,3.6,5.2,4.3,6.8,6.8,5.2,4.3,5.3,6.3,6.2,7.9,8.2,6.9,7.0,4.4,7.0,7.1,3.4,6.7,4.9,6.3,5.2,7.6,3.7,4.8,9.3,6.5,4.3,7.5,7.3,7.3,5.4,8.8,4.3,5.4,5.6,2.9,6.0,5.9,6.4,8.2,6.9,5.3,3.8,4.3,6.0,4.2,6.5,7.2,7.4,4.2,4.8,5.9,6.4,4.5,6.5,5.7,6.0,6.0,7.2,7.9,5.9,6.2,5.1,6.2,7.3,8.7,3.6,7.0,6.2,5.1,6.4,6.2,5.5,7.6,7.2,7.2,5.0,7.1,5.7,8.8,6.4,2.1,8.3,6.4,5.1,5.4,6.9,4.9,4.2,5.2,4.8,2.1,5.7,6.1,7.3,7.0,6.2,6.0,6.4,5.3,6.2,7.2,6.1,3.2,6.4,5.1,6.8,7.3,3.2,6.6,7.3,6.4,6.3,6.5,7.7,7.5,6.7,7.1,7.3,4.8,5.9,6.9,8.0,2.7,2.7,6.1,6.3,8.2,6.2,3.3,3.5,5.0,6.7,7.0,4.9,6.7,6.3,3.6,6.0,5.8,8.0,4.5,6.9,5.4,4.4,5.4,6.7,6.2,7.8,7.6,7.4,4.7,4.8,6.0,2.5,4.3,4.6,7.1,6.6,6.1,5.9,7.7,6.4,7.2,7.4,5.5,4.7,5.7,7.1,7.6,7.1,8.8,6.0,6.5,6.5,6.3,6.8,6.7,7.3,7.4,9.3,5.3,7.2,7.7,8.0,2.7,4.2,2.3,7.3,5.6,6.8,6.9,8.1,7.5,5.6,4.3,3.6,6.0,7.2,6.1,3.2,4.2,6.7,6.1,7.2,5.1,4.8,7.2,7.1,5.8,7.9,6.2,7.7,7.1,6.1,7.6,5.9,5.6,4.5,5.1,4.9,5.9,3.7,6.0,6.2,6.8,5.6,5.9,5.6,8.1,4.9,5.1,6.0,4.7,7.3,7.7,5.4,6.3,6.9,3.7,5.9,3.7,6.8,6.5,7.1,6.8,7.2,7.5,2.8,6.0,6.3,7.0,8.0,6.9,6.8,7.3,4.8,3.1,4.8,3.9,5.6,7.1,5.1,3.9,5.6,5.6,5.9,2.8,6.9,3.7,4.6,7.0,6.8,4.4,7.3,5.3,6.1,6.2,6.8,6.3,5.4,3.6,6.3,6.6,4.4,4.8,5.8,6.8,7.6,5.1,4.4,5.6,4.9,6.3,5.5,5.2,6.7,6.1,7.0,7.3,4.0,5.2,8.2,3.6,4.1,6.7,5.4,8.3,2.5,6.0,6.5,4.6,5.6,6.1,4.3,8.7,6.0,4.4,5.1,4.9,3.8,5.7,3.2,6.0,5.8,4.6,7.8,5.3,7.1,7.5,4.6,4.6,6.2,5.5,5.1,6.0,6.2,6.8,4.9,5.7,6.6,6.8,5.8,7.6,4.3,6.6,4.3,3.4,4.9,6.4,6.2,7.6,4.7,6.2,6.1,5.9,4.9,7.0,4.8,5.0,7.1,7.3,5.3,6.5,5.8,6.5,4.0,2.5,5.4,6.6,6.3,6.5,7.1,7.2,8.0,7.8,6.7,4.6,5.6,7.4,7.5,5.0,6.5,7.0,3.8,6.4,4.4,7.5,4.5,6.2,6.9,5.7,3.8,6.0,4.5,5.1,3.9,7.6,5.9,6.2,5.5,7.1,4.1,6.9,5.8,5.7,7.0,8.2,6.2,6.7,8.5,7.4,6.6,8.6,5.4,6.7,4.1,7.1,6.2,5.0,3.7,5.7,6.5,7.7,6.5,6.6,7.1,5.5,4.8,4.7,6.3,5.5,6.1,7.9,6.0,4.8,6.1,5.2,6.4,7.0,4.5,6.9,6.5,6.0,6.7,4.6,6.8,5.6,5.1,2.3,4.2,8.0,7.9,2.9,5.1,6.4,7.5,7.6,6.9,6.9,5.2,5.7,6.3,6.2,3.9,6.5,7.6,7.3,7.2,6.7,2.6,7.0,7.6,7.4,5.4,6.6,6.8,7.8,6.9,3.6,5.0,6.0,6.1,4.8,6.8,6.2,6.1,5.4,5.4,4.1,7.3,5.8,3.4,4.5,5.7,4.2,6.8,5.6,4.2,6.5,7.0,7.7,7.0,6.8,7.2,5.7,3.4,4.1,7.9,7.8,3.5,5.5,3.9,6.8,5.8,6.1,4.0,7.7,4.1,4.5,8.6,5.9,5.8,7.4,7.9,4.7,5.6,8.2,5.6,6.8,4.2,6.8,6.4,3.8,4.6,4.9,4.7,6.1,7.0,6.1,8.6,6.5,5.9,6.8,4.4,6.0,6.6,5.7,8.0,7.0,6.6,7.0,7.5,4.0,4.3,5.5,4.7,6.8,6.4,6.8,6.7,5.0,4.7,4.8,4.6,6.7,6.8,7.6,6.9,4.0,4.3,4.1,8.3,6.9,7.1,8.1,6.7,5.6,8.0,6.5,5.3,7.1,4.5,4.9,5.4,8.0,5.9,1.7,6.8,3.9,6.5,6.4,6.8,5.7,5.8,3.8,6.1,7.5,7.7,6.0,6.2,3.1,7.6,6.8,6.8,7.4,5.1,6.3,8.3,7.1,8.3,4.6,5.7,6.2,5.5,6.5,5.2,5.7,3.7,5.5,4.7,6.6,6.1,8.3,6.7,4.6,8.4,5.3,5.6,6.4,7.2,6.7,7.5,6.6,7.1,6.8,4.6,4.0,6.0,7.8,6.8,6.5,7.5,3.9,7.3,4.8,5.8,7.4,6.5,6.9,4.7,6.1,6.5,4.2,6.5,4.5,5.8,7.7,4.8,5.0,5.4,7.0,5.3,7.1,7.4,3.1,6.1,6.8,5.3,4.9,2.4,6.8,8.3,5.4,3.7,6.7,7.4,6.8,5.8,2.3,3.5,7.3,6.9,6.3,5.9,7.0,5.6,7.7,4.2,6.2,5.3,5.7,7.9,7.1,6.5,9.0,4.0,6.2,5.4,6.6,6.6,6.7,2.9,6.5,4.8,7.7,6.8,5.3,5.6,6.2,3.1,5.7,5.1,7.3,6.9,6.1,8.3,6.8,4.4,4.6,6.2,6.5,7.0,7.0,4.8,6.0,3.9,3.1,5.1,4.5,7.1,6.1,6.3,6.2,4.8,3.0,6.5,5.0,4.8,7.2,6.4,3.8,7.7,4.9,6.2,7.4,6.3,5.5,5.3,4.7,3.9,3.8,5.0,4.9,3.3,7.0,4.0,7.8,6.7,6.1,6.6,2.6,3.9,3.7,8.4,3.9,5.7,7.0,8.3,5.4,7.5,6.1,7.0,5.2,5.1,6.5,5.6,3.8,7.2,6.3,5.4,7.7,7.1,7.8,4.9,6.0,4.3,5.3,6.4,3.8,6.9,4.7,7.1,6.8,7.8,7.4,5.9,6.1,5.7,6.2,7.2,6.5,8.1,7.3,7.2,5.5,6.6,4.1,6.4,6.3,6.3,5.8,7.8,6.6,7.5,7.5,7.1,4.3,7.6,4.6,6.5,8.1,6.9,2.4,6.7,5.7,5.0,4.7,5.3,6.6,6.4,4.5,7.4,6.1,5.6,5.9,7.6,6.2,5.6,6.1,5.9,3.1,6.2,4.9,5.5,1.4,6.0,3.6,5.7,4.0,6.4,7.7,6.2,6.9,8.0,4.2,7.2,7.1,7.6,6.2,7.9,6.6,7.8,5.8,5.2,2.6,5.7,3.5,5.5,3.7,5.1,4.5,6.5,4.4,7.3,5.4,6.5,5.0,3.4,7.3,4.3,4.4,6.0,3.5,6.3,6.7,7.0,5.8,5.8,6.7,7.3,7.0,6.4,7.8,7.0,6.5,7.0,6.2,6.3,6.3,4.5,6.7,6.7,6.5,5.4,3.4,5.6,7.2,4.5,8.1,7.2,6.9,7.2,2.4,8.9,6.1,6.1,3.6,7.6,7.0,6.7,5.0,5.5,6.1,6.6,4.6,8.1,7.0,6.9,6.2,6.4,3.5,7.0,6.7,3.1,7.3,5.3,7.1,5.1,4.6,5.3,3.7,5.7,4.8,5.3,5.7,4.9,5.3,5.1,5.2,4.4,7.0,4.8,5.0,5.0,7.6,5.1,7.0,5.0,7.0,5.8,6.5,5.0,5.3,5.5,3.8,4.5,6.7,5.1,5.8,7.4,5.3,6.3,3.7,7.1,3.7,5.7,5.1,8.1,7.2,4.0,2.5,6.4,7.0,5.2,5.1,5.7,3.8,6.9,6.9,8.4,7.0,6.2,8.4,6.3,5.3,6.0,7.5,7.2,6.1,6.1,6.5,3.6,6.5,7.1,7.2,3.8,6.0,6.7,5.7,4.4,7.0,6.3,3.3,7.1,6.4,7.1,3.7,3.2,6.5,7.2,6.4,4.5,5.4,4.9,7.2,7.8,7.1,4.7,3.9,6.7,4.6,4.0,8.2,7.7,6.0,6.2,7.0,6.9,7.9,5.3,7.0,5.2,8.4,5.7,3.3,5.5,4.2,3.8,8.2,7.0,6.0,6.8,3.8,1.9,5.3,8.1,7.0,6.2,5.2,7.1,8.2,3.5,7.6,5.9,4.6,6.5,5.2,6.5,7.1,4.2,5.1,6.7,5.1,7.9,6.6,5.6,7.5,6.2,7.0,7.0,6.9,6.3,3.7,5.6,6.5,6.2,4.6,3.8,5.7,6.6,5.6,6.9,6.9,5.4,7.1,4.0,5.0,4.9,7.1,7.0,6.1,7.7,4.3,7.4,4.5,7.4,4.7,7.2,5.6,6.8,6.5,7.8,7.7,5.2,5.7,6.7,6.3,6.6,5.5,6.7,7.0,6.3,8.5,4.7,7.1,7.3,2.9,6.6,3.8,6.4,3.9,7.1,8.3,7.5,6.4,7.2,2.5,5.4,7.5,5.8,3.4,7.0,6.5,6.3,5.7,6.5,5.7,5.5,6.9,5.7,6.1,4.0,6.8,3.7,6.9,6.8,6.6,5.8,6.8,7.3,8.2,4.9,7.0,4.4,4.3,6.6,5.7,6.9,4.0,3.9,5.5,5.7,6.9,4.4,5.2,4.7,6.9,5.9,5.7,6.0,6.1,5.8,8.0,5.3,6.0,4.4,6.2,4.2,6.5,5.7,6.1,6.1,7.8,4.3,6.2,7.1,5.9,4.7,3.4,4.6,4.5,5.3,7.3,6.5,6.0,7.1,8.4,5.6,4.9,7.0,7.2,6.9,6.1,4.5,4.7,4.1,5.1,6.2,4.3,8.0,6.9,5.6,4.6,6.2,6.6,5.7,5.4,6.2,5.5,6.4,5.8,4.7,5.5,6.1,3.3,5.5,5.8,5.1,7.3,6.9,5.7,7.4,4.4,7.2,7.7,6.8,4.4,6.2,7.0,4.8,5.3,5.4,6.1,6.0,5.1,8.3,6.0,6.3,3.4,7.5,5.0,5.3,6.5,6.2,6.4,7.5,4.6,4.7,5.2,4.3,4.9,4.9,6.8,6.6,6.5,7.1,2.8,5.2,5.4,4.7,6.9,8.3,6.5,7.2,3.1,6.2,8.3,6.0,5.8,7.1,4.8,7.2,4.6,7.2,3.7,5.3,5.0,3.5,5.1,7.3,7.1,4.5,6.5,5.0,5.1,5.2,5.3,6.5,7.1,5.8,8.0,2.5,7.3,4.6,7.6,7.6,6.1,3.6,5.2,4.7,6.4,5.4,5.7,4.6,7.8,7.3,8.2,7.1,5.3,5.3,6.8,4.5,7.3,5.8,6.7,3.4,7.4,8.1,7.3,7.0,6.5,3.5,8.8,6.0,2.7,5.6,4.2,5.9,6.9,6.0,6.8,5.4,6.1,6.7,5.3,4.9,6.1,7.3,5.8,7.0,5.8,4.4,7.1,5.5,4.9,7.6,4.0,6.0,5.8,5.9,6.6,6.6,5.7,4.7,7.1,6.9,4.6,6.7,7.4,6.9,7.6,6.3,6.8,5.4,9.4,5.5,5.4,2.3,5.0,4.3,7.3,6.2,6.6,6.6,7.2,6.3,4.9,6.8,5.7,5.6,3.2,2.1,5.6,2.7,6.7,8.1,9.3,3.6,7.0,7.1,6.7,7.3,6.3,5.9,5.5,5.0,5.1,7.4,7.0,3.8,6.9,6.4,5.8,7.6,7.0,6.9,7.0,5.5,5.9,7.4,5.0,4.9,7.4,6.7,6.1,5.1,6.8,4.4,3.6,5.7,6.9,7.2,4.2,4.7,5.3,4.2,6.7,5.4,8.4,5.4,2.4,6.1,8.1,7.5,6.3,8.0,7.0,3.7,7.8,6.9,6.2,4.7,3.3,5.6,5.8,5.1,4.9,6.7,7.3,4.2,2.4,4.1,7.6,5.3,6.8,3.5,7.3,6.5,5.5,6.7,5.6,7.7,7.1,2.7,6.0,4.9,6.6,6.7,7.5,5.8,3.4,3.7,7.6,5.7,6.3,6.2,6.9,5.4,4.2,7.3,5.8,4.3,5.3,4.9,8.4,6.1,2.5,8.1,5.3,4.9,6.1,7.1,6.8,4.4,9.7,7.4,7.2,6.1,7.9,6.4,6.7,5.6,7.8,7.5,6.7,5.3,7.8,7.1,6.4,6.7,6.0,8.5,7.7,7.6,5.7,7.6,5.4,7.4,7.4,6.5,5.4,5.9,3.2,5.0,4.5,7.8,4.6,4.6,4.4,5.2,6.6,6.4,7.9,6.4,7.7,6.5,7.2,5.5,7.5,6.2,1.9,5.7,6.9,6.8,4.4,6.2,6.7,5.4,4.7,5.3,4.4,4.5,3.3,7.9,6.0,5.6,4.2,6.9,4.1,5.6,4.1,6.3,6.7,6.2,3.3,7.4,5.5,2.7,6.2,6.5,7.1,7.9,5.1,7.0,5.1,4.0,3.4,5.6,3.3,4.7,5.6,2.7,6.3,3.8,6.0,4.3,6.4,6.8,8.2,5.3,6.7,3.5,4.8,6.2,6.2,5.5,5.1,5.3,2.9,7.9,6.3,6.0,7.5,4.2,5.4,5.4,7.6,3.7,6.8,6.4,4.5,5.0,5.1,4.5,4.3,1.7,6.6,7.9,6.2,5.3,5.9,5.4,2.9,5.4,6.1,3.8,4.3,7.4,5.9,7.2,7.0,3.1,6.6,6.5,5.6,6.1,6.3,3.5,4.2,4.7,5.2,5.1,5.0,6.2,5.8,3.8,7.6,7.1,5.5,5.8,7.3,6.4,5.5,5.3,5.0,3.5,6.9,6.4,6.1,4.6,7.1,7.0,6.4,6.8,5.7,7.5,5.8,5.7,7.5,6.6,7.5,6.3,7.1,6.2,4.8,5.5,7.4,4.2,3.6,4.4,7.2,6.5,5.6,5.3,6.5,5.7,6.3,3.5,6.0,4.5,5.8,2.7,7.0,4.7,4.6,5.9,6.4,5.3,3.6,5.4,7.5,4.9,1.7,6.7,5.2,4.8,6.9,6.0,6.4,5.3,6.1,1.8,7.5,7.0,6.9,7.2,6.8,5.2,6.1,6.8,6.0,6.5,8.0,5.7,7.2,8.6,5.4,7.3,6.0,5.6,3.5,3.4,4.1,4.6,6.9,5.4,5.9,4.5,6.5,3.6,4.7,6.0,6.1,9.2,7.4,5.4,5.7,5.3,7.4,7.1,5.9,7.1,7.1,5.4,8.2,6.9,4.5,7.0,3.0,7.3,6.0,7.2,6.0,6.9,6.0,5.8,7.4,5.7,4.7,4.8,4.2,3.9,5.4,6.8,6.5,6.4,4.6,3.0,7.4,4.6,6.8,6.9,6.2,6.8,6.8,5.1,3.8,2.6,5.0,6.5,4.8,5.8,8.1,4.7,6.3,6.7,5.0,5.4,4.7,6.5,2.6,7.3,3.8,6.9,4.0,3.1,5.8,6.8,5.7,5.5,6.0,4.8,4.1,7.3,5.7,5.4,6.4,7.5,4.4,6.7,4.5,6.7,7.3,6.8,5.0,3.5,6.9,4.5,4.3,7.4,4.5,7.2,7.0,5.8,5.0,5.3,4.1,6.5,4.2,7.2,5.8,6.9,4.1,7.3,4.1,5.6,5.9,4.7,6.6,5.3,5.9,4.6,4.8,8.4,2.7,3.3,3.8,4.8,7.5,6.5,6.8,6.1,5.8,6.1,2.8,5.0,6.0,6.3,4.2,5.3,6.9,6.8,6.2,6.7,5.6,7.9,6.5,4.4,7.5,2.0,8.1,6.1,6.6,6.5,6.4,5.1,6.8,3.9,6.4,6.1,7.8,5.6,5.1,5.2,7.9,5.2,5.1,7.2,3.6,6.2,5.3,3.6,5.0,6.2,5.3,5.6,5.2,5.8,6.7,5.7,6.0,5.7,7.0,7.1,6.6,7.5,7.1,4.0,4.0,4.4,2.9,6.2,6.7,2.7,4.2,5.9,6.2,2.8,6.9,6.5,7.0,6.0,3.9,5.8,5.6,6.6,5.2,7.6,6.0,5.6,2.9,4.6,5.0,5.6,5.3,5.8,4.2,5.5,5.4,4.8,4.4,4.8,6.7,4.6,5.9,6.9,5.9,5.7,4.8,4.1,3.8,6.6,4.9,6.3,7.1,7.3,5.1,8.0,6.1,7.2,6.5,7.2,6.9,7.1,7.2,8.2,6.3,5.9,3.7,5.7,6.1,4.7,6.6,4.6,7.0,5.9,4.4,5.2,4.9,2.5,6.4,3.4,8.6,4.9,7.4,5.2,3.0,3.6,5.7,8.2,7.6,6.1,3.5,5.8,7.4,6.2,7.3,6.4,6.8,6.8,6.8,5.6,7.5,7.8,6.0,4.9,7.3,2.4,7.5,7.2,5.1,9.0,6.2,6.2,5.7,4.6,2.1,3.1,6.6,6.1,5.9,3.9,5.9,6.1,3.6,6.2,6.5,6.1,4.0,2.3,3.7,9.4,4.0,4.2,5.6,6.1,6.2,7.3,5.6,3.1,7.6,5.6,4.2,5.6,5.4,6.8,5.4,4.6,7.9,5.3,5.6,5.8,4.2,7.6,8.0,5.9,5.0,7.1,6.5,9.1,6.1,7.1,7.6,3.9,8.0,8.9,6.2,4.6,6.7,7.7,4.2,6.4,6.3,3.4,5.0,6.8,3.3,2.7,6.4,4.6,6.6,4.2,7.3,3.8,6.5,4.8,6.3,5.0,3.6,5.4,6.8,6.6,6.2,6.1,7.8,7.4,4.3,6.2,7.4,7.1,4.8,3.7,3.1,6.8,7.8,5.9,6.4,6.0,6.1,7.0,6.6,5.3,6.8,7.1,6.8,8.1,5.8,5.7,8.1,6.6,5.8,6.9,5.2,6.0,5.6,5.7,7.5,6.9,6.3,7.8,5.4,6.2,6.6,2.8,7.9,6.9,6.7,7.9,6.2,3.6,6.3,6.0,5.5,7.4,5.7,7.1,5.6,6.4,6.3,3.6,6.3,5.8,6.2,5.7,8.0,6.7,5.1,6.7,7.2,7.8,6.5,5.2,4.1,6.5,3.9,7.4,7.1,7.2,5.1,5.8,6.0,8.2,6.2,6.8,6.6,6.7,3.7,5.8,7.9,3.1,5.6,6.3,4.6,7.3,6.9,8.2,7.7,5.5,7.1,4.0,6.8,4.2,6.2,6.5,4.8,6.1,6.5,2.7,6.7,7.4,2.9,5.0,4.4,4.4,7.0,7.1,5.1,3.0,7.7,7.6,7.5,3.9,2.1,6.6,5.1,4.5,5.1,5.7,4.3,5.9,7.0,5.4,6.7,7.1,6.0,6.9,7.8,5.6,6.9,7.2,6.4,7.8,5.6,4.9,5.1,5.9,3.2,6.1,3.8,5.5,7.8,6.4,7.1,6.7,5.0,6.9,6.8,5.7,3.3,4.7,5.7,7.4,8.1,2.3,5.6,5.9,5.6,7.4,7.2,5.7,4.0,3.7,6.3,4.6,7.5,7.7,3.3,7.7,3.5,7.5,4.0,5.9,6.2,6.5,4.0,6.9,7.2,5.8,5.1,5.0,5.2,4.8,7.5,5.7,4.4,6.6,5.8,7.0,8.1,6.4,4.0,7.5,6.2,5.2,7.2,5.8,7.2,7.2,5.2,4.3,6.0,6.8,7.2,7.1,6.8,5.1,5.3,6.4,5.7,6.6,4.8,4.1,6.1,2.7,6.2,5.6,4.1,5.5,2.8,8.3,4.7,6.2,7.5,6.3,7.6,6.5,7.4,8.1,3.2,6.9,5.1,5.8,5.8,5.8,4.1,7.1,4.4,4.6,5.5,5.9,7.8,4.1,5.8,5.3,4.6,4.3,6.3,6.7,7.1,6.3,5.1,6.3,7.5,2.5,5.7,5.6,5.3,6.1,6.3,5.9,5.1,3.7,5.2,7.4,6.1,4.2,4.2,4.5,4.6,7.1,3.3,4.6,7.4,7.4,6.1,4.5,6.0,6.8,4.5,6.7,5.5,5.4,5.2,2.4,3.5,7.9,4.7,3.5,7.1,6.3,7.4,7.4,7.3,8.6,3.8,6.9,5.4,6.2,7.2,3.8,6.3,7.4,4.6,4.2,5.8,7.8,5.7,4.7,6.6,6.5,5.2,6.5,5.1,4.4,6.5,6.4,5.2,5.9,6.7,4.3,4.2,8.5,3.8,4.6,7.6,2.5,5.4,4.3,5.6,7.5,3.4,3.7,6.9,4.5,5.1,8.5,5.3,6.6,6.5,5.8,5.1,7.2,5.7,4.2,5.7,6.0,4.7,4.3,8.9,7.4,5.9,3.6,6.1,3.9,6.1,1.9,4.9,5.4,5.6,4.2,5.8,5.8,5.4,7.3,8.0,3.4,3.2,7.1,4.4,6.4,3.6,5.8,3.6,6.0,5.9,6.2,5.2,8.1,8.0,6.5,7.2,4.5,6.3,2.8,6.1,3.4,8.0,7.8,6.7,7.3,6.9,4.4,5.4,6.8,7.0,4.7,5.0,7.9,7.9,3.2,5.7,6.2,6.5,6.3,6.7,7.4,4.6,5.0,7.4,7.3,5.8,5.8,6.0,8.8,3.4,6.6,6.5,6.0,6.6,5.2,2.4,6.2,5.3,7.3,6.6,8.9,4.9,7.5,6.7,5.1,6.1,5.7,6.3,5.7,6.8,8.2,5.9,4.4,7.4,5.4,5.5,5.3,5.8,7.1,6.6,7.9,6.4,5.9,7.1,8.4,5.6,8.0,6.8,6.6,8.6,5.1,6.1,5.8,5.1,6.5,5.2,5.8,6.1,6.0,5.5,7.8,7.0,4.4,3.8,6.4,5.3,5.7,7.7,6.8,3.3,7.6,7.3,5.1,7.0,5.9,5.7,4.7,6.8,7.4,7.4,3.8,5.1,5.8,5.2,5.3,6.0,4.3,6.5,3.1,3.6,6.8,4.2,6.6,6.0,5.7,5.5,7.6,7.2,10.0,4.4,7.4,9.3,6.5,2.6,5.8,5.3,3.0,5.3,6.0,4.5,5.1,7.1,7.5,4.8,7.1,7.1,6.2,5.1,4.7,7.6,6.3,5.6,6.4,4.8,4.7,6.6,5.3,5.5,6.2,5.6,3.9,5.1,7.9,5.0,5.9,7.2,6.5,7.5,6.6,5.1,4.4,4.6,3.5,7.8,7.0,5.7,5.4,3.1,3.7,6.3,8.6,5.4,4.5,5.8,8.6,2.3,2.7,7.6,4.6,3.7,5.3,6.2,6.2,6.3,4.6,3.2,8.0,5.4,7.0,3.6,7.7,5.1,5.0,6.5,6.4,5.7,6.1,6.9,7.3,5.3,6.8,4.9,7.1,6.6,7.6,4.1,5.0,7.1,5.6,7.7,8.0,6.3,6.2,6.7,6.8,4.3,4.8,6.3,6.6,5.2,5.2,7.2,5.8,7.4,7.0,7.3,6.5,5.3,4.2,4.0,4.5,6.5,5.1,4.7,6.7,6.8,4.1,7.8,7.2,3.7,5.5,5.1,5.4,2.8,7.7,8.1,5.3,5.2,6.0,7.0,6.5,6.6,7.7,6.8,5.7,5.2,6.9,7.3,5.2,6.5,7.5,5.9,6.6,6.2,6.5,3.6,6.4,8.0,7.2,6.7,7.1,7.1,7.6,6.8,7.4,6.0,6.0,6.9,4.2,8.1,5.9,6.2,4.2,7.4,7.3,7.4,7.2,4.8,6.4,3.6,3.5,4.9,5.1,5.4,4.9,6.1,6.8,7.1,8.2,8.2,5.2,4.1,6.2,7.3,5.3,5.8,5.2,8.4,5.8,7.2,5.4,5.2,6.8,4.8,6.5,6.2,5.1,3.3,2.4,4.8,7.7,5.6,7.7,8.1,4.7,2.8,4.3,4.2,5.4,3.5,4.7,7.0,5.4,6.5,6.9,5.9,2.7,6.7,8.5,6.5,5.7,3.6,7.9,6.7,6.9,7.2,6.2,6.6,5.5,7.2,5.3,6.6,6.1,6.7,6.5,3.5,3.4,5.9,7.2,6.6,7.5,6.8,3.8,6.4,7.2,7.4,7.6,7.2,6.1,3.6,4.4,5.6,4.8,7.0,4.7,5.8,8.0,4.1,3.8,4.6,8.8,4.9,7.6,3.9,5.2,4.7,5.5,7.4,6.6,5.4,5.6,5.8,6.4,5.0,3.5,6.7,7.0,6.4,6.9,3.5,5.6,6.9,6.1,6.3,7.3,5.3,6.6,5.1,5.1,3.9,6.5,5.6,7.3,3.2,7.1,5.0,6.0,5.7,5.3,6.0,6.2,6.8,5.0,6.0,4.1,6.6,2.5,7.5,6.2,6.2,6.5,7.7,3.9,6.1,7.0,4.1,7.3,4.6,7.1,4.3,6.1,7.5,6.4,6.3,4.5,5.4,3.2,7.6,5.8,4.3,3.4,6.7,6.5,3.8,7.1,6.8,6.9,5.3,4.7,6.4,8.0,6.5,5.6,5.5,5.3,4.5,6.7,3.5,5.3,7.1,6.8,7.1,7.1,6.8,5.7,7.0,5.3,4.2,6.2,4.8,7.3,5.9,2.7,5.5,3.3,6.6,7.4,5.8,4.4,9.0,6.7,4.7,7.9,4.3,8.0,4.8,7.0,3.6,5.3,3.6,7.2,6.4,4.2,5.4,4.3,4.0,7.8,6.8,4.8,6.6,5.5,6.7,7.4,4.2,3.3,5.5,7.0,3.8,6.3,5.8,6.6,2.5,7.3,6.5,4.8,6.6,6.7,5.8,2.5,5.5,8.6,7.2,3.9,6.0,6.5,6.6,5.0,6.1,6.9,6.7,6.9,7.0,7.2,6.9,4.8,6.8,2.7,1.6,4.8,5.9,5.7,5.2,7.7,4.9,6.1,3.3,6.6,6.4,5.2,4.9,7.4,5.3,8.1,3.2,3.3,4.0,6.5,4.2,5.5,4.8,7.5,5.4,6.2,4.9,7.4,5.5,4.8,6.3,4.4,7.0,5.7,7.1,7.6,5.5,6.7,5.5,7.2,6.2,7.4,7.5,4.7,6.2,4.6,4.4,5.3,6.4,3.1,6.9,8.0,6.1,6.5,5.7,7.2,5.4,5.0,4.2,4.1,5.8,5.6,4.4,5.5,6.0,7.5,5.9,5.9,4.3,6.3,4.5,5.8,4.5,6.7,4.8,6.7,7.1,7.9,6.8,5.6,6.7,6.3,6.5,6.3,7.4,6.3,4.3,6.8,7.5,6.4,5.9,3.3,5.0,6.1,4.1,7.3,7.3,2.2,7.1,7.4,7.6,5.4,8.2,6.0,6.2,5.9,5.4,8.6,7.4,5.5,6.8,7.0,6.5,6.5,7.1,5.3,5.6,3.8,3.2,5.1,6.2,4.9,6.2,6.8,2.5,5.4,5.6,6.6,7.4,6.4,6.2,6.5,5.8,7.1,6.5,4.4,5.8,8.0,5.5,7.0,4.4,6.9,7.8,5.4,6.3,3.9,4.7,6.9,7.8,3.2,6.8,7.7,6.8,6.1,7.4,6.5,7.6,5.5,3.8,5.4,3.2,7.6,7.7,7.4,7.7,6.8,7.7,2.7,6.1,5.2,4.3,6.2,8.3,7.5,4.9,4.0,3.9,7.7,9.1,5.5,5.9,9.1,6.3,5.4,4.9,5.9,2.9,7.6,4.2,6.6,6.3,7.2,4.3,7.3,5.8,7.2,3.9,6.0,6.0,5.0,6.9,7.6,5.6,6.3,4.3,5.7,5.1,5.3,3.3,6.2,6.6,5.1,7.5,8.2,5.4,8.0,6.3,4.2,5.4,5.2,7.1,5.5,6.7,7.2,8.1,8.1,4.9,7.0,6.7,7.4,4.6,5.4,4.2,7.5,5.0,5.6,7.0,3.1,5.3,6.1,6.4,7.4,6.9,6.2,3.5,5.5,8.0,4.7,7.0,6.6,7.0,8.5,3.3,4.8,7.7,3.9,6.8,7.2,6.5,8.2,7.7,6.2,4.1,5.1,5.0,5.2,5.4,3.8,7.6,4.9,3.3,6.7,7.9,7.1,7.1,7.0,2.4,8.1,7.2,3.2,5.8,3.9,7.3,6.9,6.7,4.5,7.6,6.5,7.0,6.4,6.3,6.5,4.1,4.9,6.5,6.5,4.6,6.5,5.5,7.6,5.3,6.5,6.4,5.9,3.9,8.6,7.3,6.8,5.2,6.8,5.3,3.7,4.6,5.5,7.6,2.2,6.5,6.0,5.9,6.7,6.5,5.7,5.0,6.2,6.4,4.3,6.2,7.6,6.4,7.1,7.0,7.0,6.2,8.1,4.8,6.6,7.5,7.2,7.8,7.2,6.3,7.6,6.6,5.8,7.2,6.8,6.9,6.8,2.2,7.6,6.9,7.2,5.7,7.1,6.2,5.5,6.4,4.1,4.6,6.2,7.1,5.7,4.0,5.6,7.8,5.8,4.3,3.8,4.6,6.6,5.6,6.6,8.0,7.0,5.6,4.4,5.5,7.1,4.2,2.8,7.2,7.0,6.4,7.4,4.4,5.7,4.9,6.4,4.4,5.5,6.2,4.8,8.3,7.1,6.3,6.6,6.0,7.3,3.8,6.7,5.9,7.5,4.8,5.0,6.1,7.2,6.2,7.0,6.2,6.1,5.4,7.5,2.7,5.8,6.6,6.9,6.5,5.4,5.8,6.3,6.2,4.4,5.7,3.9,3.2,7.6,6.9,6.0,5.4,5.8,6.2,6.3,6.1,6.7,7.6,8.0,7.9,8.1,8.4,8.7,5.9,6.3,5.0,6.7,4.5,8.3,2.7,6.2,8.1,5.5,4.1,3.7,5.4,4.1,3.1,6.5,5.2,4.5,3.4,6.6,4.1,4.1,5.0,4.6,7.0,5.2,6.8,7.8,4.0,6.4,5.4,6.9,5.6,8.0,4.9,6.2,4.3,6.8,5.9,5.5,6.0,7.8,7.0,5.5,4.9,7.4,6.5,6.7,6.2,4.1,1.7,5.2,7.7,5.9,6.6,6.3,7.6,5.9,6.9,2.1,4.4,7.2,6.5,6.1,6.1,5.7,3.5,5.5,4.2,4.4,7.7,5.8,4.6,6.7,7.4,7.0,6.2,6.6,6.4,6.6,7.4,4.7,6.0,6.3,7.8,7.4,6.4,8.4,5.2,6.3,6.5,5.9,3.9,4.6,7.6,7.2,6.1,4.3,6.4,3.6,6.7,6.1,6.7,3.3,6.1,6.7,5.7,5.9,6.5,8.4,3.3,5.3,7.4,6.3,6.9,6.3,6.3,3.8,6.1,6.5,6.8,6.2,4.4,6.2,5.6,5.6,7.4,6.1,3.6,7.1,3.3,6.8,5.0,5.7,6.1,7.1,4.0,6.0,5.2,3.1,7.0,6.0,7.5,4.7,5.1,8.2,5.8,7.0,5.2,4.7,5.1,5.4,8.1,6.5,7.4,6.2,7.5,3.6,6.3,6.3,7.6,4.9,5.7,7.1,7.3,7.6,5.2,6.3,4.3,5.4,6.2,5.2,6.5,4.0,4.4,5.6,7.8,7.2,4.3,6.7,5.4,1.9,4.8,7.3,7.9,1.8,2.9,6.8,3.6,3.4,6.9,4.3,4.9,3.8,7.6,5.6,6.8,7.0,5.8,5.4,7.4,8.0,7.2,7.5,7.9,7.6,6.2,6.1,6.1,5.3,4.3,6.9,6.3,3.7,6.0,6.2,3.7,3.4,6.1,6.3,4.6,2.9,2.3,4.5,7.0,5.8,7.1,7.3,3.3,6.4,3.1,6.8,5.1,6.5,6.6,3.7,7.6,6.5,3.1,2.9,4.7,5.8,7.6,4.7,5.3,6.5,7.4,6.3,6.7,1.7,5.4,6.6,6.8,7.2,3.7,8.0,5.8,6.0,6.7,3.9,3.4,7.5,5.7,4.5,5.9,4.7,6.7,5.4,6.4,7.6,6.8,6.9,6.1,3.6,7.3,4.8,7.1,8.1,6.2,7.5,2.3,5.0,5.6,5.1,6.7,5.8,7.2,6.9,6.2,7.7,5.7,4.2,4.3,2.9,5.7,7.2,3.5,5.9,4.8,6.8,6.4,6.3,2.8,3.3,9.0,3.9,9.3,5.4,5.5,5.9,7.6,3.2,8.0,7.7,5.2,4.5,7.0,6.8,4.9,4.6,7.0,8.4,5.1,8.5,4.5,6.9,6.4,6.7,7.6,3.5,6.5,4.6,6.6,7.0,6.8,6.7,4.6,6.4,8.7,5.6,6.1,7.4,6.8,5.2,7.8,5.6,4.2,5.0,7.7,7.5,7.4,7.7,6.9,3.9,6.8,5.2,4.2,6.9,6.6,3.9,4.3,2.6,3.5,4.9,6.1,6.2,6.8,6.3,6.9,5.8,6.8,6.0,5.7,3.3,5.5,7.2,2.7,6.5,7.7,6.4,4.8,5.7,7.5,6.5,6.6,4.0,5.4,3.7,6.3,7.1,6.2,6.2,6.4,5.7,5.4,7.1,7.2,7.2,6.4,6.0,4.9,7.6,6.3,7.7,8.2,5.8,3.1,8.2,7.1,5.6,6.5,5.9,5.7,7.1,7.2,6.2,6.8,5.1,6.7,2.8,5.2,5.1,5.8,5.1,5.7,4.8,4.4,3.5,6.5,3.4,6.9,6.0,6.8,2.9,7.5,6.7,7.3,4.5,8.6,5.8,6.5,1.1,7.1,7.2,6.6,4.5,8.4,7.2,6.1,6.4,5.6,6.0,6.6,7.2,4.4,6.8,4.7,4.8,8.3,5.7,4.2,6.1,6.7,7.1,4.1,6.6,5.4,5.8,5.8,8.0,6.2,6.4,5.1,7.6,3.6,5.6,7.3,6.9,6.6,6.2,7.5,7.1,6.7,6.9,5.4,6.7,7.8,7.4,5.8,6.2,6.1,6.0,5.5,4.8,5.4,3.2,4.8,7.4,6.9,6.3,5.4,7.5,7.3,4.2,5.6,6.8,6.7,3.2,7.0,6.9,6.2,7.0,7.7,6.2,5.0,6.4,6.6,7.3,7.9,8.1,6.5,6.7,2.8,5.8,6.7,7.1,6.8,3.3,7.2,5.2,7.2,6.8,4.5,7.3,6.4,7.3,4.7,7.9,4.1,6.6,5.2,8.1,6.8,6.9,6.2,7.5,3.9,7.0,7.6,4.9,6.7,4.8,5.3,5.4,6.7,6.3,5.0,5.3,6.8,7.2,8.2,5.9,5.9,7.2,8.2,7.1,5.2,5.7,4.0,7.2,3.8,7.2,6.8,5.8,3.8,4.7,6.0,6.2,6.1,6.5,6.3,7.6,6.3,5.5,7.6,6.2,2.5,5.3,6.0,4.1,6.5,3.8,7.5,7.8,9.3,8.1,6.8,7.5,6.8,6.8,4.4,6.8,7.7,6.9,6.8,5.3,5.2,4.1,5.1,6.9,5.6,7.6,3.5,4.1,4.9,6.0,7.1,3.5,5.4,5.1,6.6,6.2,5.6,7.4,7.1,7.2,7.9,6.8,6.3,4.6,8.2,6.9,7.4,5.0,7.1,5.4,7.2,4.3,4.8,4.9,2.3,3.2,6.8,6.0,7.7,2.6,6.7,6.1,6.3,3.5,6.5,6.6,6.8,6.8,5.2,7.2,6.5,5.6,5.5,6.0,4.3,5.5,7.4,6.6,7.1,5.8,4.9,6.8,4.6,5.5,4.9,7.0,6.7,6.4,3.5,4.6,6.1,6.9,7.2,6.1,7.3,7.4,7.2,3.9,6.5,4.2,8.5,5.4,4.0,5.1,4.5,3.6,6.6,3.8,4.6,5.7,5.6,7.0,4.9,5.6,4.6,8.1,7.0,4.8,4.2,8.1,3.9,4.6,4.7,6.2,4.2,6.2,5.2,7.3,6.5,8.2,7.7,6.8,5.0,7.1,5.9,7.2,7.2,6.6,5.7,2.3,6.4,3.4,6.5,3.6,7.3,6.3,8.0,7.5,7.0,7.2,4.8,8.2,7.0,6.4,6.6,5.0,6.3,6.9,5.8,4.5,6.0,7.9,6.4,5.1,7.2,6.6,6.2,7.5,7.3,6.4,3.9,4.5,2.9,6.2,6.6,4.0,7.3,2.5,7.1,8.5,5.6,5.1,9.3,5.1,6.5,5.0,5.7,5.6,6.8,5.5,5.7,5.1,4.2,7.7,6.2,3.4,5.8,5.1,6.5,7.5,5.5,6.9,6.3,5.3,6.6,7.1,6.5,6.5,5.9,4.3,7.4,7.2,6.1,5.9,6.9,6.2,7.0,6.0,5.1,5.5,2.8,4.0,3.5,5.3,8.1,6.0,4.8,7.2,6.7,7.1,9.1,7.4,5.6,6.3,6.1,5.8,5.6,7.1,5.8,5.7,5.3,4.7,6.1,5.9,8.0,2.9,6.5,4.9,7.8,4.6,8.5,4.4,7.8,6.3,7.5,8.2,6.2,5.6,6.2,5.8,4.9,7.5,7.6,3.6,5.2,3.7,6.3,6.9,6.5,5.3,2.2,2.6,6.7,5.4,6.5,8.2,7.2,3.7,4.0,6.7,5.7,4.8,6.1,6.4,6.8,7.3,7.1,3.2,5.6,7.0,6.2,7.1,6.9,6.3,5.4,5.9,5.3,6.6,6.8,5.4,6.1,5.6,4.5,2.5,8.6,6.5,6.8,4.3,5.9,8.0,1.9,4.6,5.5,4.5,8.0,6.0,6.4,6.8,6.7,5.7,5.9,7.3,4.1,6.3,5.4,4.5,7.3,8.2,6.5,6.8,6.3,6.7,5.5,6.7,7.4,6.1,3.4,4.2,8.7,5.6,6.7,7.3,4.8,4.5,4.4,7.2,4.7,5.6,4.7,5.7,5.4,5.3,7.5,6.6,6.7,5.0,5.7,6.1,4.6,5.4,6.7,7.2,4.7,4.3,6.6,5.5,5.4,8.2,4.0,4.4,6.8,7.6,7.3,5.1,5.6,8.4,6.0,7.6,8.7,7.5,6.8,7.6,7.2,6.0,6.3,4.2,6.5,7.3,5.5,6.9,6.9,4.5,7.6,4.6,5.0,7.2,8.1,3.8,5.6,3.8,4.5,3.9,6.9,4.4,2.6,7.4,7.1,5.2,6.9,6.3,7.3,6.4,7.3,4.0,6.8,5.8,6.9,4.1,6.3,6.4,7.5,2.6,6.3,5.2,6.4,2.6,7.9,7.7,5.9,6.3,6.3,2.5,5.5,5.4,1.8,3.0,6.0,4.9,4.0,2.6,7.2,4.3,5.1,7.4,2.4,5.3,5.3,7.2,6.2,5.8,5.9,6.2,6.1,3.1,7.0,5.7,6.7,5.0,5.4,4.7,5.3,6.8,6.2,4.0,7.0,3.9,5.2,5.9,5.7,5.6,6.1,4.7,7.9,6.8,6.7,4.2,4.8,6.3,6.0,7.3,7.1,5.7,6.8,6.9,6.4,6.1,7.4,5.6,5.4,8.0,5.9,6.8,7.6,7.7,6.4,7.2,5.9,6.1,2.4,6.6,3.6,6.0,6.0,7.5,5.1,6.9,6.4,6.0,3.4,6.2,5.4,9.2,5.0,5.2,7.6,4.4,7.1,6.1,6.5,6.2,7.1,6.5,4.1,5.3,3.5,8.0,7.2,6.8,6.8,7.3,7.2,6.4,6.4,6.0,6.6,6.1,4.7,7.9,5.9,7.3,8.1,2.0,7.2,6.2,7.8,7.9,4.6,7.8,4.4,7.0,4.0,5.8,6.4,6.2,5.3,3.5,5.7,8.7,5.7,6.8,6.8,4.5,8.6,7.3,9.4,2.9,6.9,7.0,6.6,8.0,4.9,6.7,7.7,7.3,6.4,6.8,7.6,5.9,5.7,7.2,7.4,7.1,7.8,7.3,8.1,6.4,4.4,4.3,5.7,4.6,5.7,6.5,6.9,6.0,6.7,7.4,5.2,7.1,4.5,7.0,6.8,5.9,3.3,7.3,4.2,6.6,5.5,4.4,4.4,4.9,7.0,5.9,5.9,7.3,6.4,6.6,5.9,5.8,7.1,4.1,6.4,5.9,7.3,7.9,5.9,4.1,1.8,5.4,6.3,6.9,5.0,4.1,7.6,4.3,6.7,4.4,6.9,5.1,5.2,5.5,7.2,3.2,7.9,4.9,5.7,3.4,4.2,5.7,5.4,2.6,6.8,4.2,5.0,7.6,6.3,6.7,6.5,5.6,6.7,7.6,5.3,6.1,6.3,7.0,4.8,5.1,2.4,7.3,7.2,6.0,7.7,5.2,7.3,8.0,5.2,3.8,4.5,6.4,6.2,6.6,6.0,4.8,7.5,7.0,3.9,4.7,5.0,5.6,4.6,2.4,8.3,5.6,6.1,7.0,5.6,7.0,4.5,6.5,5.9,5.1,8.1,5.5,5.0,6.9,4.8,6.8,5.9,5.8,6.6,4.5,8.1,3.5,5.0,7.8,8.0,3.7,6.8,6.2,6.9,6.5,7.0,4.4,5.5,4.2,6.6,5.5,5.5,6.6,8.2,6.6,5.8,5.1,5.7,4.2,7.3,6.5,3.3,7.0,7.8,7.2,7.5,6.7,7.4,8.2,7.1,6.9,6.8,5.2,3.8,7.4,4.4,5.6,6.9,6.0,4.2,4.1,4.8,4.9,6.9,5.6,4.8,4.5,5.8,8.0,5.0,5.3,6.8,8.5,7.7,7.3,5.5,7.0,7.0,4.7,8.2,6.0,7.4,4.5,5.1,3.7,4.5,7.0,6.8,7.2,6.6,6.5,6.4,6.6,5.3,3.2,2.8,5.7,6.0,5.8,5.0,7.8,6.7,6.0,6.7,5.4,6.7,6.9,7.8,7.1,5.3,3.8,7.2,5.2,5.2,6.5,7.1,7.2,5.6,5.0,7.3,6.1,7.3,3.7,6.2,5.3,5.6,8.9,7.5,2.9,4.3,7.1,4.9,5.1,7.2,8.1,5.9,5.3,6.5,6.6,6.6,5.6,5.4,6.6,3.7,6.7,3.8,3.7,4.5,5.4,5.5,7.2,4.4,6.9,6.7,7.6,6.6,6.6,6.5,4.5,7.8,6.0,6.3,5.9,6.8,6.5,5.4,6.8,6.4,4.6,7.1,4.1,5.7,7.7,7.1,5.6,4.8,4.9,3.8,6.9,4.3,4.2,7.5,6.0,7.9,5.2,1.6,6.9,7.3,5.4,6.5,5.0,4.6,4.9,7.3,4.9,5.8,5.5,6.8,5.1,3.9,6.0,4.5,9.0,6.4,4.8,6.2,7.6,4.6,7.6,6.4,7.1,6.4,3.3,7.6,8.1,3.9,2.7,5.2,5.7,7.7,5.9,6.5,4.4,5.4,3.5,3.7,4.2,6.3,5.6,7.1,2.7,7.0,6.0,6.6,5.1,7.2,7.0,5.1,3.3,5.4,6.7,3.2,3.4,4.5,4.7,5.4,6.1,4.4,6.3,6.4,4.6,3.4,7.6,5.8,3.9,4.3,5.4,6.4,6.0,4.7,6.8,3.6,6.6,5.2,4.7,4.4,3.3,7.1,5.2,4.4,6.1,3.8,3.7,4.9,4.1,3.4,6.0,8.0,7.5,8.6,6.5,7.2,3.0,5.2,4.8,6.4,6.8,7.2,4.6,7.8,5.1,5.7,5.9,7.0,6.2,7.7,7.4,4.8,4.1,4.9,5.3,4.6,7.9,6.2,4.0,5.0,4.7,5.6,6.0,4.9,3.8,6.8,6.3,5.5,5.3,6.0,5.5,6.2,3.0,3.3,7.6,3.2,7.6,6.3,7.7,6.4,6.4,5.4,7.1,5.4,4.7,4.4,6.9,5.8,3.6,4.8,5.3,4.9,7.1,3.9,7.1,6.5,7.0,6.8,2.8,2.7,6.0,8.2,3.7,5.5,8.2,4.4,6.0,5.7,4.0,5.7,4.3,5.6,6.1,6.2,5.8,4.5,6.2],\"xaxis\":\"x\",\"yaxis\":\"y\",\"type\":\"histogram\"}],                        {\"template\":{\"data\":{\"histogram2dcontour\":[{\"type\":\"histogram2dcontour\",\"colorbar\":{\"outlinewidth\":0,\"ticks\":\"\"},\"colorscale\":[[0.0,\"#0d0887\"],[0.1111111111111111,\"#46039f\"],[0.2222222222222222,\"#7201a8\"],[0.3333333333333333,\"#9c179e\"],[0.4444444444444444,\"#bd3786\"],[0.5555555555555556,\"#d8576b\"],[0.6666666666666666,\"#ed7953\"],[0.7777777777777778,\"#fb9f3a\"],[0.8888888888888888,\"#fdca26\"],[1.0,\"#f0f921\"]]}],\"choropleth\":[{\"type\":\"choropleth\",\"colorbar\":{\"outlinewidth\":0,\"ticks\":\"\"}}],\"histogram2d\":[{\"type\":\"histogram2d\",\"colorbar\":{\"outlinewidth\":0,\"ticks\":\"\"},\"colorscale\":[[0.0,\"#0d0887\"],[0.1111111111111111,\"#46039f\"],[0.2222222222222222,\"#7201a8\"],[0.3333333333333333,\"#9c179e\"],[0.4444444444444444,\"#bd3786\"],[0.5555555555555556,\"#d8576b\"],[0.6666666666666666,\"#ed7953\"],[0.7777777777777778,\"#fb9f3a\"],[0.8888888888888888,\"#fdca26\"],[1.0,\"#f0f921\"]]}],\"heatmap\":[{\"type\":\"heatmap\",\"colorbar\":{\"outlinewidth\":0,\"ticks\":\"\"},\"colorscale\":[[0.0,\"#0d0887\"],[0.1111111111111111,\"#46039f\"],[0.2222222222222222,\"#7201a8\"],[0.3333333333333333,\"#9c179e\"],[0.4444444444444444,\"#bd3786\"],[0.5555555555555556,\"#d8576b\"],[0.6666666666666666,\"#ed7953\"],[0.7777777777777778,\"#fb9f3a\"],[0.8888888888888888,\"#fdca26\"],[1.0,\"#f0f921\"]]}],\"heatmapgl\":[{\"type\":\"heatmapgl\",\"colorbar\":{\"outlinewidth\":0,\"ticks\":\"\"},\"colorscale\":[[0.0,\"#0d0887\"],[0.1111111111111111,\"#46039f\"],[0.2222222222222222,\"#7201a8\"],[0.3333333333333333,\"#9c179e\"],[0.4444444444444444,\"#bd3786\"],[0.5555555555555556,\"#d8576b\"],[0.6666666666666666,\"#ed7953\"],[0.7777777777777778,\"#fb9f3a\"],[0.8888888888888888,\"#fdca26\"],[1.0,\"#f0f921\"]]}],\"contourcarpet\":[{\"type\":\"contourcarpet\",\"colorbar\":{\"outlinewidth\":0,\"ticks\":\"\"}}],\"contour\":[{\"type\":\"contour\",\"colorbar\":{\"outlinewidth\":0,\"ticks\":\"\"},\"colorscale\":[[0.0,\"#0d0887\"],[0.1111111111111111,\"#46039f\"],[0.2222222222222222,\"#7201a8\"],[0.3333333333333333,\"#9c179e\"],[0.4444444444444444,\"#bd3786\"],[0.5555555555555556,\"#d8576b\"],[0.6666666666666666,\"#ed7953\"],[0.7777777777777778,\"#fb9f3a\"],[0.8888888888888888,\"#fdca26\"],[1.0,\"#f0f921\"]]}],\"surface\":[{\"type\":\"surface\",\"colorbar\":{\"outlinewidth\":0,\"ticks\":\"\"},\"colorscale\":[[0.0,\"#0d0887\"],[0.1111111111111111,\"#46039f\"],[0.2222222222222222,\"#7201a8\"],[0.3333333333333333,\"#9c179e\"],[0.4444444444444444,\"#bd3786\"],[0.5555555555555556,\"#d8576b\"],[0.6666666666666666,\"#ed7953\"],[0.7777777777777778,\"#fb9f3a\"],[0.8888888888888888,\"#fdca26\"],[1.0,\"#f0f921\"]]}],\"mesh3d\":[{\"type\":\"mesh3d\",\"colorbar\":{\"outlinewidth\":0,\"ticks\":\"\"}}],\"scatter\":[{\"fillpattern\":{\"fillmode\":\"overlay\",\"size\":10,\"solidity\":0.2},\"type\":\"scatter\"}],\"parcoords\":[{\"type\":\"parcoords\",\"line\":{\"colorbar\":{\"outlinewidth\":0,\"ticks\":\"\"}}}],\"scatterpolargl\":[{\"type\":\"scatterpolargl\",\"marker\":{\"colorbar\":{\"outlinewidth\":0,\"ticks\":\"\"}}}],\"bar\":[{\"error_x\":{\"color\":\"#2a3f5f\"},\"error_y\":{\"color\":\"#2a3f5f\"},\"marker\":{\"line\":{\"color\":\"#E5ECF6\",\"width\":0.5},\"pattern\":{\"fillmode\":\"overlay\",\"size\":10,\"solidity\":0.2}},\"type\":\"bar\"}],\"scattergeo\":[{\"type\":\"scattergeo\",\"marker\":{\"colorbar\":{\"outlinewidth\":0,\"ticks\":\"\"}}}],\"scatterpolar\":[{\"type\":\"scatterpolar\",\"marker\":{\"colorbar\":{\"outlinewidth\":0,\"ticks\":\"\"}}}],\"histogram\":[{\"marker\":{\"pattern\":{\"fillmode\":\"overlay\",\"size\":10,\"solidity\":0.2}},\"type\":\"histogram\"}],\"scattergl\":[{\"type\":\"scattergl\",\"marker\":{\"colorbar\":{\"outlinewidth\":0,\"ticks\":\"\"}}}],\"scatter3d\":[{\"type\":\"scatter3d\",\"line\":{\"colorbar\":{\"outlinewidth\":0,\"ticks\":\"\"}},\"marker\":{\"colorbar\":{\"outlinewidth\":0,\"ticks\":\"\"}}}],\"scattermapbox\":[{\"type\":\"scattermapbox\",\"marker\":{\"colorbar\":{\"outlinewidth\":0,\"ticks\":\"\"}}}],\"scatterternary\":[{\"type\":\"scatterternary\",\"marker\":{\"colorbar\":{\"outlinewidth\":0,\"ticks\":\"\"}}}],\"scattercarpet\":[{\"type\":\"scattercarpet\",\"marker\":{\"colorbar\":{\"outlinewidth\":0,\"ticks\":\"\"}}}],\"carpet\":[{\"aaxis\":{\"endlinecolor\":\"#2a3f5f\",\"gridcolor\":\"white\",\"linecolor\":\"white\",\"minorgridcolor\":\"white\",\"startlinecolor\":\"#2a3f5f\"},\"baxis\":{\"endlinecolor\":\"#2a3f5f\",\"gridcolor\":\"white\",\"linecolor\":\"white\",\"minorgridcolor\":\"white\",\"startlinecolor\":\"#2a3f5f\"},\"type\":\"carpet\"}],\"table\":[{\"cells\":{\"fill\":{\"color\":\"#EBF0F8\"},\"line\":{\"color\":\"white\"}},\"header\":{\"fill\":{\"color\":\"#C8D4E3\"},\"line\":{\"color\":\"white\"}},\"type\":\"table\"}],\"barpolar\":[{\"marker\":{\"line\":{\"color\":\"#E5ECF6\",\"width\":0.5},\"pattern\":{\"fillmode\":\"overlay\",\"size\":10,\"solidity\":0.2}},\"type\":\"barpolar\"}],\"pie\":[{\"automargin\":true,\"type\":\"pie\"}]},\"layout\":{\"autotypenumbers\":\"strict\",\"colorway\":[\"#636efa\",\"#EF553B\",\"#00cc96\",\"#ab63fa\",\"#FFA15A\",\"#19d3f3\",\"#FF6692\",\"#B6E880\",\"#FF97FF\",\"#FECB52\"],\"font\":{\"color\":\"#2a3f5f\"},\"hovermode\":\"closest\",\"hoverlabel\":{\"align\":\"left\"},\"paper_bgcolor\":\"white\",\"plot_bgcolor\":\"#E5ECF6\",\"polar\":{\"bgcolor\":\"#E5ECF6\",\"angularaxis\":{\"gridcolor\":\"white\",\"linecolor\":\"white\",\"ticks\":\"\"},\"radialaxis\":{\"gridcolor\":\"white\",\"linecolor\":\"white\",\"ticks\":\"\"}},\"ternary\":{\"bgcolor\":\"#E5ECF6\",\"aaxis\":{\"gridcolor\":\"white\",\"linecolor\":\"white\",\"ticks\":\"\"},\"baxis\":{\"gridcolor\":\"white\",\"linecolor\":\"white\",\"ticks\":\"\"},\"caxis\":{\"gridcolor\":\"white\",\"linecolor\":\"white\",\"ticks\":\"\"}},\"coloraxis\":{\"colorbar\":{\"outlinewidth\":0,\"ticks\":\"\"}},\"colorscale\":{\"sequential\":[[0.0,\"#0d0887\"],[0.1111111111111111,\"#46039f\"],[0.2222222222222222,\"#7201a8\"],[0.3333333333333333,\"#9c179e\"],[0.4444444444444444,\"#bd3786\"],[0.5555555555555556,\"#d8576b\"],[0.6666666666666666,\"#ed7953\"],[0.7777777777777778,\"#fb9f3a\"],[0.8888888888888888,\"#fdca26\"],[1.0,\"#f0f921\"]],\"sequentialminus\":[[0.0,\"#0d0887\"],[0.1111111111111111,\"#46039f\"],[0.2222222222222222,\"#7201a8\"],[0.3333333333333333,\"#9c179e\"],[0.4444444444444444,\"#bd3786\"],[0.5555555555555556,\"#d8576b\"],[0.6666666666666666,\"#ed7953\"],[0.7777777777777778,\"#fb9f3a\"],[0.8888888888888888,\"#fdca26\"],[1.0,\"#f0f921\"]],\"diverging\":[[0,\"#8e0152\"],[0.1,\"#c51b7d\"],[0.2,\"#de77ae\"],[0.3,\"#f1b6da\"],[0.4,\"#fde0ef\"],[0.5,\"#f7f7f7\"],[0.6,\"#e6f5d0\"],[0.7,\"#b8e186\"],[0.8,\"#7fbc41\"],[0.9,\"#4d9221\"],[1,\"#276419\"]]},\"xaxis\":{\"gridcolor\":\"white\",\"linecolor\":\"white\",\"ticks\":\"\",\"title\":{\"standoff\":15},\"zerolinecolor\":\"white\",\"automargin\":true,\"zerolinewidth\":2},\"yaxis\":{\"gridcolor\":\"white\",\"linecolor\":\"white\",\"ticks\":\"\",\"title\":{\"standoff\":15},\"zerolinecolor\":\"white\",\"automargin\":true,\"zerolinewidth\":2},\"scene\":{\"xaxis\":{\"backgroundcolor\":\"#E5ECF6\",\"gridcolor\":\"white\",\"linecolor\":\"white\",\"showbackground\":true,\"ticks\":\"\",\"zerolinecolor\":\"white\",\"gridwidth\":2},\"yaxis\":{\"backgroundcolor\":\"#E5ECF6\",\"gridcolor\":\"white\",\"linecolor\":\"white\",\"showbackground\":true,\"ticks\":\"\",\"zerolinecolor\":\"white\",\"gridwidth\":2},\"zaxis\":{\"backgroundcolor\":\"#E5ECF6\",\"gridcolor\":\"white\",\"linecolor\":\"white\",\"showbackground\":true,\"ticks\":\"\",\"zerolinecolor\":\"white\",\"gridwidth\":2}},\"shapedefaults\":{\"line\":{\"color\":\"#2a3f5f\"}},\"annotationdefaults\":{\"arrowcolor\":\"#2a3f5f\",\"arrowhead\":0,\"arrowwidth\":1},\"geo\":{\"bgcolor\":\"white\",\"landcolor\":\"#E5ECF6\",\"subunitcolor\":\"white\",\"showland\":true,\"showlakes\":true,\"lakecolor\":\"white\"},\"title\":{\"x\":0.05},\"mapbox\":{\"style\":\"light\"}}},\"xaxis\":{\"anchor\":\"y\",\"domain\":[0.0,1.0],\"title\":{\"text\":\"Rating\"}},\"yaxis\":{\"anchor\":\"x\",\"domain\":[0.0,1.0],\"title\":{\"text\":\" Probability Density\"}},\"legend\":{\"tracegroupgap\":0},\"margin\":{\"t\":60},\"barmode\":\"relative\",\"title\":{\"text\":\"Distribution of Rating\",\"x\":0.5,\"pad\":{\"t\":20},\"font\":{\"size\":20}}},                        {\"responsive\": true}                    ).then(function(){\n",
              "                            \n",
              "var gd = document.getElementById('5e27f470-bd03-4b2c-913e-f981ad3229f2');\n",
              "var x = new MutationObserver(function (mutations, observer) {{\n",
              "        var display = window.getComputedStyle(gd).display;\n",
              "        if (!display || display === 'none') {{\n",
              "            console.log([gd, 'removed!']);\n",
              "            Plotly.purge(gd);\n",
              "            observer.disconnect();\n",
              "        }}\n",
              "}});\n",
              "\n",
              "// Listen for the removal of the full notebook cells\n",
              "var notebookContainer = gd.closest('#notebook-container');\n",
              "if (notebookContainer) {{\n",
              "    x.observe(notebookContainer, {childList: true});\n",
              "}}\n",
              "\n",
              "// Listen for the clearing of the current output cell\n",
              "var outputEl = gd.closest('.output');\n",
              "if (outputEl) {{\n",
              "    x.observe(outputEl, {childList: true});\n",
              "}}\n",
              "\n",
              "                        })                };                            </script>        </div>\n",
              "</body>\n",
              "</html>"
            ]
          },
          "metadata": {},
          "output_type": "display_data"
        }
      ],
      "source": [
        "# Create and display a styled histogram showing the distribution of movie ratings using Plotly\n",
        "rating_fig = px.histogram(df_movie, x = 'Rating',histnorm = 'probability density',nbins =40)\n",
        "rating_fig.update_layout(title='Distribution of Rating',title_x=0.5, title_pad=dict(t=20), title_font=dict(size=20),xaxis_title='Rating',yaxis_title=' Probability Density')\n",
        "rating_fig.show()"
      ]
    },
    {
      "cell_type": "markdown",
      "metadata": {
        "id": "tLAebK50MjIW"
      },
      "source": [
        "**FEATURED ENGINEERING**"
      ]
    },
    {
      "cell_type": "code",
      "execution_count": 28,
      "metadata": {
        "id": "QAndvBPEIuyH"
      },
      "outputs": [],
      "source": [
        "from sklearn.linear_model import LinearRegression\n",
        "from sklearn.metrics import accuracy_score, mean_absolute_error, r2_score"
      ]
    },
    {
      "cell_type": "code",
      "execution_count": 29,
      "metadata": {
        "id": "ky3gJ5b7JuDU"
      },
      "outputs": [],
      "source": [
        "# Drop the 'Name' column from the 'df_movie' DataFrame permanently\n",
        "df_movie.drop('Name',axis =1,inplace=True)"
      ]
    },
    {
      "cell_type": "code",
      "execution_count": 30,
      "metadata": {
        "id": "q_AiUSQMOFF1"
      },
      "outputs": [],
      "source": [
        "# Encode 'Genre' by replacing each value with the mean rating of that genre\n",
        "genre_mean_rating =df_movie.groupby('Genre')['Rating'].transform('mean')\n",
        "df_movie['Genre_mean_rating'] = genre_mean_rating\n",
        "\n",
        "# Encode 'Director' by replacing each value with the mean rating of their movies\n",
        "director_mean_rating = df_movie.groupby('Director')['Rating'].transform('mean')\n",
        "df_movie['Director_encoded']= director_mean_rating\n",
        "\n",
        "# Encode 'Actor 1' by replacing each actor with the mean rating of movies they appeared in\n",
        "actor1_mean_rating = df_movie.groupby('Actor 1')['Rating'].transform('mean')\n",
        "df_movie['Actor1_encoded']= actor1_mean_rating\n",
        "\n",
        "# Encode 'Actor 2' by the mean movie rating of each actor\n",
        "actor2_mean_rating = df_movie.groupby('Actor 2')['Rating'].transform('mean')\n",
        "df_movie['Actor2_encoded']= actor2_mean_rating\n",
        "\n",
        "# Encode 'Actor 3' by the mean movie rating of each actor\n",
        "actor3_mean_rating = df_movie.groupby('Actor 3')['Rating'].transform('mean')\n",
        "df_movie['Actor3_encoded']= actor3_mean_rating\n"
      ]
    },
    {
      "cell_type": "code",
      "execution_count": 31,
      "metadata": {
        "id": "szvBHd2UObxs"
      },
      "outputs": [],
      "source": [
        "# Define feature matrix 'x' with selected columns and target variable 'y' as the movie 'Rating'\n",
        "x= df_movie[['Year','Votes','Duration','Genre_mean_rating','Actor1_encoded','Actor2_encoded','Actor3_encoded']]\n",
        "y = df_movie['Rating']"
      ]
    },
    {
      "cell_type": "code",
      "execution_count": 32,
      "metadata": {
        "id": "QPQq91FWQCQa"
      },
      "outputs": [],
      "source": [
        "# Split the data into training and testing sets (80% train, 20% test) with a fixed random seed\n",
        "x_train,x_test,y_train,y_test = train_test_split(x,y,test_size =0.2,random_state=42)"
      ]
    },
    {
      "cell_type": "markdown",
      "metadata": {
        "id": "HwJF7NklSQDj"
      },
      "source": [
        "**MODEL BUILDING**"
      ]
    },
    {
      "cell_type": "code",
      "execution_count": 33,
      "metadata": {
        "id": "nRqe8mvBQk1Z"
      },
      "outputs": [],
      "source": [
        "# Initialize and train a Linear Regression model, then make predictions on the test set\n",
        "Model =LinearRegression()\n",
        "Model.fit(x_train,y_train)\n",
        "Model_pred = Model.predict(x_test)\n"
      ]
    },
    {
      "cell_type": "code",
      "execution_count": 34,
      "metadata": {
        "colab": {
          "base_uri": "https://localhost:8080/"
        },
        "id": "rhx5Vv3JQpPg",
        "outputId": "f1f95004-0054-4879-966e-a0b85c66c64b"
      },
      "outputs": [
        {
          "name": "stdout",
          "output_type": "stream",
          "text": [
            "The performance evaluation of Logistic Regression is below :  \n",
            "\n",
            "Mean square error :  0.4975683021963814\n",
            "Mean absolute error :  0.5259067325094096\n",
            "R2 score :  0.7312974162293233\n"
          ]
        }
      ],
      "source": [
        "# Print evaluation metrics for the Linear Regression model using test data\n",
        "print('The performance evaluation of Logistic Regression is below : ','\\n')\n",
        "print('Mean square error : ',mean_squared_error(y_test,Model_pred))\n",
        "print('Mean absolute error : ',mean_absolute_error(y_test,Model_pred))\n",
        "print('R2 score : ', r2_score(y_test,Model_pred))"
      ]
    },
    {
      "cell_type": "markdown",
      "metadata": {
        "id": "LZrp9I_uUpad"
      },
      "source": [
        "**MODEL TESTING**"
      ]
    },
    {
      "cell_type": "code",
      "execution_count": 35,
      "metadata": {
        "colab": {
          "base_uri": "https://localhost:8080/",
          "height": 226
        },
        "id": "puc64TMSUH0h",
        "outputId": "ab942de1-6f19-4483-8c48-f0c6a924e40f"
      },
      "outputs": [
        {
          "data": {
            "application/vnd.google.colaboratory.intrinsic+json": {
              "summary": "{\n  \"name\": \"x\",\n  \"rows\": 5659,\n  \"fields\": [\n    {\n      \"column\": \"Year\",\n      \"properties\": {\n        \"dtype\": \"number\",\n        \"std\": 19,\n        \"min\": 1931,\n        \"max\": 2021,\n        \"num_unique_values\": 91,\n        \"samples\": [\n          1990,\n          1974,\n          1970\n        ],\n        \"semantic_type\": \"\",\n        \"description\": \"\"\n      }\n    },\n    {\n      \"column\": \"Votes\",\n      \"properties\": {\n        \"dtype\": \"number\",\n        \"std\": 13651,\n        \"min\": 5,\n        \"max\": 591417,\n        \"num_unique_values\": 2027,\n        \"samples\": [\n          2534,\n          8372,\n          21773\n        ],\n        \"semantic_type\": \"\",\n        \"description\": \"\"\n      }\n    },\n    {\n      \"column\": \"Duration\",\n      \"properties\": {\n        \"dtype\": \"number\",\n        \"std\": 25,\n        \"min\": 21,\n        \"max\": 321,\n        \"num_unique_values\": 174,\n        \"samples\": [\n          197,\n          247,\n          86\n        ],\n        \"semantic_type\": \"\",\n        \"description\": \"\"\n      }\n    },\n    {\n      \"column\": \"Genre_mean_rating\",\n      \"properties\": {\n        \"dtype\": \"number\",\n        \"std\": 0.5938620983737103,\n        \"min\": 2.4,\n        \"max\": 9.4,\n        \"num_unique_values\": 219,\n        \"samples\": [\n          5.464285714285714,\n          5.1,\n          4.5\n        ],\n        \"semantic_type\": \"\",\n        \"description\": \"\"\n      }\n    },\n    {\n      \"column\": \"Actor1_encoded\",\n      \"properties\": {\n        \"dtype\": \"number\",\n        \"std\": 1.03721769323517,\n        \"min\": 1.4,\n        \"max\": 10.0,\n        \"num_unique_values\": 386,\n        \"samples\": [\n          3.9333333333333336,\n          5.733333333333333,\n          4.2\n        ],\n        \"semantic_type\": \"\",\n        \"description\": \"\"\n      }\n    },\n    {\n      \"column\": \"Actor2_encoded\",\n      \"properties\": {\n        \"dtype\": \"number\",\n        \"std\": 1.0607525945926553,\n        \"min\": 1.6,\n        \"max\": 10.0,\n        \"num_unique_values\": 429,\n        \"samples\": [\n          7.449999999999999,\n          2.7,\n          7.65\n        ],\n        \"semantic_type\": \"\",\n        \"description\": \"\"\n      }\n    },\n    {\n      \"column\": \"Actor3_encoded\",\n      \"properties\": {\n        \"dtype\": \"number\",\n        \"std\": 1.0721701360078062,\n        \"min\": 1.7,\n        \"max\": 10.0,\n        \"num_unique_values\": 428,\n        \"samples\": [\n          6.633333333333333,\n          5.456666666666666,\n          5.35\n        ],\n        \"semantic_type\": \"\",\n        \"description\": \"\"\n      }\n    }\n  ]\n}",
              "type": "dataframe",
              "variable_name": "x"
            },
            "text/html": [
              "\n",
              "  <div id=\"df-a8053ea0-fcb0-4bd9-8055-177468bec737\" class=\"colab-df-container\">\n",
              "    <div>\n",
              "<style scoped>\n",
              "    .dataframe tbody tr th:only-of-type {\n",
              "        vertical-align: middle;\n",
              "    }\n",
              "\n",
              "    .dataframe tbody tr th {\n",
              "        vertical-align: top;\n",
              "    }\n",
              "\n",
              "    .dataframe thead th {\n",
              "        text-align: right;\n",
              "    }\n",
              "</style>\n",
              "<table border=\"1\" class=\"dataframe\">\n",
              "  <thead>\n",
              "    <tr style=\"text-align: right;\">\n",
              "      <th></th>\n",
              "      <th>Year</th>\n",
              "      <th>Votes</th>\n",
              "      <th>Duration</th>\n",
              "      <th>Genre_mean_rating</th>\n",
              "      <th>Actor1_encoded</th>\n",
              "      <th>Actor2_encoded</th>\n",
              "      <th>Actor3_encoded</th>\n",
              "    </tr>\n",
              "  </thead>\n",
              "  <tbody>\n",
              "    <tr>\n",
              "      <th>1</th>\n",
              "      <td>2019</td>\n",
              "      <td>8</td>\n",
              "      <td>109</td>\n",
              "      <td>6.415521</td>\n",
              "      <td>6.850000</td>\n",
              "      <td>7.000000</td>\n",
              "      <td>7.000000</td>\n",
              "    </tr>\n",
              "    <tr>\n",
              "      <th>3</th>\n",
              "      <td>2019</td>\n",
              "      <td>35</td>\n",
              "      <td>110</td>\n",
              "      <td>5.716822</td>\n",
              "      <td>5.420000</td>\n",
              "      <td>4.400000</td>\n",
              "      <td>4.450000</td>\n",
              "    </tr>\n",
              "    <tr>\n",
              "      <th>5</th>\n",
              "      <td>1997</td>\n",
              "      <td>827</td>\n",
              "      <td>147</td>\n",
              "      <td>6.242222</td>\n",
              "      <td>4.788889</td>\n",
              "      <td>5.786667</td>\n",
              "      <td>5.872727</td>\n",
              "    </tr>\n",
              "    <tr>\n",
              "      <th>6</th>\n",
              "      <td>2005</td>\n",
              "      <td>1086</td>\n",
              "      <td>142</td>\n",
              "      <td>6.820000</td>\n",
              "      <td>5.435000</td>\n",
              "      <td>6.933333</td>\n",
              "      <td>6.500000</td>\n",
              "    </tr>\n",
              "    <tr>\n",
              "      <th>8</th>\n",
              "      <td>2012</td>\n",
              "      <td>326</td>\n",
              "      <td>82</td>\n",
              "      <td>5.477778</td>\n",
              "      <td>5.600000</td>\n",
              "      <td>5.883333</td>\n",
              "      <td>5.600000</td>\n",
              "    </tr>\n",
              "  </tbody>\n",
              "</table>\n",
              "</div>\n",
              "    <div class=\"colab-df-buttons\">\n",
              "\n",
              "  <div class=\"colab-df-container\">\n",
              "    <button class=\"colab-df-convert\" onclick=\"convertToInteractive('df-a8053ea0-fcb0-4bd9-8055-177468bec737')\"\n",
              "            title=\"Convert this dataframe to an interactive table.\"\n",
              "            style=\"display:none;\">\n",
              "\n",
              "  <svg xmlns=\"http://www.w3.org/2000/svg\" height=\"24px\" viewBox=\"0 -960 960 960\">\n",
              "    <path d=\"M120-120v-720h720v720H120Zm60-500h600v-160H180v160Zm220 220h160v-160H400v160Zm0 220h160v-160H400v160ZM180-400h160v-160H180v160Zm440 0h160v-160H620v160ZM180-180h160v-160H180v160Zm440 0h160v-160H620v160Z\"/>\n",
              "  </svg>\n",
              "    </button>\n",
              "\n",
              "  <style>\n",
              "    .colab-df-container {\n",
              "      display:flex;\n",
              "      gap: 12px;\n",
              "    }\n",
              "\n",
              "    .colab-df-convert {\n",
              "      background-color: #E8F0FE;\n",
              "      border: none;\n",
              "      border-radius: 50%;\n",
              "      cursor: pointer;\n",
              "      display: none;\n",
              "      fill: #1967D2;\n",
              "      height: 32px;\n",
              "      padding: 0 0 0 0;\n",
              "      width: 32px;\n",
              "    }\n",
              "\n",
              "    .colab-df-convert:hover {\n",
              "      background-color: #E2EBFA;\n",
              "      box-shadow: 0px 1px 2px rgba(60, 64, 67, 0.3), 0px 1px 3px 1px rgba(60, 64, 67, 0.15);\n",
              "      fill: #174EA6;\n",
              "    }\n",
              "\n",
              "    .colab-df-buttons div {\n",
              "      margin-bottom: 4px;\n",
              "    }\n",
              "\n",
              "    [theme=dark] .colab-df-convert {\n",
              "      background-color: #3B4455;\n",
              "      fill: #D2E3FC;\n",
              "    }\n",
              "\n",
              "    [theme=dark] .colab-df-convert:hover {\n",
              "      background-color: #434B5C;\n",
              "      box-shadow: 0px 1px 3px 1px rgba(0, 0, 0, 0.15);\n",
              "      filter: drop-shadow(0px 1px 2px rgba(0, 0, 0, 0.3));\n",
              "      fill: #FFFFFF;\n",
              "    }\n",
              "  </style>\n",
              "\n",
              "    <script>\n",
              "      const buttonEl =\n",
              "        document.querySelector('#df-a8053ea0-fcb0-4bd9-8055-177468bec737 button.colab-df-convert');\n",
              "      buttonEl.style.display =\n",
              "        google.colab.kernel.accessAllowed ? 'block' : 'none';\n",
              "\n",
              "      async function convertToInteractive(key) {\n",
              "        const element = document.querySelector('#df-a8053ea0-fcb0-4bd9-8055-177468bec737');\n",
              "        const dataTable =\n",
              "          await google.colab.kernel.invokeFunction('convertToInteractive',\n",
              "                                                    [key], {});\n",
              "        if (!dataTable) return;\n",
              "\n",
              "        const docLinkHtml = 'Like what you see? Visit the ' +\n",
              "          '<a target=\"_blank\" href=https://colab.research.google.com/notebooks/data_table.ipynb>data table notebook</a>'\n",
              "          + ' to learn more about interactive tables.';\n",
              "        element.innerHTML = '';\n",
              "        dataTable['output_type'] = 'display_data';\n",
              "        await google.colab.output.renderOutput(dataTable, element);\n",
              "        const docLink = document.createElement('div');\n",
              "        docLink.innerHTML = docLinkHtml;\n",
              "        element.appendChild(docLink);\n",
              "      }\n",
              "    </script>\n",
              "  </div>\n",
              "\n",
              "\n",
              "    <div id=\"df-5cae53b3-e5ec-4e78-8db0-8a2c907250cc\">\n",
              "      <button class=\"colab-df-quickchart\" onclick=\"quickchart('df-5cae53b3-e5ec-4e78-8db0-8a2c907250cc')\"\n",
              "                title=\"Suggest charts\"\n",
              "                style=\"display:none;\">\n",
              "\n",
              "<svg xmlns=\"http://www.w3.org/2000/svg\" height=\"24px\"viewBox=\"0 0 24 24\"\n",
              "     width=\"24px\">\n",
              "    <g>\n",
              "        <path d=\"M19 3H5c-1.1 0-2 .9-2 2v14c0 1.1.9 2 2 2h14c1.1 0 2-.9 2-2V5c0-1.1-.9-2-2-2zM9 17H7v-7h2v7zm4 0h-2V7h2v10zm4 0h-2v-4h2v4z\"/>\n",
              "    </g>\n",
              "</svg>\n",
              "      </button>\n",
              "\n",
              "<style>\n",
              "  .colab-df-quickchart {\n",
              "      --bg-color: #E8F0FE;\n",
              "      --fill-color: #1967D2;\n",
              "      --hover-bg-color: #E2EBFA;\n",
              "      --hover-fill-color: #174EA6;\n",
              "      --disabled-fill-color: #AAA;\n",
              "      --disabled-bg-color: #DDD;\n",
              "  }\n",
              "\n",
              "  [theme=dark] .colab-df-quickchart {\n",
              "      --bg-color: #3B4455;\n",
              "      --fill-color: #D2E3FC;\n",
              "      --hover-bg-color: #434B5C;\n",
              "      --hover-fill-color: #FFFFFF;\n",
              "      --disabled-bg-color: #3B4455;\n",
              "      --disabled-fill-color: #666;\n",
              "  }\n",
              "\n",
              "  .colab-df-quickchart {\n",
              "    background-color: var(--bg-color);\n",
              "    border: none;\n",
              "    border-radius: 50%;\n",
              "    cursor: pointer;\n",
              "    display: none;\n",
              "    fill: var(--fill-color);\n",
              "    height: 32px;\n",
              "    padding: 0;\n",
              "    width: 32px;\n",
              "  }\n",
              "\n",
              "  .colab-df-quickchart:hover {\n",
              "    background-color: var(--hover-bg-color);\n",
              "    box-shadow: 0 1px 2px rgba(60, 64, 67, 0.3), 0 1px 3px 1px rgba(60, 64, 67, 0.15);\n",
              "    fill: var(--button-hover-fill-color);\n",
              "  }\n",
              "\n",
              "  .colab-df-quickchart-complete:disabled,\n",
              "  .colab-df-quickchart-complete:disabled:hover {\n",
              "    background-color: var(--disabled-bg-color);\n",
              "    fill: var(--disabled-fill-color);\n",
              "    box-shadow: none;\n",
              "  }\n",
              "\n",
              "  .colab-df-spinner {\n",
              "    border: 2px solid var(--fill-color);\n",
              "    border-color: transparent;\n",
              "    border-bottom-color: var(--fill-color);\n",
              "    animation:\n",
              "      spin 1s steps(1) infinite;\n",
              "  }\n",
              "\n",
              "  @keyframes spin {\n",
              "    0% {\n",
              "      border-color: transparent;\n",
              "      border-bottom-color: var(--fill-color);\n",
              "      border-left-color: var(--fill-color);\n",
              "    }\n",
              "    20% {\n",
              "      border-color: transparent;\n",
              "      border-left-color: var(--fill-color);\n",
              "      border-top-color: var(--fill-color);\n",
              "    }\n",
              "    30% {\n",
              "      border-color: transparent;\n",
              "      border-left-color: var(--fill-color);\n",
              "      border-top-color: var(--fill-color);\n",
              "      border-right-color: var(--fill-color);\n",
              "    }\n",
              "    40% {\n",
              "      border-color: transparent;\n",
              "      border-right-color: var(--fill-color);\n",
              "      border-top-color: var(--fill-color);\n",
              "    }\n",
              "    60% {\n",
              "      border-color: transparent;\n",
              "      border-right-color: var(--fill-color);\n",
              "    }\n",
              "    80% {\n",
              "      border-color: transparent;\n",
              "      border-right-color: var(--fill-color);\n",
              "      border-bottom-color: var(--fill-color);\n",
              "    }\n",
              "    90% {\n",
              "      border-color: transparent;\n",
              "      border-bottom-color: var(--fill-color);\n",
              "    }\n",
              "  }\n",
              "</style>\n",
              "\n",
              "      <script>\n",
              "        async function quickchart(key) {\n",
              "          const quickchartButtonEl =\n",
              "            document.querySelector('#' + key + ' button');\n",
              "          quickchartButtonEl.disabled = true;  // To prevent multiple clicks.\n",
              "          quickchartButtonEl.classList.add('colab-df-spinner');\n",
              "          try {\n",
              "            const charts = await google.colab.kernel.invokeFunction(\n",
              "                'suggestCharts', [key], {});\n",
              "          } catch (error) {\n",
              "            console.error('Error during call to suggestCharts:', error);\n",
              "          }\n",
              "          quickchartButtonEl.classList.remove('colab-df-spinner');\n",
              "          quickchartButtonEl.classList.add('colab-df-quickchart-complete');\n",
              "        }\n",
              "        (() => {\n",
              "          let quickchartButtonEl =\n",
              "            document.querySelector('#df-5cae53b3-e5ec-4e78-8db0-8a2c907250cc button');\n",
              "          quickchartButtonEl.style.display =\n",
              "            google.colab.kernel.accessAllowed ? 'block' : 'none';\n",
              "        })();\n",
              "      </script>\n",
              "    </div>\n",
              "\n",
              "    </div>\n",
              "  </div>\n"
            ],
            "text/plain": [
              "   Year  Votes  Duration  Genre_mean_rating  Actor1_encoded  Actor2_encoded  \\\n",
              "1  2019      8       109           6.415521        6.850000        7.000000   \n",
              "3  2019     35       110           5.716822        5.420000        4.400000   \n",
              "5  1997    827       147           6.242222        4.788889        5.786667   \n",
              "6  2005   1086       142           6.820000        5.435000        6.933333   \n",
              "8  2012    326        82           5.477778        5.600000        5.883333   \n",
              "\n",
              "   Actor3_encoded  \n",
              "1        7.000000  \n",
              "3        4.450000  \n",
              "5        5.872727  \n",
              "6        6.500000  \n",
              "8        5.600000  "
            ]
          },
          "execution_count": 35,
          "metadata": {},
          "output_type": "execute_result"
        }
      ],
      "source": [
        "# Display the first 5 rows of the feature matrix 'x' to inspect input data\n",
        "x.head(5)"
      ]
    },
    {
      "cell_type": "code",
      "execution_count": 36,
      "metadata": {
        "colab": {
          "base_uri": "https://localhost:8080/",
          "height": 241
        },
        "id": "8Txbr8UdU2Ga",
        "outputId": "0cda9a17-c9ad-418b-b05f-0e1311ce6029"
      },
      "outputs": [
        {
          "data": {
            "text/html": [
              "<div>\n",
              "<style scoped>\n",
              "    .dataframe tbody tr th:only-of-type {\n",
              "        vertical-align: middle;\n",
              "    }\n",
              "\n",
              "    .dataframe tbody tr th {\n",
              "        vertical-align: top;\n",
              "    }\n",
              "\n",
              "    .dataframe thead th {\n",
              "        text-align: right;\n",
              "    }\n",
              "</style>\n",
              "<table border=\"1\" class=\"dataframe\">\n",
              "  <thead>\n",
              "    <tr style=\"text-align: right;\">\n",
              "      <th></th>\n",
              "      <th>Rating</th>\n",
              "    </tr>\n",
              "  </thead>\n",
              "  <tbody>\n",
              "    <tr>\n",
              "      <th>1</th>\n",
              "      <td>7.0</td>\n",
              "    </tr>\n",
              "    <tr>\n",
              "      <th>3</th>\n",
              "      <td>4.4</td>\n",
              "    </tr>\n",
              "    <tr>\n",
              "      <th>5</th>\n",
              "      <td>4.7</td>\n",
              "    </tr>\n",
              "    <tr>\n",
              "      <th>6</th>\n",
              "      <td>7.4</td>\n",
              "    </tr>\n",
              "    <tr>\n",
              "      <th>8</th>\n",
              "      <td>5.6</td>\n",
              "    </tr>\n",
              "  </tbody>\n",
              "</table>\n",
              "</div><br><label><b>dtype:</b> float64</label>"
            ],
            "text/plain": [
              "1    7.0\n",
              "3    4.4\n",
              "5    4.7\n",
              "6    7.4\n",
              "8    5.6\n",
              "Name: Rating, dtype: float64"
            ]
          },
          "execution_count": 36,
          "metadata": {},
          "output_type": "execute_result"
        }
      ],
      "source": [
        "# Display the first 5 values of the target variable 'y' (movie ratings)\n",
        "y.head(5)"
      ]
    },
    {
      "cell_type": "code",
      "execution_count": null,
      "metadata": {
        "colab": {
          "base_uri": "https://localhost:8080/"
        },
        "id": "JJg7XGtEW-_U",
        "outputId": "38a55724-fc5f-4c4f-ebdd-52fa69801753"
      },
      "outputs": [
        {
          "name": "stdout",
          "output_type": "stream",
          "text": [
            "Predicted Rating: 4.22622986440074\n"
          ]
        }
      ],
      "source": [
        "\n",
        "# Create the input data\n",
        "data = {\n",
        "    'Year': [2019],\n",
        "    'Votes': [35],\n",
        "    'Duration': [111],\n",
        "    'Genre_mean_rating': [5.8],\n",
        "    'Director_encoded': [4.5],\n",
        "    'Actor1_encoded': [5.2],\n",
        "    'Actor2_encoded': [4.4],\n",
        "    'Actor3_encoded': [4.4]\n",
        "}\n",
        "trail = pd.DataFrame(data)\n",
        "\n",
        "# Match the columns to the model's expected features\n",
        "trail = trail[[col for col in Model.feature_names_in_ if col in trail.columns]]\n",
        "\n",
        "# Predict the rating\n",
        "rating_predicted = Model.predict(trail)\n",
        "\n",
        "# Print the result\n",
        "print(\"Predicted Rating:\", rating_predicted[0])"
      ]
    }
  ],
  "metadata": {
    "colab": {
      "provenance": []
    },
    "kernelspec": {
      "display_name": "Python 3",
      "name": "python3"
    },
    "language_info": {
      "name": "python"
    }
  },
  "nbformat": 4,
  "nbformat_minor": 0
}
